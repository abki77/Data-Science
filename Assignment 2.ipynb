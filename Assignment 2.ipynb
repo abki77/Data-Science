{
 "cells": [
  {
   "cell_type": "markdown",
   "metadata": {},
   "source": [
    "# Assignment 2 \n",
    "\n",
    "## Task1\n",
    "\n",
    "Q 1.1 : Write a Python Program to implement your own myreduce() function which works exactly like\n",
    "Python's built-in function reduce()\n",
    "\n",
    "Ans: Code and result is given below :\n",
    "\n"
   ]
  },
  {
   "cell_type": "code",
   "execution_count": 6,
   "metadata": {},
   "outputs": [
    {
     "data": {
      "text/plain": [
       "1350"
      ]
     },
     "execution_count": 6,
     "metadata": {},
     "output_type": "execute_result"
    }
   ],
   "source": [
    "def myreduce(func1, sequence1):\n",
    "    count=0\n",
    "    for i in sequence1:\n",
    "        count = count+1\n",
    "        if count ==1: \n",
    "            temp1= i\n",
    "        elif count==2:\n",
    "            temp2 = i \n",
    "            temp3= func1(temp1, temp2)\n",
    "        else:\n",
    "            temp1 = i \n",
    "            temp2 = temp3\n",
    "            temp3 = func1(temp1, temp2)\n",
    "    \n",
    "    if count==0:\n",
    "        return 0\n",
    "    elif count==1:\n",
    "        return temp1\n",
    "    else:\n",
    "        return temp3 \n",
    "    \n",
    "\n",
    "lst1 = [1,3,5,9,10]\n",
    "myreduce(lambda a,b:a*b , lst1)\n",
    "        \n",
    "        \n",
    "        "
   ]
  },
  {
   "cell_type": "markdown",
   "metadata": {},
   "source": [
    "Q 1.2 : Write a Python program to implement your own myfilter() function which works exactly like\n",
    "Python's built-in function filter()\n",
    "\n",
    "Ans: Code and result is given below :"
   ]
  },
  {
   "cell_type": "code",
   "execution_count": 18,
   "metadata": {},
   "outputs": [
    {
     "data": {
      "text/plain": [
       "[9, 10]"
      ]
     },
     "execution_count": 18,
     "metadata": {},
     "output_type": "execute_result"
    }
   ],
   "source": [
    "def myfilter(func1, sequence1):\n",
    "    lst1=[]\n",
    "    for i in sequence1:\n",
    "        if (func1(i) == True):\n",
    "            lst1.append(i)\n",
    "        else:\n",
    "            pass\n",
    "    return iter(lst1) \n",
    "\n",
    "lst1 = [1,3,5,9,10]\n",
    "list(myfilter(lambda a: True if a >6 else False  , lst1))\n",
    "\n"
   ]
  },
  {
   "cell_type": "markdown",
   "metadata": {},
   "source": [
    "Q2 : Implement List comprehensions to produce the following lists.\n",
    "Write List comprehensions to produce the following Lists\n",
    "\n",
    "['A', 'C', 'A', 'D', 'G', 'I', ’L’, ‘ D’]\n",
    "\n",
    "['x', 'xx', 'xxx', 'xxxx', 'y', 'yy', 'yyy', 'yyyy', 'z', 'zz', 'zzz', 'zzzz']\n",
    "\n",
    "['x', 'y', 'z', 'xx', 'yy', 'zz', 'xx', 'yy', 'zz', 'xxxx', 'yyyy', 'zzzz']\n",
    "\n",
    "[[2], [3], [4], [3], [4], [5], [4], [5], [6]]\n",
    "\n",
    "[[2, 3, 4, 5], [3, 4, 5, 6], [4, 5, 6, 7], [5, 6, 7, 8]]\n",
    "\n",
    "[(1, 1), (2, 1), (3, 1), (1, 2), (2, 2), (3, 2), (1, 3), (2, 3), (3, 3)]\n"
   ]
  },
  {
   "cell_type": "code",
   "execution_count": 26,
   "metadata": {},
   "outputs": [
    {
     "data": {
      "text/plain": [
       "['A', 'C', 'A', 'D', 'G', 'I', 'L', 'D']"
      ]
     },
     "execution_count": 26,
     "metadata": {},
     "output_type": "execute_result"
    }
   ],
   "source": [
    "string1 = 'ACADGILD'\n",
    "comp1  =[x for x in string1]\n",
    "comp1"
   ]
  },
  {
   "cell_type": "code",
   "execution_count": 77,
   "metadata": {},
   "outputs": [
    {
     "data": {
      "text/plain": [
       "['x', 'xx', 'xxx', 'xxxx', 'y', 'yy', 'yyy', 'yyyy', 'z', 'zz', 'zzz', 'zzzz']"
      ]
     },
     "execution_count": 77,
     "metadata": {},
     "output_type": "execute_result"
    }
   ],
   "source": [
    "comp2=[x for x in ['x','x'*2, 'x'*3,'x'*4,'y','y'*2, 'y'*3,'y'*4,'z','z'*2, 'z'*3,'z'*4]]\n",
    "comp2"
   ]
  },
  {
   "cell_type": "code",
   "execution_count": 79,
   "metadata": {},
   "outputs": [
    {
     "data": {
      "text/plain": [
       "['x', 'y', 'z', 'xx', 'yy', 'zz', 'xxx', 'yyy', 'zzz', 'xxxx', 'yyyy', 'zzzz']"
      ]
     },
     "execution_count": 79,
     "metadata": {},
     "output_type": "execute_result"
    }
   ],
   "source": [
    "comp3=[x for x in ['x','y','z','x'*2,'y'*2,'z'*2, 'x'*3,'y'*3,'z'*3,'x'*4, 'y'*4, 'z'*4]]\n",
    "comp3"
   ]
  },
  {
   "cell_type": "code",
   "execution_count": 199,
   "metadata": {},
   "outputs": [
    {
     "data": {
      "text/plain": [
       "[[2], [3], [4], [3], [4], [5], [4], [5], [6]]"
      ]
     },
     "execution_count": 199,
     "metadata": {},
     "output_type": "execute_result"
    }
   ],
   "source": [
    "def make_list(value):\n",
    "    final_list=[]\n",
    "    for i in range(3):\n",
    "        value1 = value + i \n",
    "        for j in range(3):\n",
    "            final_list.append([value1 + j])\n",
    "        \n",
    "    return final_list\n",
    "\n",
    "comp4=[x  for x in make_list(2)]\n",
    "comp4\n"
   ]
  },
  {
   "cell_type": "code",
   "execution_count": 109,
   "metadata": {},
   "outputs": [
    {
     "data": {
      "text/plain": [
       "[[2, 3, 4, 5], [3, 4, 5, 6], [4, 5, 6, 7], [5, 6, 7, 8]]"
      ]
     },
     "execution_count": 109,
     "metadata": {},
     "output_type": "execute_result"
    }
   ],
   "source": [
    "comp5=[ x for x in map(lambda x : [x,x+1,x+2,x+3], [2,3,4,5])]\n",
    "comp5"
   ]
  },
  {
   "cell_type": "code",
   "execution_count": 203,
   "metadata": {},
   "outputs": [
    {
     "data": {
      "text/plain": [
       "[(1, 1), (2, 1), (3, 1), (1, 2), (2, 2), (3, 2), (1, 3), (2, 3), (3, 3)]"
      ]
     },
     "execution_count": 203,
     "metadata": {},
     "output_type": "execute_result"
    }
   ],
   "source": [
    "def make_list1(value):\n",
    "    final_list=[]\n",
    "    tuple1=()\n",
    "    for i in range(value):\n",
    "        value1 = value + i \n",
    "        for j in range(value):\n",
    "            tuple1 = (j+1,i+1)\n",
    "            final_list.append(tuple1)\n",
    "        \n",
    "    return final_list\n",
    "\n",
    "comp4=[x  for x in make_list1(3)]\n",
    "comp4"
   ]
  },
  {
   "cell_type": "markdown",
   "metadata": {},
   "source": [
    "Q 3 :\n",
    "\n",
    "Implement a function longestWord() that takes a list of words and returns the longest one.\n",
    "\n",
    "Ans : Code and output is given below :\n"
   ]
  },
  {
   "cell_type": "code",
   "execution_count": 207,
   "metadata": {},
   "outputs": [
    {
     "data": {
      "text/plain": [
       "'countdown'"
      ]
     },
     "execution_count": 207,
     "metadata": {},
     "output_type": "execute_result"
    }
   ],
   "source": [
    "def longestWord(wordlist):\n",
    "    count = 1 \n",
    "    for i in wordlist:\n",
    "        if count == 1: \n",
    "            length1 = len(i)\n",
    "            word =i\n",
    "            count = count+1\n",
    "        else :\n",
    "            length2 = len(i)\n",
    "            if length1 < length2 :\n",
    "                length1= length2\n",
    "                word =i \n",
    "            else :\n",
    "                pass\n",
    "            count= count+1\n",
    "    return word\n",
    "\n",
    "wordlist=['Abhi', 'Length', 'countdown','I']\n",
    "longestWord(wordlist)"
   ]
  },
  {
   "cell_type": "markdown",
   "metadata": {},
   "source": [
    "# Task 2 \n",
    "\n",
    "Q1.1: Write a Python Program(with class concepts) to find the area of the triangle using the below\n",
    "formula.\n",
    "area = (s*(s-a)*(s-b)*(s-c)) ** 0.5\n",
    "Function to take the length of the sides of triangle from user should be defined in the parent\n",
    "class and function to calculate the area should be defined in subclass.\n",
    "\n",
    "Ans: Code and Result is given below : "
   ]
  },
  {
   "cell_type": "code",
   "execution_count": 231,
   "metadata": {},
   "outputs": [
    {
     "name": "stdout",
     "output_type": "stream",
     "text": [
      " provide the legnth of first side of traingle 30\n",
      " provide the legnth of second side of traingle 50\n",
      " provide the legnth of third side of traingle 70\n",
      "Area of triangle is %f 649.519052838329\n"
     ]
    }
   ],
   "source": [
    "class Traingle:\n",
    "    def setSideLength(self):\n",
    "        self.side1 = float(input (\" provide the legnth of first side of traingle \"))\n",
    "        self.side2 =float(input (\" provide the legnth of second side of traingle \"))\n",
    "        self.side3 = float(input (\" provide the legnth of third side of traingle \"))\n",
    "\n",
    "class areaOfTraingle(Traingle):\n",
    "    def calculate_area(self):\n",
    "        self.perimeter = (self.side1+ self.side2+self.side3)/2 \n",
    "        Area = (self.perimeter*(self.perimeter- self.side1)*(self.perimeter- self.side2)*(self.perimeter- self.side3))**0.5\n",
    "        print(\"Area of triangle is %f\" , Area)\n",
    "        \n",
    "\n",
    "Area= areaOfTraingle()\n",
    "Area.setSideLength()\n",
    "Area.calculate_area()"
   ]
  },
  {
   "cell_type": "markdown",
   "metadata": {},
   "source": [
    "Q1.2: Write a function filter_long_words() that takes a list of words and an integer n and returns the list\n",
    "of words that are longer than n.\n",
    "\n",
    "\n",
    "Ans: Code and Result is given below :\n",
    "\n"
   ]
  },
  {
   "cell_type": "code",
   "execution_count": 236,
   "metadata": {},
   "outputs": [
    {
     "data": {
      "text/plain": [
       "['manish', 'Vibrant']"
      ]
     },
     "execution_count": 236,
     "metadata": {},
     "output_type": "execute_result"
    }
   ],
   "source": [
    "def filter_long_words(wordlist, length):\n",
    "    final_list=[]\n",
    "    for i in wordlist:\n",
    "        if len(i)>length:\n",
    "            final_list.append(i)\n",
    "            \n",
    "    return final_list\n",
    "\n",
    "word_list = ['Abhi','manish','Happy','Tea','Vibrant']\n",
    "filter_long_words(word_list, 5)\n",
    "            "
   ]
  },
  {
   "cell_type": "markdown",
   "metadata": {},
   "source": [
    "q 2.1: Write a Python program using function concept that maps list of words into a list of integers\n",
    "representing the lengths of the corresponding words .\n",
    "Hint: If a list [ ab,cde,erty] is passed on to the python function output should come as [2,3,4]\n",
    "Here 2,3 and 4 are the lengths of the words in the list.\n",
    "\n",
    "\n",
    "Ans: Code and Result is given below :"
   ]
  },
  {
   "cell_type": "code",
   "execution_count": 237,
   "metadata": {},
   "outputs": [
    {
     "data": {
      "text/plain": [
       "[4, 6, 5, 3, 7]"
      ]
     },
     "execution_count": 237,
     "metadata": {},
     "output_type": "execute_result"
    }
   ],
   "source": [
    "def listObjectLength(wordlist):\n",
    "    final_list = []\n",
    "    for i in wordlist:\n",
    "         final_list.append(len(i))\n",
    "    return final_list\n",
    "\n",
    "word_list = ['Abhi','manish','Happy','Tea','Vibrant']\n",
    "listObjectLength(word_list)"
   ]
  },
  {
   "cell_type": "markdown",
   "metadata": {},
   "source": [
    "2.2\n",
    "Write a Python function which takes a character (i.e. a string of length 1) and returns True if it is\n",
    "a vowel, False otherwise.\n",
    "\n",
    "Ans: Code and Result is given below :\n"
   ]
  },
  {
   "cell_type": "code",
   "execution_count": 240,
   "metadata": {},
   "outputs": [
    {
     "name": "stdout",
     "output_type": "stream",
     "text": [
      " please input the character a\n",
      "character is vowel\n"
     ]
    }
   ],
   "source": [
    "def vowelORconsonant():\n",
    "    Input_char = str(input(\" please input the character \"))[0]\n",
    "    if Input_char in ('a','e','i','o','u') :\n",
    "        print ( 'character is vowel')\n",
    "    else:\n",
    "        print ('character is consonant')\n",
    "\n",
    "vowelORconsonant()"
   ]
  },
  {
   "cell_type": "code",
   "execution_count": null,
   "metadata": {},
   "outputs": [],
   "source": []
  }
 ],
 "metadata": {
  "kernelspec": {
   "display_name": "Python 3",
   "language": "python",
   "name": "python3"
  },
  "language_info": {
   "codemirror_mode": {
    "name": "ipython",
    "version": 3
   },
   "file_extension": ".py",
   "mimetype": "text/x-python",
   "name": "python",
   "nbconvert_exporter": "python",
   "pygments_lexer": "ipython3",
   "version": "3.7.3"
  }
 },
 "nbformat": 4,
 "nbformat_minor": 2
}
