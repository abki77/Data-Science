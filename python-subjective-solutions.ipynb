{
 "cells": [
  {
   "cell_type": "markdown",
   "metadata": {},
   "source": [
    "# Solution to Subjective Question\n",
    "## Q1.\n",
    "Write a Python program to get the string from the given string where all the occurrence of its first char has been changed to '$,'' except first char itself?   \n",
    "\n",
    "Sample String: 'prospect'                           \n",
    "Expected Result : 'pros$ect'\n",
    "\n",
    "## Ans :\n",
    "Code is given below :\n"
   ]
  },
  {
   "cell_type": "code",
   "execution_count": 9,
   "metadata": {},
   "outputs": [
    {
     "name": "stdout",
     "output_type": "stream",
     "text": [
      "me$ory\n"
     ]
    }
   ],
   "source": [
    "input_str = 'memory'\n",
    "input_str=input_str[0]+input_str.replace(input_str[0],'$')[1:]\n",
    "print(input_str)"
   ]
  },
  {
   "cell_type": "markdown",
   "metadata": {},
   "source": [
    "## Q2.\n",
    " Write a Python program to get the single string from the two given strings, and separated by the space and swap the first two characters of each string?          \n",
    "Sample String : 'abc', 'xyz'. \n",
    "Expected Result: 'xyc abz'\n",
    "\n",
    "## Ans : \n",
    "code is given below :\n"
   ]
  },
  {
   "cell_type": "code",
   "execution_count": 970,
   "metadata": {},
   "outputs": [
    {
     "data": {
      "text/plain": [
       "'pemost alople'"
      ]
     },
     "execution_count": 970,
     "metadata": {},
     "output_type": "execute_result"
    }
   ],
   "source": [
    "input1= 'almost'\n",
    "input2='people'\n",
    "final_string= input2[0:2]+input1[2:]+\" \"+input1[0:2]+input2[2:]\n",
    "final_string"
   ]
  },
  {
   "cell_type": "markdown",
   "metadata": {},
   "source": [
    "## Q3.\n",
    "Write the Python program to add 'ing' at the end of the given string (length of the string should be at least 3). If given string already ends with 'ing,' then add 'ly' instead. If string length of the given string is less than 3, leave it unchanged?\n",
    " \n",
    "Sample string:    ' abc ' \n",
    "\n",
    "Expected result:   ' abcing ' \n",
    "\n",
    "Sample string:   ' string ' \n",
    "\n",
    "Expected result:   ' stringly ' \n",
    "\n",
    "## Ans : \n",
    "code is given below :"
   ]
  },
  {
   "cell_type": "code",
   "execution_count": 14,
   "metadata": {},
   "outputs": [
    {
     "name": "stdout",
     "output_type": "stream",
     "text": [
      "abcing\n",
      "stringly\n",
      "ab\n"
     ]
    }
   ],
   "source": [
    "def modify_string(a):\n",
    "    if (len(a) >= 3 ):\n",
    "        if (a.endswith('ing')):\n",
    "            a=a+'ly'\n",
    "        else:\n",
    "            a=a+'ing'\n",
    "        print(a)\n",
    "    else :\n",
    "        print(a)\n",
    "        \n",
    "modify_string('abc')\n",
    "modify_string('string')\n",
    "modify_string('ab')"
   ]
  },
  {
   "cell_type": "markdown",
   "metadata": {},
   "source": [
    "\n",
    "## Q4.  \n",
    "Write the Python program to find the first appearance of the substring 'not' and 'poor' from the given string, if 'not' follows the 'poor', replace the whole 'not'...' poor' substring with 'good'.Return the resulting string.  \n",
    " \n",
    "Sample string: 'The lyrics are not that poor!' 'The lyrics are poor!'\n",
    "\n",
    "Expected Result: 'The lyrics are good!' 'The lyrics are poor!' \n",
    "\n",
    "## Ans : \n",
    "code is given below :"
   ]
  },
  {
   "cell_type": "code",
   "execution_count": 21,
   "metadata": {},
   "outputs": [
    {
     "data": {
      "text/plain": [
       "'The lyrics are good!The lyrics are poor!'"
      ]
     },
     "execution_count": 21,
     "metadata": {},
     "output_type": "execute_result"
    }
   ],
   "source": [
    "input_string = 'The lyrics are not that poor!' 'The lyrics are poor!'\n",
    "not_index = input_string.find('not')\n",
    "poor_index= input_string.find('poor')\n",
    "if not_index < poor_index:\n",
    "    input_string = input_string[0:not_index]+'good'+input_string[poor_index+len('poor'):]\n",
    "else:\n",
    "    pass\n",
    "input_string"
   ]
  },
  {
   "cell_type": "markdown",
   "metadata": {},
   "source": [
    "## Q5.\n",
    "Write the Python program to remove the characters which have odd index values of a given string. \n",
    "\n",
    "## Ans : \n",
    "code is given below :"
   ]
  },
  {
   "cell_type": "code",
   "execution_count": 35,
   "metadata": {},
   "outputs": [
    {
     "data": {
      "text/plain": [
       "'ti sm onr'"
      ]
     },
     "execution_count": 35,
     "metadata": {},
     "output_type": "execute_result"
    }
   ],
   "source": [
    "input_string=\"this is my country\"\n",
    "i=0\n",
    "final_string=''\n",
    "while i < len(input_string):\n",
    "    if i%2 ==0:\n",
    "        final_string = final_string+input_string[i]\n",
    "    else:\n",
    "        pass\n",
    "    i=i+1\n",
    "    \n",
    "    \n",
    "final_string\n"
   ]
  },
  {
   "cell_type": "markdown",
   "metadata": {},
   "source": [
    "## Q6. \n",
    "Write the Python function to get a string made of 4 copies of the last two characters of the specified string (length must be at least 2).         \n",
    "\n",
    "Sample function  and  result : \n",
    "\n",
    "insert-end ('Python')  -> abababab \n",
    "\n",
    "insert-end('Exercises')  -> jkjkjkjk \n",
    "\n",
    "## Note : the sample function and result is given wrong , it should be :\n",
    "insert-end ('Python')  -> onononon\n",
    "\n",
    "insert-end('Exercises')  -> eseseses\n",
    "\n",
    "## Ans : \n",
    "code is given below :"
   ]
  },
  {
   "cell_type": "code",
   "execution_count": 37,
   "metadata": {},
   "outputs": [
    {
     "name": "stdout",
     "output_type": "stream",
     "text": [
      "onononon\n",
      "eseseses\n"
     ]
    }
   ],
   "source": [
    "def insert_end(a):\n",
    "    if len(a) <2:\n",
    "        print('string length is less than 2')\n",
    "    else:\n",
    "        print(a[len(a)-2:]*4)\n",
    "\n",
    "insert_end('Python')\n",
    "insert_end('Excercises')"
   ]
  },
  {
   "cell_type": "markdown",
   "metadata": {},
   "source": [
    "## Q7.\n",
    "Write the python function to get a string made of its first three characters of a specified string. If the length of the string is less than 3 then return the original string. \n",
    " \n",
    "Sample function and result : \n",
    "\n",
    "first-three('ipy') -> ipy \n",
    "\n",
    "first-three('python') -> pyt \n",
    "\n",
    "\n",
    "## Ans : \n",
    "code is given below :"
   ]
  },
  {
   "cell_type": "code",
   "execution_count": 38,
   "metadata": {},
   "outputs": [
    {
     "name": "stdout",
     "output_type": "stream",
     "text": [
      "ipy\n",
      "Pyt\n"
     ]
    }
   ],
   "source": [
    "def first_three(a):\n",
    "    if len(a) <3:\n",
    "        print(a)\n",
    "    else:\n",
    "        print(a[0:3])\n",
    "\n",
    "first_three('ipy')\n",
    "first_three('Python')"
   ]
  },
  {
   "cell_type": "markdown",
   "metadata": {},
   "source": [
    "## Q8.\n",
    "Write the python program to print the following floating numbers up   to 2 decimal places? \n",
    "\n",
    "\n",
    "## Ans : \n",
    "code is given below :"
   ]
  },
  {
   "cell_type": "code",
   "execution_count": 39,
   "metadata": {},
   "outputs": [
    {
     "name": "stdout",
     "output_type": "stream",
     "text": [
      "Formatted number:123.65\n"
     ]
    }
   ],
   "source": [
    "f =123.6546\n",
    "print(\"Formatted number:\" + \"{:.2f}\".format(f))"
   ]
  },
  {
   "cell_type": "markdown",
   "metadata": {},
   "source": [
    "## Q9. \n",
    "Write the Python program to format a number with a percentage? \n",
    "\n",
    "\n",
    "## Ans : \n",
    "code is given below :"
   ]
  },
  {
   "cell_type": "code",
   "execution_count": 41,
   "metadata": {},
   "outputs": [
    {
     "name": "stdout",
     "output_type": "stream",
     "text": [
      "Formatted number:25.00%\n"
     ]
    }
   ],
   "source": [
    "f =.25\n",
    "print(\"Formatted number:\" + \"{:.2%}\".format(f))"
   ]
  },
  {
   "cell_type": "markdown",
   "metadata": {},
   "source": [
    "## Q10. \n",
    "Write the Python program to count occurrences of a substring in a   String? \n",
    "\n",
    "\n",
    "## Ans : \n",
    "code is given below :"
   ]
  },
  {
   "cell_type": "code",
   "execution_count": 42,
   "metadata": {},
   "outputs": [
    {
     "data": {
      "text/plain": [
       "2"
      ]
     },
     "execution_count": 42,
     "metadata": {},
     "output_type": "execute_result"
    }
   ],
   "source": [
    "input_string = 'The lyrics are not that poor!' 'The lyrics are poor!'\n",
    "input_string.count('lyrics')"
   ]
  },
  {
   "cell_type": "markdown",
   "metadata": {},
   "source": [
    "## Q11. \n",
    "Write the Python program to count repeated characters in a string. \n",
    " \n",
    "Sample string: ' thequickbrownjumpsoverthelazydog ' \n",
    "\n",
    "Expected output: \n",
    "o 3 \n",
    "\n",
    "e 3 \n",
    "\n",
    "u 2 \n",
    "\n",
    "h 2  \n",
    "\n",
    "r 2 \n",
    "\n",
    "t 2 \n",
    "\n",
    "## Ans : \n",
    "code is given below :"
   ]
  },
  {
   "cell_type": "code",
   "execution_count": 45,
   "metadata": {},
   "outputs": [
    {
     "name": "stdout",
     "output_type": "stream",
     "text": [
      "t   2\n",
      "h   2\n",
      "e   3\n",
      "u   2\n",
      "r   2\n",
      "o   3\n"
     ]
    }
   ],
   "source": [
    "input_string='thequickbrownjumpsoverthelazydog'\n",
    "l= [] # list for the character which has already been printed \n",
    "\n",
    "for i in input_string:\n",
    "    if i in l:\n",
    "        pass\n",
    "    else:\n",
    "        if (input_string.count(i) >1):\n",
    "            print(i,\" \" ,input_string.count(i))\n",
    "        l.append(i)\n"
   ]
  },
  {
   "cell_type": "markdown",
   "metadata": {},
   "source": [
    "## Q12. \n",
    "Write the Python program to print the square and cube symbol in   the area of a rectangle and volume of a cylinder?   \n",
    "\n",
    "Sample output- The area of the rectangle is 1256.66cm2 The volume of the cylinder is 1254.725cm3 \n",
    "\n",
    "## Ans : \n",
    "code is given below :\n"
   ]
  },
  {
   "cell_type": "code",
   "execution_count": 47,
   "metadata": {},
   "outputs": [
    {
     "name": "stdout",
     "output_type": "stream",
     "text": [
      "the area of rectangle is :1256.66 cm²\n",
      "the area of cylinder is :1254.725 cm²\n"
     ]
    }
   ],
   "source": [
    "r_area=1256.66\n",
    "c_area=1254.725\n",
    "print(\"the area of rectangle is :\"+\"{} cm\\u00b2\".format(r_area))\n",
    "print(\"the area of cylinder is :\"+\"{} cm\\u00b2\".format(c_area))"
   ]
  },
  {
   "cell_type": "markdown",
   "metadata": {},
   "source": [
    "## Q13.\n",
    "Write the Python program to check if a string contains all letters of   the alphabet? \n",
    "\n",
    "\n",
    "\n",
    "## Ans : \n",
    "code is given below :"
   ]
  },
  {
   "cell_type": "code",
   "execution_count": 53,
   "metadata": {},
   "outputs": [
    {
     "name": "stdout",
     "output_type": "stream",
     "text": [
      "input_string contain all the character ?? False\n",
      "input_string1 contain all the character ?? True\n"
     ]
    }
   ],
   "source": [
    "import string\n",
    "input_string = 'I am going to paris'\n",
    "input_string1='abcdefghijklmnopqrstuvwxyz'\n",
    "alphabet = set(string.ascii_lowercase)\n",
    "print(\"input_string contain all the character ??\", set(input_string.lower()) >= alphabet)\n",
    "print(\"input_string1 contain all the character ??\", set(input_string1.lower()) >= alphabet)"
   ]
  },
  {
   "cell_type": "markdown",
   "metadata": {},
   "source": [
    "## Q14.  \n",
    "\n",
    "Write the Python program to find the second most repeated word in a given string? \n",
    "\n",
    "## Ans : \n",
    "code is given below "
   ]
  },
  {
   "cell_type": "code",
   "execution_count": 73,
   "metadata": {},
   "outputs": [
    {
     "name": "stdout",
     "output_type": "stream",
     "text": [
      "Second most repeated word is : is   and count is:  4\n"
     ]
    }
   ],
   "source": [
    "input_string='This is most insane place in world and i am happy to explore this place .I would like to come to this place again'\n",
    "l= [] # list for the word which has already counted\n",
    "for i in input_string.split():\n",
    "    if i in l:\n",
    "        pass\n",
    "    else:\n",
    "        if (input_string.count(i) >1):\n",
    "            l.append((i,input_string.count(i)))\n",
    "            \n",
    "l.sort(key=lambda x: x[1],reverse=True) # sorting on the basis of 2nd element of tuple\n",
    "if len(l) > 1 :\n",
    "    print(\"Second most repeated word is :\" , l[1][0] ,  \"  and count is: \" ,l[1][1]  )\n",
    "else :\n",
    "    print (\" not enough repeated words \")\n",
    "     \n",
    "\n",
    "        "
   ]
  },
  {
   "cell_type": "markdown",
   "metadata": {},
   "source": [
    "## Q15. \n",
    "Write the Python program to find the minimum window in the given  string, which will contains all the characters of another given   strings?   \n",
    "\n",
    "Example 1 Input : string1 = \" PRWSOERIUSFK \" \n",
    "\n",
    "string2 = \" OSU \" \n",
    "\n",
    "Output: Minimum window is \"OERIUS\"\n",
    "\n",
    "## Ans : \n",
    "code is given below:\n"
   ]
  },
  {
   "cell_type": "code",
   "execution_count": null,
   "metadata": {},
   "outputs": [],
   "source": [
    "input_string = \"PRWSOERIUSFK \"\n",
    "string2=\"OSU\" # character of this string needs to be searched in input_string\n",
    "set1= set(string2)\n",
    "signal =0 \n",
    "# Minimum lenfth to search is string2 length and maximum length of search is input_string\n",
    "for i in range(len(string2), len(input_string)) :\n",
    "    if signal ==1:\n",
    "        break\n",
    "    for j in range(0,len(input_string) -i ):\n",
    "        if (set (input_string[j:j+i])>= set1 ):\n",
    "            print('the minimum length string that contains the given string is : ' + input_string[j:j+i])\n",
    "            signal =1 \n",
    "            \n",
    "        \n"
   ]
  },
  {
   "cell_type": "markdown",
   "metadata": {},
   "source": [
    "## Q16.\n",
    "\n",
    "Write the Python program to find smallest window that contains all   characters of the given string? \n",
    " \n",
    "Original Strings:  asdaewsqgtwwsa \n",
    " \n",
    "Smallest window that contains all characters of the said string: \n",
    "\n",
    " \n",
    "Daewsqgt \n",
    "\n",
    "## Ans : \n",
    "code is given below:"
   ]
  },
  {
   "cell_type": "code",
   "execution_count": 99,
   "metadata": {},
   "outputs": [
    {
     "name": "stdout",
     "output_type": "stream",
     "text": [
      "the minimum length string that contains the given string is : daewsqgt\n"
     ]
    }
   ],
   "source": [
    "input_string = \"asdaewsqgtwwsa\"\n",
    "set1= set(input_string)\n",
    "signal =0 \n",
    "# Minimum lenfth to search is string2 length and maximum length of search is input_string\n",
    "for i in range(len(set1), len(input_string)) :\n",
    "    if signal ==1:\n",
    "        break\n",
    "    for j in range(0,len(input_string) -i ):\n",
    "        if (set (input_string[j:j+i])>= set1 ):\n",
    "            print('the minimum length string that contains the given string is : ' + input_string[j:j+i])\n",
    "            signal =1 "
   ]
  },
  {
   "cell_type": "markdown",
   "metadata": {},
   "source": [
    "## Q17.  \n",
    "Write the Python program to count number of substrings from a   given string of lowercase alphabets with exactly k distinct (given)   characters?     \n",
    "\n",
    "Input a string (lowercase alphabets): wolf \n",
    "\n",
    "Input k:  4 \n",
    "\n",
    "Number of substrings with exactly 4 distinct characters: 1 \n",
    "\n",
    "## Ans : \n",
    "code is given below:"
   ]
  },
  {
   "cell_type": "code",
   "execution_count": 115,
   "metadata": {},
   "outputs": [
    {
     "name": "stdout",
     "output_type": "stream",
     "text": [
      "Enter input string  habitat\n",
      "substring length3\n",
      "Number of substrings with exactly 4 distinct characters  4\n"
     ]
    }
   ],
   "source": [
    "input_string = input(\"Enter input string  \")\n",
    "k = int(input(\"substring length\"))\n",
    "count =0\n",
    "for i in range(0, (len(input_string)-k+1)):\n",
    "    if(len(set(input_string[i:i+k]))==k):\n",
    "        count=count+1\n",
    "print (\"Number of substrings with exactly 4 distinct characters \" , count)\n"
   ]
  },
  {
   "cell_type": "markdown",
   "metadata": {},
   "source": [
    "## Q18. \n",
    "Write the Python program to count number of non-empty   substrings of the given string?  \n",
    "\n",
    "Input a string:  w3resource \n",
    "\n",
    "Number of substrings: 55 \n",
    "\n",
    "\n",
    "## Ans : \n",
    "code is given below:"
   ]
  },
  {
   "cell_type": "code",
   "execution_count": 117,
   "metadata": {},
   "outputs": [
    {
     "name": "stdout",
     "output_type": "stream",
     "text": [
      "Number of substrings:  55\n"
     ]
    }
   ],
   "source": [
    "input_string='w3resource'\n",
    "count =0\n",
    "for i in range(0, (len(input_string))): \n",
    "       for j in range(0,len(input_string) -i ):   \n",
    "               count= count+1\n",
    "print(\"Number of substrings: \" , count)"
   ]
  },
  {
   "cell_type": "markdown",
   "metadata": {},
   "source": [
    "## Q19.\n",
    "\n",
    "Write the Python program to count number of substrings with same   first and last characters of the given string? \n",
    " \n",
    " \n",
    "Input a string:  abcd \n",
    "\n",
    "4 \n",
    "\n",
    "## Ans : \n",
    "code is given below:"
   ]
  },
  {
   "cell_type": "code",
   "execution_count": 124,
   "metadata": {},
   "outputs": [
    {
     "name": "stdout",
     "output_type": "stream",
     "text": [
      "Number of substrings having same first and last characters  4\n"
     ]
    }
   ],
   "source": [
    "input_string='abcd'\n",
    "count =0\n",
    "for i in range(0, (len(input_string))): \n",
    "       for j in range(0,len(input_string) -i ):  \n",
    "            if(input_string[j]==input_string[j+i]):\n",
    "               count= count+1\n",
    "print(\"Number of substrings having same first and last characters \" , count)"
   ]
  },
  {
   "cell_type": "markdown",
   "metadata": {},
   "source": [
    "## Q20. \n",
    "Write the Python program to count the number of strings where the   string length is 2 or more, and  first and last character are same   from a given list of strings. \n",
    "\n",
    "Sample List : ['abc', 'xyz', 'wxw', '1331'] \n",
    "\n",
    "Expected Result: 2 \n",
    "\n",
    "## Ans : \n",
    "code is given below:"
   ]
  },
  {
   "cell_type": "code",
   "execution_count": 129,
   "metadata": {},
   "outputs": [
    {
     "name": "stdout",
     "output_type": "stream",
     "text": [
      "count value is  2\n"
     ]
    }
   ],
   "source": [
    "input_list = ['abc', 'xyz', 'wxw', '1331']\n",
    "count=0\n",
    "for i in input_list:\n",
    "    if ((i[0]==i[len(i)-1]) and (len(i)>=2)):\n",
    "        count = count+1\n",
    "print(\"count value is \", count)"
   ]
  },
  {
   "cell_type": "markdown",
   "metadata": {},
   "source": [
    "## Q21. \n",
    "Write the Python program to get a list, sorted in increasing order by   the last element in each tuple from the given list of non-empty   tuples?          \n",
    "\n",
    "Sample List - [ (2, 5), (1, 2), (4, 4), (2, 3), (2, 1) ] \n",
    "\n",
    "Expected Result - [ (2, 1),  (1, 2), (2, 3), (4, 4), (2, 5) ] \n",
    "\n",
    "\n",
    "## Ans : \n",
    "code is given below:"
   ]
  },
  {
   "cell_type": "code",
   "execution_count": 131,
   "metadata": {},
   "outputs": [
    {
     "name": "stdout",
     "output_type": "stream",
     "text": [
      "[(2, 1), (1, 2), (2, 3), (4, 4), (2, 5)]\n"
     ]
    }
   ],
   "source": [
    "input_list = [ (2, 5), (1, 2), (4, 4), (2, 3), (2, 1) ]\n",
    "tup_len = len(input_list[0])\n",
    "input_list.sort(key=lambda x: x[tup_len -1],reverse=False)\n",
    "print(input_list)"
   ]
  },
  {
   "cell_type": "markdown",
   "metadata": {},
   "source": [
    "## Q22. \n",
    "Write the Python program to remove duplicates from a list? \n",
    "\n",
    "## Ans : \n",
    "code is given below:\n"
   ]
  },
  {
   "cell_type": "code",
   "execution_count": 136,
   "metadata": {},
   "outputs": [
    {
     "data": {
      "text/plain": [
       "['john', 'annie', 'abhi']"
      ]
     },
     "execution_count": 136,
     "metadata": {},
     "output_type": "execute_result"
    }
   ],
   "source": [
    "input_list = ['annie', 'abhi','annie', 'john']\n",
    "input_list= list(set(input_list))\n",
    "input_list\n"
   ]
  },
  {
   "cell_type": "markdown",
   "metadata": {},
   "source": [
    "## Q23. \n",
    "\n",
    "Write the Python program to find the list of words that are longer   than n from a given list of words ?\n",
    "\n",
    "## Ans : \n",
    "code is given below:\n"
   ]
  },
  {
   "cell_type": "code",
   "execution_count": 138,
   "metadata": {},
   "outputs": [
    {
     "data": {
      "text/plain": [
       "'annie'"
      ]
     },
     "execution_count": 138,
     "metadata": {},
     "output_type": "execute_result"
    }
   ],
   "source": [
    "input_list = ['annie', 'abhi','annie', 'john']\n",
    "n=4\n",
    "input_list [len(input_list)>n]"
   ]
  },
  {
   "cell_type": "markdown",
   "metadata": {},
   "source": [
    "## Q24. \n",
    "Write the Python program to print a specified list after removing the  0th, 4th, and 5th elements?  \n",
    "\n",
    "Sample List - ['Red', 'Green', 'White', 'Black', 'Pink', 'Yellow'] \n",
    "\n",
    "Expected Output - ['Green', 'White', 'Black'] \n",
    "\n",
    "## Ans : \n",
    "code is given below:\n"
   ]
  },
  {
   "cell_type": "code",
   "execution_count": 154,
   "metadata": {},
   "outputs": [
    {
     "data": {
      "text/plain": [
       "['Green', 'White', 'Black']"
      ]
     },
     "execution_count": 154,
     "metadata": {},
     "output_type": "execute_result"
    }
   ],
   "source": [
    "input_list = ['Red', 'Green', 'White', 'Black', 'Pink', 'Yellow']\n",
    "input_list = [input_list[x] for x in range(0, len(input_list)) if x not in (0,4,5) ]\n",
    "input_list"
   ]
  },
  {
   "cell_type": "markdown",
   "metadata": {},
   "source": [
    "# Q25. \n",
    "Write the Python program to generate all permutations of a list in   Python?\n",
    "\n",
    "## Ans : \n",
    "code is given below:"
   ]
  },
  {
   "cell_type": "code",
   "execution_count": 157,
   "metadata": {},
   "outputs": [
    {
     "name": "stdout",
     "output_type": "stream",
     "text": [
      "('annie', 'abhi', 'aman')\n",
      "('annie', 'aman', 'abhi')\n",
      "('abhi', 'annie', 'aman')\n",
      "('abhi', 'aman', 'annie')\n",
      "('aman', 'annie', 'abhi')\n",
      "('aman', 'abhi', 'annie')\n"
     ]
    }
   ],
   "source": [
    "from itertools import permutations\n",
    "input_list = ['annie', 'abhi','aman']\n",
    "perm = permutations(input_list)\n",
    "for i in list(perm):\n",
    "    print(i)\n"
   ]
  },
  {
   "cell_type": "markdown",
   "metadata": {},
   "source": [
    "## Q26. \n",
    "Write the Python program to convert a pair of values into a sorted   unique array?      \n",
    "\n",
    "Original List-  [ (1, 2), (3, 4), (1, 2), (5, 6), (7, 8), (1, 2), (3, 4), (3, 4), (7, 8), (9, 10) ]    \n",
    "\n",
    "Sorted Unique Data- [ 1, 2, 3, 4, 5, 6, 7, 8, 9, 10 ] \n",
    "\n",
    "## Ans : \n",
    "code is given below:"
   ]
  },
  {
   "cell_type": "code",
   "execution_count": 169,
   "metadata": {},
   "outputs": [
    {
     "data": {
      "text/plain": [
       "array({1, 2, 3, 4, 5, 6, 7, 8, 9, 10}, dtype=object)"
      ]
     },
     "execution_count": 169,
     "metadata": {},
     "output_type": "execute_result"
    }
   ],
   "source": [
    "import numpy as np\n",
    "input_list = [ (1, 2), (3, 4), (1, 2), (5, 6), (7, 8), (1, 2), (3, 4), (3, 4), (7, 8), (9, 10) ]\n",
    "a =np.array( set(np.array(input_list).flatten()))\n",
    "a\n"
   ]
  },
  {
   "cell_type": "markdown",
   "metadata": {},
   "source": [
    "## Q27.  \n",
    "Write the Python class to convert an integer to a roman numeral?\n",
    "\n",
    "## Ans : \n",
    "code is given below:\n"
   ]
  },
  {
   "cell_type": "code",
   "execution_count": 189,
   "metadata": {},
   "outputs": [
    {
     "data": {
      "text/plain": [
       "'DXCIX'"
      ]
     },
     "execution_count": 189,
     "metadata": {},
     "output_type": "execute_result"
    }
   ],
   "source": [
    "class p_int_2_roman:\n",
    "    def int_to_Roman(self, num):\n",
    "        val = [\n",
    "            1000, 900, 500, 400,\n",
    "            100, 90, 50, 40,\n",
    "            10, 9, 5, 4,\n",
    "            1\n",
    "            ]\n",
    "        syb = [\n",
    "            \"M\", \"CM\", \"D\", \"CD\",\n",
    "            \"C\", \"XC\", \"L\", \"XL\",\n",
    "            \"X\", \"IX\", \"V\", \"IV\",\n",
    "            \"I\"\n",
    "            ]\n",
    "        roman_num = ''\n",
    "        i = 0\n",
    "        while  num > 0:\n",
    "            for j in range(num // val[i]):\n",
    "                roman_num += syb[i]\n",
    "                num -= val[i]\n",
    "\n",
    "            i += 1\n",
    "\n",
    "        return roman_num\n",
    "\n",
    "\n",
    "p_int_2_roman().int_to_Roman(599)\n"
   ]
  },
  {
   "cell_type": "markdown",
   "metadata": {},
   "source": [
    "## Q28 \n",
    "\n",
    "Write the Python class to convert a Roman numeral to an integer?\n",
    "\n",
    "## Ans : \n",
    "code is given below:"
   ]
  },
  {
   "cell_type": "code",
   "execution_count": 202,
   "metadata": {},
   "outputs": [
    {
     "data": {
      "text/plain": [
       "1090"
      ]
     },
     "execution_count": 202,
     "metadata": {},
     "output_type": "execute_result"
    }
   ],
   "source": [
    "class p_roman_2_int:\n",
    "    def roman_to_int(self, roman_num):\n",
    "        val = [\n",
    "            1000, 900, 500, 400,\n",
    "            100, 90, 50, 40,\n",
    "            10, 9, 5, 4,\n",
    "            1\n",
    "            ]\n",
    "        syb = [\n",
    "            \"M\", \"CM\", \"D\", \"CD\",\n",
    "            \"C\", \"XC\", \"L\", \"XL\",\n",
    "            \"X\", \"IX\", \"V\", \"IV\",\n",
    "            \"I\"\n",
    "            ]\n",
    "        int_num = 0\n",
    "        i = 0\n",
    "        while  i < len(roman_num):\n",
    "            try :\n",
    "                if  syb.index(roman_num[i:i+2]) >=0:\n",
    "                    int_num=int_num+val[syb.index(roman_num[i:i+2])]\n",
    "                    i = i+2\n",
    "            except ValueError: \n",
    "                int_num=int_num+val[syb.index(roman_num[i])]\n",
    "                i=i+1\n",
    "          \n",
    "        return int_num\n",
    "\n",
    "\n",
    "p_roman_2_int().roman_to_int('DXCIX')"
   ]
  },
  {
   "cell_type": "markdown",
   "metadata": {},
   "source": [
    "## Q29.\n",
    " Write the Python class to find  the validity of the string of the parentheses, '(', ')', '{', '}', '[' and '] and the \n",
    "brackets must be closed  in the correct order, \n",
    "\n",
    "example - \"()\" and \"()[]{}\" are valid but \"[)\", \"({[)]\" and \"{{{\" are invalid\n",
    "\n",
    "## Ans : \n",
    "code is given below:"
   ]
  },
  {
   "cell_type": "code",
   "execution_count": 223,
   "metadata": {},
   "outputs": [
    {
     "name": "stdout",
     "output_type": "stream",
     "text": [
      "Valid\n",
      "Not valid\n"
     ]
    }
   ],
   "source": [
    "class validity :\n",
    "    def find_validity(self, b_string):\n",
    "        x=list(b_string)\n",
    "        dummy_list=[]\n",
    "        b_dict={'(':0 , '{':1,'[':2}\n",
    "        match_dict={'(':')' , '{':'}','[':']'}\n",
    "        signal =0\n",
    "        for i in range(len(x)):\n",
    "            if len(dummy_list) ==0:\n",
    "                dummy_list.append(x[i])\n",
    "            else :\n",
    "                if (match_dict[dummy_list[len(dummy_list)-1]] == x[i]):\n",
    "                    dummy_list.pop()\n",
    "                elif (x[i] in b_dict.keys()):\n",
    "                    if (b_dict[x[i]]<= b_dict[dummy_list[len(dummy_list)-1]]):\n",
    "                        dummy_list.append(x[i]) \n",
    "                    else:\n",
    "                        signal =1\n",
    "                        break\n",
    "                else :\n",
    "                    signal=1\n",
    "                    break\n",
    "\n",
    "                \n",
    "            \n",
    "        if(len(dummy_list)==0 and signal==0):\n",
    "            print('Valid')\n",
    "        else:\n",
    "            print ('Not valid')\n",
    "                \n",
    "                \n",
    "            \n",
    "validity().find_validity(\"[{()}]\")\n",
    "validity().find_validity(\"[({)]\")\n"
   ]
  },
  {
   "cell_type": "markdown",
   "metadata": {},
   "source": [
    "## Q30.\n",
    "\n",
    "Write the Python class to get all possible unique subsets from a set   of distinct integers? \n",
    " \n",
    "Input - [4, 5, 6] \n",
    "\n",
    "Output - [[], [6], [5], [5, 6], [4], [4, 6], [4, 5], [4, 5, 6]]\n",
    "\n",
    "## Ans : \n",
    "code is given below:\n"
   ]
  },
  {
   "cell_type": "code",
   "execution_count": 289,
   "metadata": {},
   "outputs": [
    {
     "name": "stdout",
     "output_type": "stream",
     "text": [
      "[[4, 6], [4, 5], [5, 6], [4], [5], [], [6], [4, 5, 6]]\n"
     ]
    }
   ],
   "source": [
    "from itertools import combinations\n",
    "\n",
    "class py_subset:\n",
    "    def get_subset(self, a):\n",
    "        final_set =set()\n",
    "        uniq_element = tuple(set(a))\n",
    "        for i in range(len(uniq_element)):\n",
    "            t = combinations(uniq_element,i)\n",
    "            for j in set(t):\n",
    "                if len(j) !=0:\n",
    "                    final_set.add(tuple(j))\n",
    "        final_set.add(uniq_element)\n",
    "        final_set.add((()))\n",
    "        final_list=[list(x) for x in final_set ]\n",
    "        \n",
    "        print(final_list)\n",
    "                \n",
    "py_subset().get_subset([4, 5,6])\n",
    "\n"
   ]
  },
  {
   "cell_type": "markdown",
   "metadata": {},
   "source": [
    "## Q31. \n",
    "Write the Python class to find a pair of elements (indices of the two   numbers) from a given array whose sum equals the specific target   number?      \n",
    "\n",
    "Input: numbers- [10,20,10,40,50,60,70], \n",
    "\n",
    "target=50 Output- 3, 4 \n",
    "\n",
    "## Ans : \n",
    "code is given below:"
   ]
  },
  {
   "cell_type": "code",
   "execution_count": 300,
   "metadata": {},
   "outputs": [
    {
     "name": "stdout",
     "output_type": "stream",
     "text": [
      "target =  50 indices are  3 0\n"
     ]
    }
   ],
   "source": [
    "from itertools import combinations\n",
    "\n",
    "class py_target:\n",
    "    \n",
    "    def get_indices_pair(self, a, target):\n",
    "        t = combinations(set(a),2)\n",
    "        for j in list(t):\n",
    "            if sum(j) == target :\n",
    "                print( \"target = \" , target , \"indices are \" ,a.index(j[0]) , a.index(j[1]))\n",
    "             \n",
    "                \n",
    "py_target().get_indices_pair([10,20,10,40,50,60,70],50)"
   ]
  },
  {
   "cell_type": "markdown",
   "metadata": {},
   "source": [
    "## Q32.\n",
    "Write the Python class to find the three elements that sum to zero   from the set of n real numbers? \n",
    " \n",
    "Input array- [-25, -10, -7, -3, 2, 4, 8, 10] \n",
    "\n",
    "Output - [[-10, 2, 8], [-7, -3, 10]] \n",
    "\n",
    "## Ans : \n",
    "code is given below:\n",
    " "
   ]
  },
  {
   "cell_type": "code",
   "execution_count": 302,
   "metadata": {},
   "outputs": [
    {
     "name": "stdout",
     "output_type": "stream",
     "text": [
      "[[2, 8, -10], [10, -7, -3]]\n"
     ]
    }
   ],
   "source": [
    "from itertools import combinations\n",
    "\n",
    "class py_zero:\n",
    "    \n",
    "    def get_triplet(self, a, target):\n",
    "        t = combinations(set(a),3)\n",
    "        final_list=[]\n",
    "        for j in list(t):\n",
    "            if sum(j) == target :\n",
    "                final_list.append([j[0],j[1],j[2]])\n",
    "        print(final_list)    \n",
    "                \n",
    "py_zero().get_triplet([-25, -10, -7, -3, 2, 4, 8, 10],0)"
   ]
  },
  {
   "cell_type": "markdown",
   "metadata": {},
   "source": [
    "## Q33. \n",
    "Write the Python class to implement pow(x, n)? \n",
    "\n",
    "## Ans : \n",
    "code is given below:"
   ]
  },
  {
   "cell_type": "code",
   "execution_count": 303,
   "metadata": {},
   "outputs": [
    {
     "name": "stdout",
     "output_type": "stream",
     "text": [
      "1000\n"
     ]
    }
   ],
   "source": [
    "class python_power:\n",
    "    def pow(self,x,n):\n",
    "        return x**n\n",
    "print(python_power().pow(10,3))"
   ]
  },
  {
   "cell_type": "markdown",
   "metadata": {},
   "source": [
    "## Q34. \n",
    "Write the Python class which has two methods get_String and   print_String. get_String accept the string from the user and \n",
    "print_String print the string in upper case\n",
    "\n",
    "## Ans : \n",
    "code is given below:"
   ]
  },
  {
   "cell_type": "code",
   "execution_count": 304,
   "metadata": {},
   "outputs": [
    {
     "name": "stdout",
     "output_type": "stream",
     "text": [
      "Compass\n"
     ]
    }
   ],
   "source": [
    "class string_class:\n",
    "    def get_string(self,x):\n",
    "        self.x = x\n",
    "    def print_string(self):\n",
    "        print(self.x)\n",
    "\n",
    "k = string_class()\n",
    "k.get_string(\"Compass\")\n",
    "k.print_string()"
   ]
  },
  {
   "cell_type": "markdown",
   "metadata": {},
   "source": [
    "## Q35.\n",
    "Write the Python class named Rectangle constructed by a length   and width and the method which will compute the area of the   rectangle? \n",
    "\n",
    "## Ans : \n",
    "code is given below:"
   ]
  },
  {
   "cell_type": "code",
   "execution_count": 306,
   "metadata": {},
   "outputs": [
    {
     "name": "stdout",
     "output_type": "stream",
     "text": [
      "area of rectangle is : 20\n"
     ]
    }
   ],
   "source": [
    "class Rectangle:\n",
    "    def __init__(self, length, width):\n",
    "        self.length=length\n",
    "        self.width = width\n",
    "    def area(self):\n",
    "        print(\"area of rectangle is :\" ,  self.length*self.width )\n",
    "\n",
    "k=Rectangle(5,4)\n",
    "k.area()"
   ]
  },
  {
   "cell_type": "markdown",
   "metadata": {},
   "source": [
    "## Q36.  \n",
    "Write the Python class named Circle constructed by the radius   and two methods which will compute the area and perimeter of   the circle? \n",
    "\n",
    "## Ans : \n",
    "code is given below:"
   ]
  },
  {
   "cell_type": "code",
   "execution_count": 308,
   "metadata": {},
   "outputs": [
    {
     "name": "stdout",
     "output_type": "stream",
     "text": [
      "area of rectangle is : 78.5\n",
      "perimeter of rectangle is : 31.400000000000002\n"
     ]
    }
   ],
   "source": [
    "class circle:\n",
    "    def __init__(self, radius):\n",
    "        self.radius=radius\n",
    "        \n",
    "    def area(self):\n",
    "        print(\"area of rectangle is :\" ,  3.14*self.radius*self.radius )\n",
    "        \n",
    "    def perimeter(self):\n",
    "        print(\"perimeter of rectangle is :\" ,  3.14*2*self.radius )\n",
    "\n",
    "k=circle(5)\n",
    "k.area()\n",
    "k.perimeter()"
   ]
  },
  {
   "cell_type": "markdown",
   "metadata": {},
   "source": [
    "## Q37. \n",
    "Write the Python program to get the class name of an instance in   Python?\n",
    "\n",
    "## Ans : \n",
    "code is given below:\n"
   ]
  },
  {
   "cell_type": "code",
   "execution_count": 309,
   "metadata": {},
   "outputs": [
    {
     "data": {
      "text/plain": [
       "'circle'"
      ]
     },
     "execution_count": 309,
     "metadata": {},
     "output_type": "execute_result"
    }
   ],
   "source": [
    "k= circle(5)\n",
    "type(k).__name__"
   ]
  },
  {
   "cell_type": "markdown",
   "metadata": {},
   "source": [
    "## Q38. \n",
    "Write the Python program to count the number of students of   individual class?   Sample data \n",
    "\n",
    "classes = ( ('V', 1), ('VI', 1), ('V', 2), ('VI', 2), ('VI', 3), ('VII', 1), ) \n",
    "\n",
    "Expected Output- Counter({'VI': 3, 'V': 2, 'VII': 1}) \n",
    "\n",
    "## Ans : \n",
    "code is given below :"
   ]
  },
  {
   "cell_type": "code",
   "execution_count": 318,
   "metadata": {},
   "outputs": [
    {
     "name": "stdout",
     "output_type": "stream",
     "text": [
      "{'V': 2, 'VI': 3, 'VII': 1}\n"
     ]
    }
   ],
   "source": [
    "classes =( ('V', 1), ('VI', 1), ('V', 2), ('VI', 2), ('VI', 3), ('VII', 1), )\n",
    "count = 0 \n",
    "final_list={}\n",
    "for i in classes:\n",
    "    if i[0] not in final_list.keys():\n",
    "        final_list.update({i[0]:i[1]})\n",
    "    else:\n",
    "        final_list[i[0]]=max(final_list[i[0]],i[1])\n",
    "print(final_list)\n",
    "    \n",
    "        "
   ]
  },
  {
   "cell_type": "markdown",
   "metadata": {},
   "source": [
    "## Q39. \n",
    "Write the Python program to create an instance of an OrderedDict using the given dictionary and sort dictionary during the \n",
    "creation and print members of the dictionary in reverse order?  \n",
    " \n",
    "Expected Output- \n",
    "Angola 244. \n",
    "Andorra 376.\n",
    "Algeria 213. \n",
    "Afghanistan 93. \n",
    "Albania 355. \n",
    "\n",
    "In reverse order- \n",
    "Albania  355. \n",
    "Afghanistan  93. \n",
    "Algeria  213. \n",
    "Andorra  376. \n",
    "Angola  244\n",
    "\n",
    "## Ans : \n",
    "code is given below "
   ]
  },
  {
   "cell_type": "code",
   "execution_count": 323,
   "metadata": {},
   "outputs": [
    {
     "name": "stdout",
     "output_type": "stream",
     "text": [
      "Afghanistan 93\n",
      "Albania 355\n",
      "Algeria 213\n",
      "Andorra 376\n",
      "Angola 244\n",
      "\n",
      " In reverse order:\n",
      "Angola 244\n",
      "Andorra 376\n",
      "Algeria 213\n",
      "Albania 355\n",
      "Afghanistan 93\n"
     ]
    }
   ],
   "source": [
    "from collections import OrderedDict\n",
    "\n",
    "given_dict = {'Afghanistan': 93, 'Albania': 355, 'Algeria': 213, 'Andorra': 376, 'Angola': 244}\n",
    "new_dict = OrderedDict(given_dict.items())\n",
    "for key in new_dict:\n",
    "    print (key, new_dict[key])\n",
    "\n",
    "print(\"\\n In reverse order:\")\n",
    "for key in reversed(new_dict):\n",
    "    print (key, new_dict[key])"
   ]
  },
  {
   "cell_type": "markdown",
   "metadata": {},
   "source": [
    "## Q40. \n",
    "\n",
    "Write the Python program to compare two unordered lists (not sets)? \n",
    "\n",
    "Expected Output: False\n",
    "\n",
    "\n",
    "## Ans : \n",
    "code is given below "
   ]
  },
  {
   "cell_type": "code",
   "execution_count": 327,
   "metadata": {},
   "outputs": [
    {
     "name": "stdout",
     "output_type": "stream",
     "text": [
      "False\n"
     ]
    }
   ],
   "source": [
    "from collections import Counter\n",
    "\n",
    "list1 = [50, 80, 30, 80, 70, 60,90]\n",
    "list2 = [30, 20, 10, 90, 80, 50,60]\n",
    "print(Counter(list1)==Counter(list2))"
   ]
  },
  {
   "cell_type": "markdown",
   "metadata": {},
   "source": [
    "## Q41.\n",
    "\n",
    "Write the Python program to get an array buffer information? \n",
    "\n",
    "Expected Output- Array buffer start address in memory and number of elements. (25855056, 2) \n",
    "\n",
    "\n",
    "## Ans : \n",
    "code is given below "
   ]
  },
  {
   "cell_type": "code",
   "execution_count": 336,
   "metadata": {},
   "outputs": [
    {
     "name": "stdout",
     "output_type": "stream",
     "text": [
      "Array buffer start address in memory and number of elements (1959155983488, 4)\n"
     ]
    }
   ],
   "source": [
    "from array import array\n",
    "array1= array(\"I\",(1,3,5,6))\n",
    "print(\"Array buffer start address in memory and number of elements\",array1.buffer_info())"
   ]
  },
  {
   "cell_type": "markdown",
   "metadata": {},
   "source": [
    "## Q42.  \n",
    "Write the Python program to convert an array to an array of   machine values and return the bytes representation?\n",
    "\n",
    "Expected Output- \n",
    "Original array- A1: array('i', [1, 2, 3, 4, 5, 6]) \n",
    "\n",
    "Array of bytes: b'010000000200000003000000040000000500000006000000' \n",
    "\n",
    "## Ans : \n",
    "code is given below"
   ]
  },
  {
   "cell_type": "code",
   "execution_count": 343,
   "metadata": {},
   "outputs": [
    {
     "name": "stdout",
     "output_type": "stream",
     "text": [
      "b'\\x01\\x00\\x00\\x00\\x02\\x00\\x00\\x00\\x03\\x00\\x00\\x00\\x04\\x00\\x00\\x00\\x05\\x00\\x00\\x00\\x06\\x00\\x00\\x00'\n"
     ]
    }
   ],
   "source": [
    "from array import array\n",
    "a1 = array('i', [1, 2, 3, 4, 5, 6]) \n",
    "print(a1.tobytes())\n"
   ]
  },
  {
   "cell_type": "markdown",
   "metadata": {},
   "source": [
    "## Q43. Write the Python program to read a string and interpreting the   string as an array of machine values? \n",
    " \n",
    "Expected Output- \n",
    "array1- array('i', [7, 8, 9, 10])\n",
    "\n",
    "Bytes- b'0700000008000000090000000a000000' \n",
    "\n",
    "array2- array('i', [7, 8, 9, 10]) \n",
    "\n",
    "\n",
    "## Ans : \n",
    "code is given below"
   ]
  },
  {
   "cell_type": "code",
   "execution_count": 345,
   "metadata": {},
   "outputs": [
    {
     "name": "stdout",
     "output_type": "stream",
     "text": [
      "array1: array('i', [7, 8, 9, 10])\n",
      "Bytes: b'0700000008000000090000000a000000'\n",
      "array2: array('i', [7, 8, 9, 10])\n"
     ]
    }
   ],
   "source": [
    "from array import array\n",
    "import binascii\n",
    "array1 = array('i', [7, 8, 9, 10])\n",
    "print('array1:', array1)\n",
    "byte_rep = array1.tobytes()\n",
    "print('Bytes:', binascii.hexlify(byte_rep))\n",
    "array2 = array('i')\n",
    "array2.frombytes(byte_rep)\n",
    "print('array2:', array2)"
   ]
  },
  {
   "cell_type": "markdown",
   "metadata": {},
   "source": [
    "## Q44.\n",
    "\n",
    "Write the Python program to push three items into the heap and   return the smallest item from the heap. Also, return and pop the   smallest item from the heap?  \n",
    " \n",
    "Expected Output-\n",
    "\n",
    "Items in the heap-\n",
    "\n",
    "('VI', 1). \n",
    "\n",
    "('VII', 3).\n",
    "\n",
    "('VIII', 2).\n",
    "\n",
    "---------------------- The smallest item in the heap: \n",
    "\n",
    "('VI', 1). \n",
    "\n",
    "---------------------- Pop the smallest item in the heap: \n",
    "\n",
    "('VII', 2). \n",
    "\n",
    "('VIII', 3). \n",
    "\n",
    "## Ans : \n",
    "code is given below"
   ]
  },
  {
   "cell_type": "code",
   "execution_count": 348,
   "metadata": {},
   "outputs": [
    {
     "name": "stdout",
     "output_type": "stream",
     "text": [
      "Items in the heap:\n",
      "('V', 1)\n",
      "('V', 3)\n",
      "('V', 2)\n",
      "----------------------\n",
      "Using heappushpop push item on the heap and return the smallest item.  ('V', 1)\n",
      "('V', 2)\n",
      "('V', 3)\n",
      "('V', 6)\n"
     ]
    }
   ],
   "source": [
    "import heapq\n",
    "heap = []\n",
    "heapq.heappush(heap, ('V', 3))\n",
    "heapq.heappush(heap, ('V', 2))\n",
    "heapq.heappush(heap, ('V', 1))\n",
    "print(\"Items in the heap:\")\n",
    "for a in heap:\n",
    "    print(a)\n",
    "print(\"----------------------\")\n",
    "\n",
    "t = heapq.heappushpop(heap, ('V', 6))\n",
    "print(\"Using heappushpop push item on the heap and return the smallest item. \" , t )\n",
    "for a in heap:\n",
    "    print(a)"
   ]
  },
  {
   "cell_type": "markdown",
   "metadata": {},
   "source": [
    "## Q45. \n",
    "Write the Python program to locate the left insertion point for a   specified value in sorted order?  \n",
    "\n",
    "Expected Output:\n",
    "\n",
    "4\n",
    "\n",
    "2 \n",
    "\n",
    "## Ans : \n",
    "code is given below"
   ]
  },
  {
   "cell_type": "code",
   "execution_count": 357,
   "metadata": {},
   "outputs": [
    {
     "name": "stdout",
     "output_type": "stream",
     "text": [
      "[1, 4, 5, 6, 8, 9, 10]\n",
      "index where 7 should be inserted is :  4\n"
     ]
    }
   ],
   "source": [
    "given_list = [6,8,9,10,5,1,4]\n",
    "given_list.sort()\n",
    "print(given_list)\n",
    "given_number =7 \n",
    "for i in given_list:\n",
    "    if (i>given_number):\n",
    "        ind= given_list.index(i)\n",
    "        break;\n",
    "print(\"index where 7 should be inserted is : \" ,ind)"
   ]
  },
  {
   "cell_type": "markdown",
   "metadata": {},
   "source": [
    "## Q47. \n",
    "\n",
    "Write the Python program to calculate the harmonic sum of n-1.          \n",
    "\n",
    "Note: The harmonic sum is the sum of reciprocals of the positive   Integers?           \n",
    "\n",
    "Example - \n",
    " \n",
    " 1+1/2+1/3+..\n",
    " \n",
    " \n",
    "\n",
    "## Ans : \n",
    "code is given below:      \n",
    "  \n",
    "           "
   ]
  },
  {
   "cell_type": "code",
   "execution_count": 370,
   "metadata": {},
   "outputs": [
    {
     "name": "stdout",
     "output_type": "stream",
     "text": [
      "1.8333333333333333\n"
     ]
    }
   ],
   "source": [
    "def harmonic_sum(n):\n",
    "    if n==1:\n",
    "        return 1\n",
    "    else:\n",
    "        return 1/n+(harmonic_sum(n-1))\n",
    "\n",
    "k= harmonic_sum(3)\n",
    "print(k)\n",
    "    "
   ]
  },
  {
   "cell_type": "markdown",
   "metadata": {},
   "source": [
    "## Q48.\n",
    "Write the NumPy program to create a 2d array with 6 on the border   and 0 inside? \n",
    " \n",
    "Expected Output- Original array-\n",
    "\n",
    "[ [6 6 6 6 6]   \n",
    "  [ 6 6 6 6 6]   \n",
    "  [ 6 6 6 6 6 ]   \n",
    "  [ 6 6 6 6 6 ]   \n",
    "  [ 6  6 6 6 ] ]. \n",
    " \n",
    "6 on the border and 0 inside in the array- \n",
    "\n",
    "[ 6 6 6 6 6] \n",
    " [ 6 0 0 0 6] \n",
    " [ 6 0 0 0 6] \n",
    " [ 6 0 0 0 6] \n",
    " [ 6 6 6 6 6] ]. \n",
    " \n",
    " ## Ans : \n",
    "code is given below: "
   ]
  },
  {
   "cell_type": "code",
   "execution_count": 378,
   "metadata": {},
   "outputs": [
    {
     "data": {
      "text/plain": [
       "array([[6, 6, 6, 6, 6],\n",
       "       [6, 0, 0, 0, 6],\n",
       "       [6, 0, 0, 0, 6],\n",
       "       [6, 0, 0, 0, 6],\n",
       "       [6, 6, 6, 6, 6]])"
      ]
     },
     "execution_count": 378,
     "metadata": {},
     "output_type": "execute_result"
    }
   ],
   "source": [
    "import numpy as np \n",
    "array1= np.array([\n",
    "                   [6, 6, 6, 6 ,6],   \n",
    "                   [6 ,6 ,6 ,6, 6],  \n",
    "                   [6, 6, 6 ,6, 6],  \n",
    "                   [6, 6 ,6 ,6, 6],   \n",
    "\n",
    "array1[1:-1,1:-1]=0\n",
    "array1\n"
   ]
  },
  {
   "cell_type": "markdown",
   "metadata": {},
   "source": [
    "## Q49.  \n",
    "Write the NumPy program to create a 8x8 matrix and fill it with the   checkerboard pattern? \n",
    " \n",
    "Checkerboard pattern- \n",
    "\n",
    "[[3 9 3 9 3 9 3 9]\n",
    "[9 3 9 3 9 3 9 3]\n",
    "[3 9 3 9 3 9 3 9]\n",
    "[9 3 9 3 9 3 9 3] \n",
    "[3 9 3 9 3 9 3 9] \n",
    "[9 3 9 3 9 3 9 3] \n",
    "[3 9 3 9 3 9 3 9] \n",
    "[9 3 9 3 9 3 9 3]].\n",
    "\n",
    "## Ans : \n",
    "code is given below: "
   ]
  },
  {
   "cell_type": "code",
   "execution_count": 382,
   "metadata": {},
   "outputs": [
    {
     "name": "stdout",
     "output_type": "stream",
     "text": [
      "[[1. 0. 1. 0. 1. 0. 1. 0.]\n",
      " [0. 1. 0. 1. 0. 1. 0. 1.]\n",
      " [1. 0. 1. 0. 1. 0. 1. 0.]\n",
      " [0. 1. 0. 1. 0. 1. 0. 1.]\n",
      " [1. 0. 1. 0. 1. 0. 1. 0.]\n",
      " [0. 1. 0. 1. 0. 1. 0. 1.]\n",
      " [1. 0. 1. 0. 1. 0. 1. 0.]\n",
      " [0. 1. 0. 1. 0. 1. 0. 1.]]\n"
     ]
    }
   ],
   "source": [
    "import numpy as np\n",
    "array1=np.zeros((8,8))\n",
    "for i in range(8):\n",
    "    for j in range(8):\n",
    "        if (i+j)%2==0:\n",
    "            array1[i,j]=1\n",
    "print(array1)\n"
   ]
  },
  {
   "cell_type": "markdown",
   "metadata": {},
   "source": [
    "## Q50. \n",
    "Write the NumPy program to create an empty and a full array.              \n",
    "\n",
    "Expected Output- \n",
    " \n",
    "[[4.45057637e-308 1.78021527e-306 8.45549797e-307 1.37962049e-306] [1.11260619e-306 1.78010255e-306 9.79054228e-307 4.45057637e-308] [8.45596650e-307 9.34602321e-307 4.94065646e-322 0.00000000e+000]] \n",
    "\n",
    "[[6 6 6] [6 6 6] [6 6 6]]\n",
    "\n",
    "## Ans : \n",
    "code is given below: "
   ]
  },
  {
   "cell_type": "code",
   "execution_count": 384,
   "metadata": {},
   "outputs": [
    {
     "name": "stdout",
     "output_type": "stream",
     "text": [
      "[[9.67917797e-312 6.27463370e-322 0.00000000e+000 0.00000000e+000\n",
      "  1.03977794e-312]\n",
      " [5.30276956e+180 3.31033942e-033 6.97666940e-076 4.86371561e-086\n",
      "  3.36009017e-143]\n",
      " [6.01433264e+175 6.93885958e+218 5.56218858e+180 3.94356143e+180\n",
      "  3.40921381e-057]\n",
      " [1.32372616e-071 1.44982434e+165 3.34562202e-061 6.52954469e-144\n",
      "  1.50008929e+248]]\n",
      "[[7 7 7 7 7]\n",
      " [7 7 7 7 7]\n",
      " [7 7 7 7 7]\n",
      " [7 7 7 7 7]]\n"
     ]
    }
   ],
   "source": [
    "import numpy as np\n",
    "array1=np.empty((4,5))\n",
    "print(array1)\n",
    "array2=np.full((4,5),7)\n",
    "print(array2)"
   ]
  },
  {
   "cell_type": "markdown",
   "metadata": {},
   "source": [
    "## Q51. \n",
    "\n",
    "Write the NumPy program to convert the values of Centigrade degrees into the Fahrenheit degrees and the centigrade values are  stored in the NumPy array.  \n",
    " \n",
    " \n",
    "Sample Array -[0, 12, 45.21 ,34, 99.91] Expected Output- Values in Fahrenheit degrees- [ 0. 12. 45.21 34. 99.91] Values in Centigrade degrees- [-17.77777778 -11.11111111 7.33888889 1.11111111 37.72777778] \n",
    "\n",
    "## Ans : \n",
    "code is given below: "
   ]
  },
  {
   "cell_type": "code",
   "execution_count": 395,
   "metadata": {},
   "outputs": [
    {
     "name": "stdout",
     "output_type": "stream",
     "text": [
      "[-1.77111111e+01  2.49388889e+03  1.11111111e+00  3.77277778e+01]\n"
     ]
    }
   ],
   "source": [
    "def convert_to_centigrade (F):\n",
    "    return 5*F/9 - 5*32/9\n",
    "\n",
    "array1= [0.12, 4521,34, 99.91]\n",
    "array2= list(map(convert_to_centigrade, array1))\n",
    "array3 = np.array(array2)\n",
    "print(array3)\n"
   ]
  },
  {
   "cell_type": "markdown",
   "metadata": {},
   "source": [
    "## Q52. \n",
    "Write the NumPy program to find the real and imaginary parts of an   array of complex numbers? \n",
    " \n",
    "Expected Output- \n",
    "Original array [ 1.00000000+0j ,0.70710678+0.70710678j] \n",
    "Real part of the array- [ 1,0.70710678]\n",
    "Imaginary part of the array- [ 0, 0.70710678] \n",
    "\n",
    "## Ans : \n",
    "code is given below: \n",
    "\n"
   ]
  },
  {
   "cell_type": "code",
   "execution_count": 403,
   "metadata": {},
   "outputs": [
    {
     "name": "stdout",
     "output_type": "stream",
     "text": [
      "[1.         0.70710678]\n",
      "[0.         0.70710678]\n"
     ]
    }
   ],
   "source": [
    "import numpy as np \n",
    "array1= np.array([ 1.00000000+0j ,0.70710678+0.70710678j])\n",
    "temp =map(lambda x:x.real, array1)\n",
    "real_array= np.array(list(temp))\n",
    "temp =map(lambda x:x.imag, array1)\n",
    "imag_array= np.array(list(temp))\n",
    "print(real_array)\n",
    "print(imag_array)"
   ]
  },
  {
   "cell_type": "markdown",
   "metadata": {},
   "source": [
    "## Q53.\n",
    "Write the NumPy program to test whether each element of a 1-D   array is also present in the second array?        \n",
    "\n",
    "Expected Output-\n",
    "Array1: [ 0 10 20 40 60] \n",
    "Array2: [0, 40] \n",
    "Compare each element of array1 and array2 [ True False False True False] \n",
    "\n",
    "## Ans : \n",
    "code is given below"
   ]
  },
  {
   "cell_type": "code",
   "execution_count": 404,
   "metadata": {},
   "outputs": [
    {
     "name": "stdout",
     "output_type": "stream",
     "text": [
      "[ True False False  True False]\n"
     ]
    }
   ],
   "source": [
    "import numpy as np\n",
    "array1= np.array([ 0 ,10, 20 ,40, 60] )\n",
    "array2= np.array([0,40])\n",
    "print(np.in1d(array1, array2))"
   ]
  },
  {
   "cell_type": "markdown",
   "metadata": {},
   "source": [
    "## Q54. \n",
    "Write the NumPy program to find common values between two   arrays?\n",
    "\n",
    "## Ans : \n",
    "code is given below\n"
   ]
  },
  {
   "cell_type": "code",
   "execution_count": 405,
   "metadata": {},
   "outputs": [
    {
     "name": "stdout",
     "output_type": "stream",
     "text": [
      "[ 0 40]\n"
     ]
    }
   ],
   "source": [
    "import numpy as np\n",
    "array1= np.array([ 0 ,10, 20 ,40, 60] )\n",
    "array2= np.array([0,40])\n",
    "print(array1[np.in1d(array1, array2)==True])"
   ]
  },
  {
   "cell_type": "markdown",
   "metadata": {},
   "source": [
    "## Q55. \n",
    "Write the NumPy program to get the unique elements of an array? \n",
    "\n",
    "## Ans : \n",
    "code is given below"
   ]
  },
  {
   "cell_type": "code",
   "execution_count": 409,
   "metadata": {},
   "outputs": [
    {
     "name": "stdout",
     "output_type": "stream",
     "text": [
      "[ 0 10 20 40 60]\n",
      "[1 2 3]\n"
     ]
    }
   ],
   "source": [
    "import numpy as np\n",
    "array1= np.array([ 0 ,10, 20 ,40, 60, 40,20] )\n",
    "array2=np. array([[1 ,1], [2, 3]] )\n",
    "print(np.unique(array1))\n",
    "print(np.unique(array2))"
   ]
  },
  {
   "cell_type": "markdown",
   "metadata": {},
   "source": [
    "## Q56.\n",
    "Write the NumPy program to find the set exclusive-or of two arrays.   \n",
    "\n",
    "Set exclusive-or will return the sorted, unique values that are in   only one (not both) of the input arrays? \n",
    " \n",
    "Array1- [ 0 10 20 40 60 80] \n",
    "Array2- [10, 30, 40, 50, 70] \n",
    "Unique values that are in only one (not both) of the input arrays- [ 0 20 30 50 60 70 80] \n",
    "\n",
    "\n",
    "## Ans : \n",
    "code is given below"
   ]
  },
  {
   "cell_type": "code",
   "execution_count": 410,
   "metadata": {},
   "outputs": [
    {
     "name": "stdout",
     "output_type": "stream",
     "text": [
      "Unique values that are in only one (not both) of the input arrays\n",
      "[ 0 20 30 50 60 70 80]\n"
     ]
    }
   ],
   "source": [
    "import numpy as np\n",
    "array1 = np.array([0, 10, 20, 40, 60, 80])\n",
    "array2 = [10, 30, 40, 50, 70]\n",
    "print(\"Unique values that are in only one (not both) of the input arrays\")\n",
    "print(np.setxor1d(array1, array2))"
   ]
  },
  {
   "cell_type": "markdown",
   "metadata": {},
   "source": [
    "## Q57.\n",
    "Write the NumPy program to test if all elements in an array   evaluate to True ?\n",
    "\n",
    "## Ans : \n",
    "code is given below"
   ]
  },
  {
   "cell_type": "code",
   "execution_count": 411,
   "metadata": {},
   "outputs": [
    {
     "name": "stdout",
     "output_type": "stream",
     "text": [
      "False\n",
      "True\n"
     ]
    }
   ],
   "source": [
    "import numpy as np\n",
    "print(np.all([9, 8, 0, 4,2]))\n",
    "print(np.all([9, 8,  4,2]))"
   ]
  },
  {
   "cell_type": "markdown",
   "metadata": {},
   "source": [
    "# Q58 \n",
    "Write the NumPy program to test whether any array element along   the given axis evaluates to True? \n",
    "\n",
    "\n",
    "## Ans : \n",
    "code is given below"
   ]
  },
  {
   "cell_type": "code",
   "execution_count": 412,
   "metadata": {},
   "outputs": [
    {
     "name": "stdout",
     "output_type": "stream",
     "text": [
      "True\n",
      "True\n"
     ]
    }
   ],
   "source": [
    "import numpy as np\n",
    "print(np.any([9, 8, 0, 4,2]))\n",
    "print(np.any([9, 8,  4,2]))"
   ]
  },
  {
   "cell_type": "markdown",
   "metadata": {},
   "source": [
    "## Q59. \n",
    "Write the NumPy program to construct an array by repeating? \n",
    "\n",
    "Sample array- [1, 2, 3, 4]\n",
    "\n",
    "Expected Output- \n",
    "\n",
    "Original array [1, 2, 3, 4] \n",
    "\n",
    "Repeating 2 times [1 2 3 4 1 2 3 4] \n",
    "\n",
    "Repeating 3 times [1 2 3 4 1 2 3 4 1 2 3 4] \n",
    "\n",
    "## Ans : \n",
    "code is given below"
   ]
  },
  {
   "cell_type": "code",
   "execution_count": 417,
   "metadata": {},
   "outputs": [
    {
     "name": "stdout",
     "output_type": "stream",
     "text": [
      "[9 8 4 2 9 8 4 2]\n",
      "[9 8 4 2 9 8 4 2 9 8 4 2]\n"
     ]
    }
   ],
   "source": [
    "import numpy as np\n",
    "a = np.array([9, 8,  4,2])\n",
    "x = np.tile(a, 2)\n",
    "print(x)\n",
    "x = np.tile(a, 3)\n",
    "print(x)\n"
   ]
  },
  {
   "cell_type": "markdown",
   "metadata": {},
   "source": [
    "## Q60. \n",
    "\n",
    "Write the NumPy program to find the indices of the maximum and   minimum values with the given axis of an array?          Original array- \n",
    "[1 2 3 4 5 6] \n",
    "Maximum Values- 5\n",
    "Minimum Values- 0 \n",
    "\n",
    "## Ans : \n",
    "code is given below"
   ]
  },
  {
   "cell_type": "code",
   "execution_count": 419,
   "metadata": {},
   "outputs": [
    {
     "name": "stdout",
     "output_type": "stream",
     "text": [
      " maximum value  5\n",
      " minimum value  0\n"
     ]
    }
   ],
   "source": [
    "import numpy as np\n",
    "a = np.array([1, 2 ,3 ,4 ,5 ,6])\n",
    "print(\" maximum value \" , np.argmax(a))\n",
    "print(\" minimum value \" , np.argmin(a))"
   ]
  },
  {
   "cell_type": "markdown",
   "metadata": {},
   "source": [
    "## Q61.  \n",
    "\n",
    "Write the NumPy program compare two arrays using numpy? \n",
    " \n",
    "Array a- [1 2] \n",
    "Array b- [4 5]\n",
    "a > b\n",
    "[False False] \n",
    "a >= b \n",
    "[False False] \n",
    "a < b \n",
    "[ True True] \n",
    "a <= b \n",
    "[ True True]\n",
    "\n",
    "## Ans : \n",
    "code is given below"
   ]
  },
  {
   "cell_type": "code",
   "execution_count": 420,
   "metadata": {},
   "outputs": [
    {
     "name": "stdout",
     "output_type": "stream",
     "text": [
      "Array a:  [1 2]\n",
      "Array b:  [4 5]\n",
      "a > b\n",
      "[False False]\n",
      "a >= b\n",
      "[False False]\n",
      "a < b\n",
      "[ True  True]\n",
      "a <= b\n",
      "[ True  True]\n"
     ]
    }
   ],
   "source": [
    "import numpy as np\n",
    "a = np.array([1, 2])\n",
    "b = np.array([4, 5])\n",
    "print(\"Array a: \",a)\n",
    "print(\"Array b: \",b)\n",
    "print(\"a > b\")\n",
    "print(np.greater(a, b))\n",
    "print(\"a >= b\")\n",
    "print(np.greater_equal(a, b))\n",
    "print(\"a < b\")\n",
    "print(np.less(a, b))\n",
    "print(\"a <= b\")\n",
    "print(np.less_equal(a, b))"
   ]
  },
  {
   "cell_type": "markdown",
   "metadata": {},
   "source": [
    "## Q62. \n",
    "Write the NumPy program to sort an along the first, last axis of an   array? \n",
    "\n",
    "Sample array- \n",
    "[[2,5],[4,4]]\n",
    "Expected Output- \n",
    "Original array: [[4 6] [2 1]] \n",
    "Sort along the first axis: [[2 1] [4 6]] \n",
    "Sort along the last axis- [[1 2] [4 6]]\n",
    "\n",
    "## Ans : \n",
    "code is given below"
   ]
  },
  {
   "cell_type": "code",
   "execution_count": 421,
   "metadata": {},
   "outputs": [
    {
     "name": "stdout",
     "output_type": "stream",
     "text": [
      "Original array: \n",
      "[[4 6]\n",
      " [2 1]]\n",
      "Sort along the first axis: \n",
      "[[2 1]\n",
      " [4 6]]\n",
      "Sort along the last axis: \n",
      "[[1 2]\n",
      " [4 6]]\n"
     ]
    }
   ],
   "source": [
    "import numpy as np\n",
    "a = np.array([[4, 6],[2, 1]])\n",
    "print(\"Original array: \")\n",
    "print(a)\n",
    "print(\"Sort along the first axis: \")\n",
    "x = np.sort(a, axis=0)\n",
    "print(x)\n",
    "print(\"Sort along the last axis: \")\n",
    "y = np.sort(x, axis=1)\n",
    "print(y)"
   ]
  },
  {
   "cell_type": "markdown",
   "metadata": {},
   "source": [
    "## Q63. \n",
    "Write the NumPy program to sort pairs of first name and last name   return their indices (first by last name, then by first name).    \n",
    "\n",
    "first_names - ( Betsey, Shelley, Lanell, Genesis, Margery ) \n",
    "\n",
    "last_names - ( Battle, Brien, Plotner, Stahl, Woolum ) \n",
    "\n",
    "Expected Output- [1 3 2 4 0] \n",
    "\n",
    "## Ans : \n",
    "code is given below\n",
    " "
   ]
  },
  {
   "cell_type": "code",
   "execution_count": 422,
   "metadata": {},
   "outputs": [
    {
     "name": "stdout",
     "output_type": "stream",
     "text": [
      "[0 1 2 3 4]\n"
     ]
    }
   ],
   "source": [
    "import numpy as np\n",
    "first_names =    ( 'Betsey', 'Shelley', 'Lanell', 'Genesis', 'Margery' )\n",
    "last_names = ( 'Battle', 'Brien', 'Plotner', 'Stahl', 'Woolum' )\n",
    "x = np.lexsort((first_names, last_names))\n",
    "print(x)"
   ]
  },
  {
   "cell_type": "markdown",
   "metadata": {},
   "source": [
    "## Q64. \n",
    "Write the NumPy program to get the values and indices of the   elements that are bigger than 10 in the given array? \n",
    "\n",
    "Original array- [[ 0 10 20] [20 30 40]] \n",
    "\n",
    "Values bigger than 10 = [20 20 30 40] \n",
    "\n",
    "Their indices are (array([0, 1, 1, 1]), array([2, 0, 1, 2]))\n",
    "\n",
    "## Ans : \n",
    "code is given below\n",
    " "
   ]
  },
  {
   "cell_type": "code",
   "execution_count": 423,
   "metadata": {},
   "outputs": [
    {
     "name": "stdout",
     "output_type": "stream",
     "text": [
      "Original array: \n",
      "[[ 0 10 20]\n",
      " [20 30 40]]\n",
      "Values bigger than 10 = [20 20 30 40]\n",
      "Their indices are  (array([0, 1, 1, 1], dtype=int64), array([2, 0, 1, 2], dtype=int64))\n"
     ]
    }
   ],
   "source": [
    "import numpy as np\n",
    "x = np.array([[0, 10, 20], [20, 30, 40]])\n",
    "print(\"Original array: \")\n",
    "print(x)\n",
    "print(\"Values bigger than 10 =\", x[x>10])\n",
    "print(\"Their indices are \", np.nonzero(x > 10))"
   ]
  },
  {
   "cell_type": "markdown",
   "metadata": {},
   "source": [
    "## Q65 \n",
    "Write the NumPy program to find the memory size of a NumPy   array?\n",
    "\n",
    "## Ans : \n",
    "code is given below"
   ]
  },
  {
   "cell_type": "code",
   "execution_count": 426,
   "metadata": {},
   "outputs": [
    {
     "name": "stdout",
     "output_type": "stream",
     "text": [
      "memory size is  24\n"
     ]
    }
   ],
   "source": [
    "import numpy as np\n",
    "x = np.array([[0, 10, 20], [20, 30, 40]])\n",
    "print(\"memory size is \", x.size*x.itemsize)"
   ]
  },
  {
   "cell_type": "markdown",
   "metadata": {},
   "source": [
    "## Q66. \n",
    "Write the NumPy program to create an array of ones and an array   of zeros? \n",
    "\n",
    "## Ans : \n",
    "code is given below"
   ]
  },
  {
   "cell_type": "code",
   "execution_count": 429,
   "metadata": {},
   "outputs": [
    {
     "name": "stdout",
     "output_type": "stream",
     "text": [
      "[[0. 0. 0. 0.]\n",
      " [0. 0. 0. 0.]\n",
      " [0. 0. 0. 0.]]\n",
      "[[1. 1. 1. 1.]\n",
      " [1. 1. 1. 1.]\n",
      " [1. 1. 1. 1.]]\n"
     ]
    }
   ],
   "source": [
    "import numpy as np\n",
    "print(np.zeros([3,4]))\n",
    "print(np.ones([3,4]))"
   ]
  },
  {
   "cell_type": "markdown",
   "metadata": {},
   "source": [
    "## Q67. \n",
    "Write the NumPy program to change the dimension of an array?\n",
    "\n",
    "\n",
    "## Ans : \n",
    "code is given below\n",
    "\n"
   ]
  },
  {
   "cell_type": "code",
   "execution_count": 437,
   "metadata": {},
   "outputs": [
    {
     "name": "stdout",
     "output_type": "stream",
     "text": [
      "(2, 3)\n",
      "[[ 0 10 20]\n",
      " [20 30 40]]\n",
      "[[ 0 10 20 20 30 40]]\n"
     ]
    }
   ],
   "source": [
    "import numpy as np\n",
    "x =np.array([[0, 10, 20], [20, 30, 40]])\n",
    "print(x.shape)\n",
    "print(x)\n",
    "x.shape=(1,6)\n",
    "print(x)"
   ]
  },
  {
   "cell_type": "markdown",
   "metadata": {},
   "source": [
    "## Q68 .\n",
    "Write the NumPy program to create a new shape to an array   without changing its data ?   \n",
    "\n",
    "Reshape 3x2- \n",
    "[[1 2] \n",
    "[3 4] \n",
    "[5 6]]\n",
    "\n",
    "Reshape 2x3- \n",
    "[[1 2 3] \n",
    "[4 5 6]] \n",
    "\n",
    "## Ans : \n",
    "code is given below"
   ]
  },
  {
   "cell_type": "code",
   "execution_count": 442,
   "metadata": {},
   "outputs": [
    {
     "name": "stdout",
     "output_type": "stream",
     "text": [
      "[[1 2]\n",
      " [3 4]\n",
      " [5 6]]\n",
      "[[1 2 3]\n",
      " [4 5 6]]\n"
     ]
    }
   ],
   "source": [
    "import numpy as np\n",
    "x =np.array([[1 ,2] ,\n",
    "[3 ,4], \n",
    "[5 ,6]])\n",
    "print(x)\n",
    "x =x.reshape(2,3)\n",
    "print(x)"
   ]
  },
  {
   "cell_type": "markdown",
   "metadata": {},
   "source": [
    "## Q69.\n",
    "Write the NumPy program to create a new array of 3*5, filled with 2?    \n",
    " \n",
    "\n",
    "## Ans : \n",
    "code is given below"
   ]
  },
  {
   "cell_type": "code",
   "execution_count": 443,
   "metadata": {},
   "outputs": [
    {
     "data": {
      "text/plain": [
       "array([[2, 2, 2, 2, 2],\n",
       "       [2, 2, 2, 2, 2],\n",
       "       [2, 2, 2, 2, 2]])"
      ]
     },
     "execution_count": 443,
     "metadata": {},
     "output_type": "execute_result"
    }
   ],
   "source": [
    "import numpy as np\n",
    "x = np.full((3,5),2)\n",
    "x"
   ]
  },
  {
   "cell_type": "markdown",
   "metadata": {},
   "source": [
    "## Q70 \n",
    "\n",
    "Write the NumPy program to create a 3-D array with ones on a   diagonal and zeros elsewhere?\n",
    "\n",
    "## Ans : \n",
    "code is given below"
   ]
  },
  {
   "cell_type": "code",
   "execution_count": 450,
   "metadata": {},
   "outputs": [
    {
     "data": {
      "text/plain": [
       "array([[1., 0., 0.],\n",
       "       [0., 1., 0.],\n",
       "       [0., 0., 1.]])"
      ]
     },
     "execution_count": 450,
     "metadata": {},
     "output_type": "execute_result"
    }
   ],
   "source": [
    "import numpy as np\n",
    "x = np.eye(3)\n",
    "x"
   ]
  },
  {
   "cell_type": "markdown",
   "metadata": {},
   "source": [
    "## Q71. \n",
    "\n",
    "Write the NumPy program to split an array of 14 elements into the   3 arrays and each of which has 2, 4, and 8 elements in original   order?             \n",
    " Expected Output- \n",
    " Original array- [ 1 2 3 4 5 6 7 8 9 10 11 12 13 14] \n",
    " After splitting- \n",
    " [array([1, 2]),\n",
    " array([3, 4, 5, 6]), \n",
    " array([ 7, 8, 9, 10, 11, 12, 13, 14])]\n",
    " \n",
    " \n",
    "## Ans : \n",
    "code is given below\n",
    " \n",
    " "
   ]
  },
  {
   "cell_type": "code",
   "execution_count": 452,
   "metadata": {},
   "outputs": [
    {
     "name": "stdout",
     "output_type": "stream",
     "text": [
      "After splitting:\n",
      "[array([1, 2]), array([3, 4, 5, 6]), array([ 7,  8,  9, 10, 11, 12, 13, 14])]\n"
     ]
    }
   ],
   "source": [
    "import numpy as np\n",
    "x = np.arange(1, 15)\n",
    "print(\"After splitting:\")\n",
    "print(np.split(x, [2, 6]))"
   ]
  },
  {
   "cell_type": "markdown",
   "metadata": {},
   "source": [
    "## Q72.\n",
    "Write the NumPy program to split of an array of shape 4x4 it into   two arrays along the second axis ?\n",
    "\n",
    "Sample array - [[ 0 1 2 3] [ 4 5 6 7] [ 8 9 10 11] [12 13 14 15]] \n",
    "Expected Output\n",
    "[array([[ 0, 1], [ 4, 5], [ 8, 9], [12, 13]]), array([[ 2, 3], [ 6, 7], [10, 11], [14, 15]]), array([], shape=(4, 0), dtype=int64)]\n",
    "\n",
    "## Ans : \n",
    "code is given below"
   ]
  },
  {
   "cell_type": "code",
   "execution_count": 456,
   "metadata": {},
   "outputs": [
    {
     "name": "stdout",
     "output_type": "stream",
     "text": [
      "[array([[ 0,  1],\n",
      "       [ 4,  5],\n",
      "       [ 8,  9],\n",
      "       [12, 13]]), array([[ 2,  3],\n",
      "       [ 6,  7],\n",
      "       [10, 11],\n",
      "       [14, 15]])]\n"
     ]
    }
   ],
   "source": [
    "import numpy as np\n",
    "x= np.array([[ 0, 1, 2, 3], [ 4, 5, 6, 7], [ 8, 9 ,10, 11], [12, 13, 14, 15]] )\n",
    "print(np.split(x,[2],axis=1))"
   ]
  },
  {
   "cell_type": "markdown",
   "metadata": {},
   "source": [
    "## Q73.\n",
    "Write the NumPy program to create a 5x5 matrix with row values   ranging from 0 to 4?\n",
    "\n",
    "Original array- [[ 0. 0. 0. 0. 0.] [ 0. 0. 0. 0. 0.] [ 0. 0. 0. 0. 0.] [ 0. 0. 0. 0. 0.] [ 0. 0. 0. 0. 0.]] Row values ranging from 0 to 4. [[ 0. 1. 2. 3. 4.] [ 0. 1. 2. 3. 4.] [ 0. 1. 2. 3. 4.] [ 0. 1. 2. 3. 4.] [ 0. 1. 2. 3. 4.]\n",
    "\n",
    "## Ans :\n",
    "code is given below\n"
   ]
  },
  {
   "cell_type": "code",
   "execution_count": 459,
   "metadata": {},
   "outputs": [
    {
     "name": "stdout",
     "output_type": "stream",
     "text": [
      "[[0. 1. 2. 3. 4.]\n",
      " [0. 1. 2. 3. 4.]\n",
      " [0. 1. 2. 3. 4.]\n",
      " [0. 1. 2. 3. 4.]\n",
      " [0. 1. 2. 3. 4.]]\n"
     ]
    }
   ],
   "source": [
    "import numpy as np\n",
    "x = np.zeros((5,5))\n",
    "y = np.arange(5)\n",
    "x = x+y\n",
    "print(x)"
   ]
  },
  {
   "cell_type": "markdown",
   "metadata": {},
   "source": [
    "## Q74. \n",
    "Write the NumPy program to create an array of zeros and three   column types (integer, float, character)?     \n",
    "\n",
    "Expected Output- [(1, 2., b'Albert Einstein') (2, 2., b'Edmond Halley') (3, 3., b'Gertrude B. Elion')] \n",
    "\n",
    "## Ans :\n",
    "code is given below\n",
    "\n",
    " \n",
    " "
   ]
  },
  {
   "cell_type": "code",
   "execution_count": 464,
   "metadata": {},
   "outputs": [
    {
     "name": "stdout",
     "output_type": "stream",
     "text": [
      "[('f0', '<i4'), ('f1', '<f4'), ('f2', 'S40')]\n",
      "[(1, 2., b'Albert Einstein') (2, 2., b'Edmond Halley')\n",
      " (3, 3., b'Gertrude B. Elion')]\n"
     ]
    }
   ],
   "source": [
    "import numpy as np\n",
    "x = np.zeros((3,), dtype=('i4,f4,a40'))\n",
    "new_data = [(1, 2., \"Albert Einstein\"), (2, 2., \"Edmond Halley\"), (3, 3., \"Gertrude B. Elion\")]\n",
    "x[:] = new_data\n",
    "print(x)"
   ]
  },
  {
   "cell_type": "markdown",
   "metadata": {},
   "source": [
    "## Q75.\n",
    "\n",
    "Write the NumPy program to remove the negative values in the   numpy array with 0? \n",
    " \n",
    " \n",
    "Expected Output- Original array: [-1 -4 0 2 3 4 5 -6] Replace the negative values of the said array with 0- [0 0 0 2 3 4 5 0]\n",
    "\n",
    "## Ans :\n",
    "code is given below"
   ]
  },
  {
   "cell_type": "code",
   "execution_count": 465,
   "metadata": {},
   "outputs": [
    {
     "data": {
      "text/plain": [
       "array([0, 0, 0, 2, 3, 4, 5, 0])"
      ]
     },
     "execution_count": 465,
     "metadata": {},
     "output_type": "execute_result"
    }
   ],
   "source": [
    "import numpy as np\n",
    "x = np.array( [-1 ,-4, 0, 2 ,3 ,4, 5 ,-6] )\n",
    "x[x<0]=0\n",
    "x"
   ]
  },
  {
   "cell_type": "markdown",
   "metadata": {},
   "source": [
    "## Q76.  \n",
    "\n",
    "Write the NumPy program to compute the histogram of a set of   data?    \n",
    "\n",
    "## Ans :\n",
    "code is given below\n"
   ]
  },
  {
   "cell_type": "code",
   "execution_count": 468,
   "metadata": {},
   "outputs": [
    {
     "data": {
      "image/png": "[encoded data removed]",
      "text/plain": [
       "<Figure size 432x288 with 1 Axes>"
      ]
     },
     "metadata": {
      "needs_background": "light"
     },
     "output_type": "display_data"
    }
   ],
   "source": [
    "import numpy as np    \n",
    "import matplotlib.pyplot as plt\n",
    "x=[1,2,4,4,4,3,2,1]\n",
    "plt.hist(x,bins=[0, 1, 2, 3, 5])\n",
    "plt.show()\n",
    " \n"
   ]
  },
  {
   "cell_type": "markdown",
   "metadata": {},
   "source": [
    "## Q77.\n",
    "\n",
    "Write the NumPy program to compute the line graph of a set of data? \n",
    "\n",
    "## Ans :\n",
    "code is given below"
   ]
  },
  {
   "cell_type": "code",
   "execution_count": 469,
   "metadata": {},
   "outputs": [
    {
     "data": {
      "image/png": "[encoded data removed]",
      "text/plain": [
       "<Figure size 432x288 with 1 Axes>"
      ]
     },
     "metadata": {
      "needs_background": "light"
     },
     "output_type": "display_data"
    }
   ],
   "source": [
    "import numpy as np    \n",
    "import matplotlib.pyplot as plt\n",
    "x=[1,2,4,4,4,3,2,1]\n",
    "plt.plot(x)\n",
    "plt.show()\n",
    " "
   ]
  },
  {
   "cell_type": "markdown",
   "metadata": {},
   "source": [
    "## Q78.\n",
    "\n",
    "Write the NumPy program to extracts all the elements from second   row from given (4x4) array?\n",
    "Sample Output- \n",
    "Original array- \n",
    "[[ 0 1 2 3]\n",
    "[ 4 5 6 7] \n",
    "[ 8 9 10 11] \n",
    "[12 13 14 15]] \n",
    "Extracted data- \n",
    "Second row [4 5 6 7] \n",
    "\n",
    "\n",
    "## Ans :\n",
    "code is given below"
   ]
  },
  {
   "cell_type": "code",
   "execution_count": 471,
   "metadata": {},
   "outputs": [
    {
     "data": {
      "text/plain": [
       "array([4, 5, 6, 7])"
      ]
     },
     "execution_count": 471,
     "metadata": {},
     "output_type": "execute_result"
    }
   ],
   "source": [
    "import numpy as np \n",
    "x= np.array( [[ 0, 1, 2, 3], [ 4, 5, 6, 7], [ 8, 9 ,10, 11],[12, 13, 14 ,15]] )\n",
    "x[1]"
   ]
  },
  {
   "cell_type": "markdown",
   "metadata": {},
   "source": [
    "## Q79. \n",
    "Write the NumPy program to extract first element of the second  row  and fourth element of fourth row from a given (4x4) array\n",
    "\n",
    "Sample Output- \n",
    "Original array- \n",
    "[[ 0 1 2 3] \n",
    "[ 4 5 6 7] \n",
    "[ 8 9 10 11] \n",
    "[12 13 14 15]] \n",
    "Extracted data- \n",
    "First element of the second row and \n",
    "fourth element of fourth row [ 4 15] \n",
    "\n",
    "## Ans :\n",
    "code is given below"
   ]
  },
  {
   "cell_type": "code",
   "execution_count": 473,
   "metadata": {},
   "outputs": [
    {
     "name": "stdout",
     "output_type": "stream",
     "text": [
      "[ 4 15]\n"
     ]
    }
   ],
   "source": [
    "import numpy as np \n",
    "x= np.array( [[ 0, 1, 2, 3], [ 4, 5, 6, 7], [ 8, 9 ,10, 11],[12, 13, 14 ,15]] )\n",
    "print(x[[1,3],[0,3]])"
   ]
  },
  {
   "cell_type": "markdown",
   "metadata": {},
   "source": [
    "## Q80. \n",
    "Write the NumPy program to add two arrays A and B of sizes (3,3)   and (,3)? \n",
    " \n",
    "Sample Output- Original array- Array-1 [[1 1 1] [1 1 1] [1 1 1]] Array-2 [0 1 2] A + B: [[1 2 3][1 2 3] [1 2 3]]\n",
    "\n",
    "\n",
    "## Ans :\n",
    "code is given below"
   ]
  },
  {
   "cell_type": "code",
   "execution_count": 475,
   "metadata": {},
   "outputs": [
    {
     "name": "stdout",
     "output_type": "stream",
     "text": [
      "[[1 2 3]\n",
      " [1 2 3]\n",
      " [1 2 3]]\n"
     ]
    }
   ],
   "source": [
    "import numpy as np \n",
    "array1=np.array( [[1, 1, 1], [1 ,1, 1], [1, 1, 1]] )\n",
    "array2 = [0, 1, 2] \n",
    "print (array1+array2)"
   ]
  },
  {
   "cell_type": "markdown",
   "metadata": {},
   "source": [
    "## Q81.  \n",
    "\n",
    "Write the NumPy program to copy data from a given array to   another array? \n",
    " \n",
    "Sample Output- Original array- [24 27 30 29 18 14] Copy of the said array- [24 27 30 29 18 14]\n",
    "\n",
    "## Ans :\n",
    "code is given below"
   ]
  },
  {
   "cell_type": "code",
   "execution_count": 476,
   "metadata": {},
   "outputs": [
    {
     "name": "stdout",
     "output_type": "stream",
     "text": [
      "[24 27 30 29 18 14]\n"
     ]
    }
   ],
   "source": [
    "import numpy as np\n",
    "array1=np.array( [24 ,27, 30 ,29 ,18 ,14] )\n",
    "array2= array1.copy()\n",
    "print(array2)"
   ]
  },
  {
   "cell_type": "markdown",
   "metadata": {},
   "source": [
    "## Q82. \n",
    "\n",
    "Write the NumPy program to calculate the sum of all columns of   the 2D numpy array?    Sample Output- Original array- [[ 0 1 2 3 4 5 6 7 8] [ 9 10 11 12 13 14 15 16 17] [18 19 20 21 22 23 24 25 26] [27 28 29 30 31 32 33 34 35]] Sum of all columns- [54 58 62 66 70 74 78 82 86]\n",
    "\n",
    "## Ans :\n",
    "code is given below"
   ]
  },
  {
   "cell_type": "code",
   "execution_count": 477,
   "metadata": {},
   "outputs": [
    {
     "name": "stdout",
     "output_type": "stream",
     "text": [
      "[54 58 62 66 70 74 78 82 86]\n"
     ]
    }
   ],
   "source": [
    "import numpy as np\n",
    "array1 = np.array( [[ 0, 1, 2, 3, 4, 5 ,6, 7, 8], [ 9 ,10 ,11, 12, 13 ,14, 15 ,16, 17],\n",
    "                    [18, 19, 20 ,21 ,22, 23, 24 ,25, 26], [27, 28, 29, 30,31 ,32 ,33 ,34 ,35]])\n",
    "print(array1.sum(axis=0))"
   ]
  },
  {
   "cell_type": "markdown",
   "metadata": {},
   "source": [
    "## Q83.\n",
    "Write the NumPy program to calculate averages without NaNs   along the given array?\n",
    "\n",
    "Sample Output- \n",
    "Original array- [[10. 20. 30.] [40. 50. nan] [nan 6. nan] [nan nan nan]] \n",
    "Averages without NaNs along the said array- [20. 45. 6. nan] \n",
    "\n",
    "\n",
    "## Ans :\n",
    "code is given below"
   ]
  },
  {
   "cell_type": "code",
   "execution_count": 482,
   "metadata": {},
   "outputs": [
    {
     "name": "stdout",
     "output_type": "stream",
     "text": [
      "[20. 45.  6. nan]\n"
     ]
    }
   ],
   "source": [
    "import numpy as np\n",
    "array1= np.array( [[10, 20, 30] ,[40, 50, np.nan], [np.nan ,6, np.nan], [np.nan, np.nan, np.nan]] )\n",
    "temp = np.ma.masked_array(array1, np.isnan(array1))\n",
    "k =temp.mean(axis=1)\n",
    "print(k.filled(np.nan))"
   ]
  },
  {
   "cell_type": "markdown",
   "metadata": {},
   "source": [
    "## Q84. \n",
    "Create two arrays of six elements. Write the NumPy program to   count the number of instances of a value occurring in one array on   the condition of another array. \n",
    " \n",
    "Sample Output- Original arrays-\n",
    "\n",
    "[ 10 -10 10 -10 -10 10] \n",
    "\n",
    "[0.85 0.45 0.9 0.8 0.12 0.6 ] \n",
    "\n",
    "Number of instances of a value occurring in one array on the condition of another array: 3 \n",
    "\n",
    "## Ans :\n",
    "code is given below\n"
   ]
  },
  {
   "cell_type": "code",
   "execution_count": 486,
   "metadata": {},
   "outputs": [
    {
     "name": "stdout",
     "output_type": "stream",
     "text": [
      "Original arrays:\n",
      "[ 10 -10  10 -10 -10  10]\n",
      "[0.85 0.45 0.9  0.8  0.12 0.6 ]\n",
      "\n",
      "Number of instances of a value occurring in one aray on the condition of another array:\n",
      "3\n"
     ]
    }
   ],
   "source": [
    "import numpy as np\n",
    "x = np.array([10,-10,10,-10,-10,10])\n",
    "y = np.array([.85,.45,.9,.8,.12,.6])\n",
    "print(\"Original arrays:\")\n",
    "print(x)\n",
    "print(y)\n",
    "result = np.sum((x == 10) & (y > .5))\n",
    "print(\"\\nNumber of instances of a value occurring in one aray on the condition of another array:\")\n",
    "print(result)"
   ]
  },
  {
   "cell_type": "markdown",
   "metadata": {},
   "source": [
    "## Q85. Write the NumPy program to convert a Python dictionary to a   Numpy ndarray ? \n",
    " \n",
    " \n",
    "Original dictionary- {'column0': {'a': 1, 'b': 0.0, 'c': 0.0, 'd': 2.0}, 'column1': {'a': 3.0, 'b': 1, 'c': 0.0, 'd': -1.0}, 'column2': {'a': 4, 'b': 1, 'c': 5.0, 'd': -1.0}, 'column3': {'a': 3.0, 'b': -1.0, 'c': -1.0, 'd': -1.0}} Type: <class 'dict'> ndarray- [[ 1. 0. 0. 2.] [ 3. 1. 0. -1.] [ 4. 1. 5. -1.] [ 3. -1. -1. -1.]] Type: <class 'numpy.ndarray'> \n",
    "\n",
    "## Ans :\n",
    "code is given below"
   ]
  },
  {
   "cell_type": "code",
   "execution_count": 492,
   "metadata": {},
   "outputs": [
    {
     "name": "stdout",
     "output_type": "stream",
     "text": [
      "[[ 1.  0.  0.  2.]\n",
      " [ 3.  1.  0. -1.]\n",
      " [ 4.  1.  5. -1.]\n",
      " [ 3. -1. -1. -1.]]\n"
     ]
    }
   ],
   "source": [
    "import numpy as np \n",
    "dict1= {'column0': {'a': 1, 'b': 0.0, 'c': 0.0, 'd': 2.0},\n",
    "        'column1': {'a': 3.0, 'b': 1, 'c': 0.0, 'd': -1.0}, \n",
    "        'column2': {'a': 4, 'b': 1, 'c': 5.0, 'd': -1.0}, \n",
    "        'column3': {'a': 3.0, 'b': -1.0, 'c': -1.0, 'd': -1.0}}\n",
    "k = np.array([[v[j] for j in ['a', 'b', 'c', 'd']] for k, v in dict1.items()])\n",
    "print(k)\n"
   ]
  },
  {
   "cell_type": "markdown",
   "metadata": {},
   "source": [
    "## Q86. \n",
    "\n",
    "Write the Numpy program to find and store the non-zero unique   rows in an array after comparing each row with other row in the   given matrix? \n",
    "\n",
    "Original array- \n",
    "[[ 1 1 0] [ 0 0 0] [ 0 2 3] [ 0 0 0] [ 0 -1 1] [ 0 0 0]]\n",
    "Non-zero unique rows- [[ 1 1 0] [ 0 2 3] [ 0 -1 1]] \n",
    "\n",
    "## Ans :\n",
    "code is given below\n",
    " "
   ]
  },
  {
   "cell_type": "code",
   "execution_count": 516,
   "metadata": {},
   "outputs": [
    {
     "name": "stdout",
     "output_type": "stream",
     "text": [
      "Original array:\n",
      "[[ 1  1  0]\n",
      " [ 0  0  0]\n",
      " [ 0  2  3]\n",
      " [ 0  0  0]\n",
      " [ 0 -1  1]\n",
      " [ 0  0  0]]\n",
      "[[ 1  1  0]\n",
      " [ 0  2  3]\n",
      " [ 0 -1  1]]\n"
     ]
    }
   ],
   "source": [
    "import numpy as np\n",
    "x = np.array([[ 1, 1 ,0] ,[ 0, 0, 0] ,[ 0 ,2 ,3] ,[ 0, 0, 0] ,[ 0, -1, 1], [ 0, 0, 0]])\n",
    "print(\"Original array:\")\n",
    "print(x)\n",
    "index = []\n",
    "for i in range(len(x)) :\n",
    "    temp_list = list(x[i])\n",
    "    count =0 \n",
    "    for j in range(len(x)):\n",
    "        temp_list1=list(x[j])\n",
    "        if temp_list ==( temp_list1 ) and i != j :\n",
    "            count = 1\n",
    "            break ; \n",
    "    if count ==0 :\n",
    "         index.append(temp_list)\n",
    "print(np.array(index))\n",
    "        "
   ]
  },
  {
   "cell_type": "markdown",
   "metadata": {},
   "source": [
    "## Q87.  \n",
    "Write the NumPy program to multiply the matrix by another matrix   of complex numbers and create a new matrix of complex   numbers?   \n",
    "Sample output- \n",
    "First array- [ 1.+2.j 3.+4.j] \n",
    "Second array- [ 5.+6.j 7.+8.j] \n",
    "Product of above two arrays- (70-8j) \n",
    "\n",
    "## Ans :\n",
    "code is given below"
   ]
  },
  {
   "cell_type": "code",
   "execution_count": 519,
   "metadata": {},
   "outputs": [
    {
     "name": "stdout",
     "output_type": "stream",
     "text": [
      "matric multiplicaiton (70-8j)\n"
     ]
    }
   ],
   "source": [
    "import numpy as np\n",
    "array1=np.array([ 1+2j, 3+4j])\n",
    "array2=np.array([ 5+6j, 7+8j])\n",
    "print(\"matric multiplicaiton\", np.vdot(array1,array2))\n"
   ]
  },
  {
   "cell_type": "markdown",
   "metadata": {},
   "source": [
    "## Q88. \n",
    "\n",
    "Write a NumPy program to generate the matrix product of two   Arrays? \n",
    " \n",
    "Sample Output- Matrices and vectors. x- [[1, 0], [1, 1]] y- [[3, 1], [2, 2]] Matrix product of above two arrays- [[3 1] [5 3]]\n",
    "\n",
    "## Ans :\n",
    "code is given below"
   ]
  },
  {
   "cell_type": "code",
   "execution_count": 521,
   "metadata": {},
   "outputs": [
    {
     "name": "stdout",
     "output_type": "stream",
     "text": [
      "matric multiplicaiton [[3 1]\n",
      " [5 3]]\n"
     ]
    }
   ],
   "source": [
    "import numpy as np\n",
    "array1=np.array([[1, 0], [1, 1]])\n",
    "array2=np.array([[3, 1], [2, 2]])\n",
    "print(\"matric multiplicaiton\", array1@array2)"
   ]
  },
  {
   "cell_type": "markdown",
   "metadata": {},
   "source": [
    "## Q89. \n",
    "Write the NumPy program to find roots of the following   Polynomials? \n",
    " \n",
    "a) (x2 - 4x + 7) b) x4 - 11x3 + 9x2 + 11x - 10 Sample output- Roots of the first polynomial- [ 1. 1.] Roots of the second polynomial- [ 11.04461946+0.j -0.87114210+0.j 0.91326132+0.4531004j 0.91326132-0.4531004j ] \n",
    "\n",
    "## Ans :\n",
    "code is given below"
   ]
  },
  {
   "cell_type": "code",
   "execution_count": 527,
   "metadata": {},
   "outputs": [
    {
     "name": "stdout",
     "output_type": "stream",
     "text": [
      "roots od first plynomial :\n",
      "[2.+1.73205081j 2.-1.73205081j]\n",
      "roots of second  plynomial :\n",
      "[10.+0.0000000e+00j -1.+0.0000000e+00j  1.+9.6357437e-09j\n",
      "  1.-9.6357437e-09j]\n",
      "roots of second  plynomial :\n",
      "[ 1. -1.]\n"
     ]
    }
   ],
   "source": [
    "import numpy as np\n",
    "print (\"roots od first plynomial :\")\n",
    "print(np.roots([1,-4,7]))\n",
    "\n",
    "print (\"roots of second  plynomial :\")\n",
    "print(np.roots([1,-11,9,11,-10]))\n",
    "\n"
   ]
  },
  {
   "cell_type": "markdown",
   "metadata": {},
   "source": [
    "## Q90. \n",
    "Write the NumPy program to calculate inverse of sine, cosine,  and inverse tangent for all elements in a given array?          \n",
    " \n",
    "Sample output- \n",
    "Inverse sine- [-1.57079633 0. 1.57079633] \n",
    "Inverse cosine- [3.14159265 1.57079633 0. ] \n",
    "Inverse tangent- [-0.78539816 0. 0.78539816] \n",
    "\n",
    "## Ans :\n",
    "code is given below"
   ]
  },
  {
   "cell_type": "code",
   "execution_count": 531,
   "metadata": {},
   "outputs": [
    {
     "name": "stdout",
     "output_type": "stream",
     "text": [
      "Inverse sine: [0.20135792 0.         0.52359878]\n",
      "Inverse cosine: [1.36943841 1.57079633 1.04719755]\n",
      "Inverse tangent: [0.19739556 0.         0.46364761]\n"
     ]
    }
   ],
   "source": [
    "import numpy as np\n",
    "x = np.array([.2, 0, .5])\n",
    "print(\"Inverse sine:\", np.arcsin(x))\n",
    "print(\"Inverse cosine:\", np.arccos(x))\n",
    "print(\"Inverse tangent:\", np.arctan(x))"
   ]
  },
  {
   "cell_type": "markdown",
   "metadata": {},
   "source": [
    "## Q91. \n",
    "Write the NumPy program to calculate the difference between in   neighbouring elements, element-wise of a given array?\n",
    "\n",
    "Sample output- \n",
    "Original array- [1 3 5 7 0] \n",
    "\n",
    "Difference between neighbouring elements, element-wise of the said array- \n",
    "\n",
    "[ 2 2 2 -7] \n",
    "\n",
    "## Ans :\n",
    "code is given below"
   ]
  },
  {
   "cell_type": "code",
   "execution_count": 532,
   "metadata": {},
   "outputs": [
    {
     "name": "stdout",
     "output_type": "stream",
     "text": [
      "[ 2  2  2 -7]\n"
     ]
    }
   ],
   "source": [
    "import numpy as np\n",
    "x = np.array([1, 3, 5, 7, 0])\n",
    "print(np.diff(x))"
   ]
  },
  {
   "cell_type": "markdown",
   "metadata": {},
   "source": [
    "## Q92.\n",
    "Write the Python program to find the maximum and the minimum   value of a given flattened array? \n",
    " \n",
    "Expected Output- Original flattened array- \n",
    "[[0 1] [2 3]] \n",
    "\n",
    "Maximum value of the above flattened array- \n",
    "\n",
    "3 \n",
    "Minimum value of the above flattened array- \n",
    "\n",
    "0 \n",
    "\n",
    "## Ans :\n",
    "code is given below"
   ]
  },
  {
   "cell_type": "code",
   "execution_count": 535,
   "metadata": {},
   "outputs": [
    {
     "name": "stdout",
     "output_type": "stream",
     "text": [
      "max value in array  3\n",
      "min value in array  0\n"
     ]
    }
   ],
   "source": [
    "import numpy as np\n",
    "x = np.array([[0, 1], [2 ,3]])\n",
    "print(\"max value in array \", np.amax(x))\n",
    "print(\"min value in array \", np.amin(x))"
   ]
  },
  {
   "cell_type": "markdown",
   "metadata": {},
   "source": [
    "## Q93. \n",
    "Write the NumPy program to calculate the difference between in   the maximum and the minimum values of a given array along the   second axis ?             \n",
    "\n",
    "Expected Output- \n",
    "Original array- [[ 0 1 2 3 4 5] [ 6 7 8 9 10 11]]\n",
    "\n",
    "Difference between the maximum and the minimum values of the said array- [5 5] \n",
    "\n",
    "## Ans :\n",
    "code is given below\n"
   ]
  },
  {
   "cell_type": "code",
   "execution_count": 542,
   "metadata": {},
   "outputs": [
    {
     "name": "stdout",
     "output_type": "stream",
     "text": [
      "Difference between the maximum and the minimum values of the :\n",
      "[5 5]\n"
     ]
    }
   ],
   "source": [
    "import numpy as np\n",
    "x = np.array([[ 0 ,1 ,2 ,3, 4 ,5] ,[ 6, 7, 8, 9 ,10, 11]])\n",
    "r2 = np.amax(x, 1) - np.amin(x, 1)\n",
    "print(\"Difference between the maximum and the minimum values of the :\")\n",
    "print(r2)\n"
   ]
  },
  {
   "cell_type": "markdown",
   "metadata": {},
   "source": [
    "## Q94. \n",
    "Write the NumPy program to compute the weighted of the given   array ? \n",
    " \n",
    "Sample Output- \n",
    "Original array- [0 1 2 3 4]\n",
    "Weighted average of the said array- 2.6666666666666665 \n",
    "\n",
    "## Ans :\n",
    "code is given below\n"
   ]
  },
  {
   "cell_type": "code",
   "execution_count": 543,
   "metadata": {},
   "outputs": [
    {
     "name": "stdout",
     "output_type": "stream",
     "text": [
      "Weighted average of the  array: \n",
      "2.6666666666666665\n"
     ]
    }
   ],
   "source": [
    "import numpy as np\n",
    "x = np.array ([0 ,1, 2 ,3 ,4])\n",
    "wt = np.arange(1, 6)\n",
    "r1 = np.average(x, weights=wt)\n",
    "print(\"Weighted average of the  array: \")\n",
    "print(r1)"
   ]
  },
  {
   "cell_type": "markdown",
   "metadata": {},
   "source": [
    "## Q95. \n",
    "\n",
    "Write the NumPy program to compute the mean, standard   deviation, and the variance of a given array along the second  axis? \n",
    "\n",
    "Sample output- Original array- [0 1 2 3 4 5] Mean- 2.5 std- 1 variance- 2.9166666666666665\n",
    "\n",
    "## Ans :\n",
    "code is given below\n"
   ]
  },
  {
   "cell_type": "code",
   "execution_count": 547,
   "metadata": {},
   "outputs": [
    {
     "name": "stdout",
     "output_type": "stream",
     "text": [
      "Mean  2.5\n",
      "standard deviation  1.707825127659933\n",
      "varinace  2.9166666666666665\n"
     ]
    }
   ],
   "source": [
    "import numpy as np \n",
    "x = np.arange(6)\n",
    "print (\"Mean \", np.mean(x))\n",
    "print (\"standard deviation \", np.std(x))\n",
    "print (\"varinace \", np.var(x))"
   ]
  },
  {
   "cell_type": "markdown",
   "metadata": {},
   "source": [
    "## Q96. \n",
    "Write the Numpy program to compute the covariance matrix of the   two given arrays?   \n",
    " \n",
    "Sample Output- \n",
    "Original array1- [0 1 2] \n",
    "Original array1- [2 1 0] \n",
    "Covariance matrix of the said arrays- [[ 1. -1.] [-1. 1.]] \n",
    "\n",
    "## Ans :\n",
    "code is given below"
   ]
  },
  {
   "cell_type": "code",
   "execution_count": 549,
   "metadata": {},
   "outputs": [
    {
     "name": "stdout",
     "output_type": "stream",
     "text": [
      "Covariance matrix :  [[ 1. -1.]\n",
      " [-1.  1.]]\n"
     ]
    }
   ],
   "source": [
    "import numpy as np\n",
    "x = np.array([0, 1, 2])\n",
    "y = np.array([2, 1, 0])\n",
    "print(\"Covariance matrix : \",np.cov(x, y))"
   ]
  },
  {
   "cell_type": "markdown",
   "metadata": {},
   "source": [
    "## Q97.\n",
    "Write a NumPy program to compute the cross-correlation of two   given arrays ? \n",
    " \n",
    "Sample Output- \n",
    "Original array1-\n",
    "[0 1 3] \n",
    "Original array1- [2 4 5] \n",
    "Cross-correlation of the said arrays- [ [ 2.33333333 2.16666667 ]   [ 2.16666667 2.33333333 ] ]\n",
    "\n",
    "## Ans :\n",
    "code is given below"
   ]
  },
  {
   "cell_type": "code",
   "execution_count": 552,
   "metadata": {},
   "outputs": [
    {
     "name": "stdout",
     "output_type": "stream",
     "text": [
      "\n",
      "Cross-correlation  [[2.33333333 2.16666667]\n",
      " [2.16666667 2.33333333]]\n"
     ]
    }
   ],
   "source": [
    "import numpy as np\n",
    "x = np.array([0, 1, 3])\n",
    "y = np.array([2, 4, 5])\n",
    "print(\"\\nCross-correlation \",np.cov(x, y))"
   ]
  },
  {
   "cell_type": "markdown",
   "metadata": {},
   "source": [
    "## Q98. \n",
    "\n",
    "Write the NumPy program to compute Pearson product-moment   correlation coefficients of two given arrays? \n",
    " \n",
    "Sample Output- Original array1- [0 1 3] Original array1- [2 4 5] Pearson product-moment correlation coefficients of the said arrays- [[1. 0.92857143] [0.92857143 1. ]] \n",
    "\n",
    "## Ans :\n",
    "code is given below"
   ]
  },
  {
   "cell_type": "code",
   "execution_count": 553,
   "metadata": {},
   "outputs": [
    {
     "name": "stdout",
     "output_type": "stream",
     "text": [
      "Pearson product-moment correlation coefficients :  [[1.         0.92857143]\n",
      " [0.92857143 1.        ]]\n"
     ]
    }
   ],
   "source": [
    "import numpy as np\n",
    "x = np.array([0, 1, 3])\n",
    "y = np.array([2, 4, 5])\n",
    "print(\"Pearson product-moment correlation coefficients : \",np.corrcoef(x, y))"
   ]
  },
  {
   "cell_type": "markdown",
   "metadata": {},
   "source": [
    "## Q99. \n",
    "Write the python program to count the number of occurrences of   each value in a given array of non-negative integers?          Note: bincount() Function- It  count the occurrence of each value in an array of the \n",
    " non- negative integers in the range of the array between the minimum and maximum values         including the values that did not occur. \n",
    " \n",
    "Sample Output- \n",
    "Original array- [0, 1, 6, 1, 4, 1, 2, 2, 7] \n",
    "Number of occurrences of each value in array- [1 3 2 0 1 0 1 1] \n",
    "\n",
    "## Ans :\n",
    "code is given below"
   ]
  },
  {
   "cell_type": "code",
   "execution_count": 554,
   "metadata": {},
   "outputs": [
    {
     "name": "stdout",
     "output_type": "stream",
     "text": [
      "Number of occurrences of each value in array: \n",
      "[1 3 2 0 1 0 1 1]\n"
     ]
    }
   ],
   "source": [
    "import numpy as np\n",
    "array1 = [0, 1, 6, 1, 4, 1, 2, 2, 7] \n",
    "print(\"Number of occurrences of each value in array: \")\n",
    "print(np.bincount(array1))"
   ]
  },
  {
   "cell_type": "markdown",
   "metadata": {},
   "source": [
    "## Q100. \n",
    "\n",
    "Write a Numpy program to compute the histogram of nums   against the bins?   \n",
    "\n",
    "Sample Output- \n",
    "nums- [0.5 0.7 1. 1.2 1.3 2.1] \n",
    "bins- [0 1 2 3] \n",
    "Result- (array([2, 3, 1], dtype=int64), array([0, 1, 2, 3])) \n",
    "\n",
    "\n",
    "## Ans :\n",
    "code is given below"
   ]
  },
  {
   "cell_type": "code",
   "execution_count": 556,
   "metadata": {},
   "outputs": [
    {
     "data": {
      "image/png": "[encoded data removed]",
      "text/plain": [
       "<Figure size 432x288 with 1 Axes>"
      ]
     },
     "metadata": {
      "needs_background": "light"
     },
     "output_type": "display_data"
    }
   ],
   "source": [
    "import numpy as np    \n",
    "import matplotlib.pyplot as plt\n",
    "x= [0.5, 0.7, 1., 1.2, 1.3 ,2.1] \n",
    "bins=[0 ,1 ,2, 3]\n",
    "plt.hist(x,bins)\n",
    "plt.show()"
   ]
  },
  {
   "cell_type": "markdown",
   "metadata": {},
   "source": [
    "## Q101.\n",
    "\n",
    "Write the Python program to add, subtract, multiply and divide   two pandas series ?   \n",
    "Sample Series- [2, 4, 6, 8, 10], [1, 3, 5, 7, 9]\n",
    "\n",
    "## Ans :\n",
    "code is given below"
   ]
  },
  {
   "cell_type": "code",
   "execution_count": 560,
   "metadata": {},
   "outputs": [
    {
     "name": "stdout",
     "output_type": "stream",
     "text": [
      "addition\n",
      "  0     3\n",
      "1     7\n",
      "2    11\n",
      "3    15\n",
      "4    19\n",
      "dtype: int64\n",
      "subtraction\n",
      "  0    1\n",
      "1    1\n",
      "2    1\n",
      "3    1\n",
      "4    1\n",
      "dtype: int64\n",
      "multiplication\n",
      "  0     2\n",
      "1    12\n",
      "2    30\n",
      "3    56\n",
      "4    90\n",
      "dtype: int64\n",
      "divison\n",
      "  0    2.000000\n",
      "1    1.333333\n",
      "2    1.200000\n",
      "3    1.142857\n",
      "4    1.111111\n",
      "dtype: float64\n"
     ]
    }
   ],
   "source": [
    "import pandas as pd\n",
    "ser1 = pd.Series([2, 4, 6, 8, 10])\n",
    "ser2  = pd.Series([1, 3, 5, 7, 9])\n",
    "\n",
    "print(\"addition\\n \" ,ser1+ser2 )\n",
    "print(\"subtraction\\n \" ,ser1-ser2 )\n",
    "print(\"multiplication\\n \" ,ser1*ser2 )\n",
    "print(\"divison\\n \" ,ser1/ser2 )"
   ]
  },
  {
   "cell_type": "markdown",
   "metadata": {},
   "source": [
    "## Q102. \n",
    "\n",
    "Write a Python program to convert a dictionary to the Pandas   Series? \n",
    " \n",
    "Sample Series- \n",
    "Original dictionary- {'a': 100, 'b': 200, 'c': 300, 'd': 400, 'e': 800}\n",
    "Converted series - a  100 b  200 c  300 d  400 e  800 dtype- int64 \n",
    "\n",
    "\n",
    "## Ans :\n",
    "code is given below\n"
   ]
  },
  {
   "cell_type": "code",
   "execution_count": 562,
   "metadata": {},
   "outputs": [
    {
     "name": "stdout",
     "output_type": "stream",
     "text": [
      "a    100\n",
      "b    200\n",
      "c    300\n",
      "d    400\n",
      "e    800\n",
      "dtype: int64\n",
      "<class 'pandas.core.series.Series'>\n"
     ]
    }
   ],
   "source": [
    "import pandas as pd\n",
    "ser1 = pd.Series({'a': 100, 'b': 200, 'c': 300, 'd': 400, 'e': 800})\n",
    "print(ser1)\n",
    "print(type(ser1))"
   ]
  },
  {
   "cell_type": "markdown",
   "metadata": {},
   "source": [
    "## Q103. \n",
    "Write a python program to change the data type of given a   column or a Series? \n",
    "\n",
    "Sample Series- Original Data Series- 0 100 \n",
    "1  200 2  python 3  300.12 4  400 dtype- object Change the said data type to numeric- 0 100.00 1 200.00 2 NaN 3 300.12 4  400.00 dtype- float64\n",
    "\n",
    "## Ans :\n",
    "code is given below"
   ]
  },
  {
   "cell_type": "code",
   "execution_count": 569,
   "metadata": {},
   "outputs": [
    {
     "name": "stdout",
     "output_type": "stream",
     "text": [
      "0       100\n",
      "1       200\n",
      "2    python\n",
      "3    300.12\n",
      "4       400\n",
      "dtype: object\n",
      "Changed series:\n",
      "0    100.00\n",
      "1    200.00\n",
      "2       NaN\n",
      "3    300.12\n",
      "4    400.00\n",
      "dtype: float64\n"
     ]
    }
   ],
   "source": [
    "import pandas as pd\n",
    "s1 = pd.Series(['100', '200', 'python', '300.12', '400'])\n",
    "print(s1)\n",
    "print(\"Changed series:\")\n",
    "s2 = pd.to_numeric(s1, errors='coerce')\n",
    "print(s2)"
   ]
  },
  {
   "cell_type": "markdown",
   "metadata": {},
   "source": [
    "## Q104.\n",
    "Write the python pandas program to convert the first column of a   DataFrame as a Series?   \n",
    "Sample Output- Original DataFrame- col1 col2 col3 0 1 4 7 1 2 5 5 2 3 6  8 3 4 9 12 4 7 5 1 5 11 0 11 1st column as a Series- 0 1 1 2 2 3 3 4 4 7 5 11 Name- col1, dtype- int64 <class 'pandas.core.series.Series'> \n",
    "\n",
    "## Ans :\n",
    "code is given below"
   ]
  },
  {
   "cell_type": "code",
   "execution_count": 571,
   "metadata": {},
   "outputs": [
    {
     "name": "stdout",
     "output_type": "stream",
     "text": [
      "Original DataFrame\n",
      "   col1  col2  col3\n",
      "0     1     4     7\n",
      "1     2     5     5\n",
      "2     3     6     8\n",
      "3     4     9    12\n",
      "4     7     5     1\n",
      "5    11     0    11\n",
      "\n",
      "1st column as a Series:\n",
      "0     1\n",
      "1     2\n",
      "2     3\n",
      "3     4\n",
      "4     7\n",
      "5    11\n",
      "Name: col1, dtype: int64\n",
      "<class 'pandas.core.series.Series'>\n"
     ]
    }
   ],
   "source": [
    "import pandas as pd\n",
    "d = {'col1': [1, 2, 3, 4, 7, 11], 'col2': [4, 5, 6, 9, 5, 0], 'col3': [7, 5, 8, 12, 1,11]}\n",
    "df = pd.DataFrame(data=d)\n",
    "print(\"Original DataFrame\")\n",
    "print(df)\n",
    "s1 = df.iloc[:,0]\n",
    "print(\"\\n1st column as a Series:\")\n",
    "print(s1)\n",
    "print(type(s1))"
   ]
  },
  {
   "cell_type": "markdown",
   "metadata": {},
   "source": [
    "## Q105.\n",
    "\n",
    "Write a pandas program to create the mean and standard   deviation of the data of a given Series? \n",
    " \n",
    " \n",
    "Sample Output- Original Data Series- 0  1 1  2 2  3 3  4 4  5 5  6 6  7 7  8 8  9 9  5 10 3 dtype- int64 Mean of the said Data Series- 4.81818181818 Standard deviation of the said Data Series- 2.52262489555 \n",
    "\n",
    "## Ans :\n",
    "code is given below"
   ]
  },
  {
   "cell_type": "code",
   "execution_count": 572,
   "metadata": {},
   "outputs": [
    {
     "name": "stdout",
     "output_type": "stream",
     "text": [
      "Original Data Series:\n",
      "0     1\n",
      "1     2\n",
      "2     3\n",
      "3     4\n",
      "4     5\n",
      "5     6\n",
      "6     7\n",
      "7     8\n",
      "8     9\n",
      "9     5\n",
      "10    3\n",
      "dtype: int64\n",
      "Mean of the said Data Series:\n",
      "4.818181818181818\n",
      "Standard deviation of the said Data Series:\n",
      "2.522624895547565\n"
     ]
    }
   ],
   "source": [
    "import pandas as pd\n",
    "s = pd.Series(data = [1,2,3,4,5,6,7,8,9,5,3])\n",
    "print(\"Original Data Series:\")\n",
    "print(s)\n",
    "print(\"Mean of the said Data Series:\")\n",
    "print(s.mean())\n",
    "print(\"Standard deviation of the said Data Series:\")\n",
    "print(s.std())"
   ]
  },
  {
   "cell_type": "markdown",
   "metadata": {},
   "source": [
    "## Q106.\n",
    "Write a pandas program to get powers of an array values   element-wise?            \n",
    "\n",
    "Note First array elements raised the powers from the second array. \n",
    "Sample data: {'X ':[78,85,96,80,86], ' Y ':[84,94,89,83,86],'Z':[86,97,96,72,83]} \n",
    "Expected Output: X Y Z 0 78 84 86 1 85 94 97 2 96 89  96 3 80 83 72 4 86 86 83 \n",
    "\n",
    "## Ans :\n",
    "code is given below"
   ]
  },
  {
   "cell_type": "code",
   "execution_count": 574,
   "metadata": {},
   "outputs": [
    {
     "name": "stdout",
     "output_type": "stream",
     "text": [
      "\n",
      " original dataframe\n",
      "    X   Y   Z\n",
      "0  78  84  86\n",
      "1  85  94  97\n",
      "2  96  89  96\n",
      "3  80  83  72\n",
      "4  86  86  83\n",
      "\n",
      " square root of  dataframe\n",
      "          X         Y         Z\n",
      "0  8.831761  9.165151  9.273618\n",
      "1  9.219544  9.695360  9.848858\n",
      "2  9.797959  9.433981  9.797959\n",
      "3  8.944272  9.110434  8.485281\n",
      "4  9.273618  9.273618  9.110434\n"
     ]
    }
   ],
   "source": [
    "import pandas as pd\n",
    "df = pd.DataFrame({'X':[78,85,96,80,86], 'Y':[84,94,89,83,86],'Z':[86,97,96,72,83]});\n",
    "print(\"\\n original dataframe\")\n",
    "print(df)\n",
    "print(\"\\n square root of  dataframe\")\n",
    "print(pow(df,.5))"
   ]
  },
  {
   "cell_type": "markdown",
   "metadata": {},
   "source": [
    "## Q107. \n",
    "Write the pandas program to get the first 3 rows of a given   DataFrame? \n",
    " \n",
    "Sample Python dictionary data and list labels- exam_data = {'name': ['Anastasia', 'Dima', 'Katherine', 'James', 'Emily', 'Michael', 'Matthew', 'Laura', 'Kevin', 'Jonas'], 'score': [12.5, 9, 16.5, np.nan, 9, 20, 14.5, np.nan, 8, 19], 'attempts'- [1, 3, 2, 3, 2, 3, 1, 1, 2, 1], 'qualify'- [ 'yes', 'no', 'yes' , 'no', ' no ', ' yes ', 'yes', 'no',  'no',  'yes' ] } labels = ['a', 'b', 'c', 'd', 'e', 'f', 'g', 'h', 'i', 'j' ] \n",
    "Expected Output- First three rows of the data frame- attempts name qualify score a  1  Anastasia yes 12.5 b  3  Dima no  9.0 c  2  Katherine  yes  16.5 \n",
    "\n",
    "## Ans :\n",
    "code is given below"
   ]
  },
  {
   "cell_type": "code",
   "execution_count": 575,
   "metadata": {},
   "outputs": [
    {
     "name": "stdout",
     "output_type": "stream",
     "text": [
      "First three rows of the data frame:\n",
      "        name  score  attempts qualify\n",
      "a  Anastasia   12.5         1     yes\n",
      "b       Dima    9.0         3      no\n",
      "c  Katherine   16.5         2     yes\n"
     ]
    }
   ],
   "source": [
    "import pandas as pd\n",
    "import numpy as np\n",
    "\n",
    "exam_data  = {'name': ['Anastasia', 'Dima', 'Katherine', 'James', 'Emily', 'Michael', 'Matthew', 'Laura', 'Kevin', 'Jonas'],\n",
    "        'score': [12.5, 9, 16.5, np.nan, 9, 20, 14.5, np.nan, 8, 19],\n",
    "        'attempts': [1, 3, 2, 3, 2, 3, 1, 1, 2, 1],\n",
    "        'qualify': ['yes', 'no', 'yes', 'no', 'no', 'yes', 'yes', 'no', 'no', 'yes']}\n",
    "labels = ['a', 'b', 'c', 'd', 'e', 'f', 'g', 'h', 'i', 'j']\n",
    "\n",
    "df = pd.DataFrame(exam_data , index=labels)\n",
    "print(\"First three rows of the data frame:\")\n",
    "print(df.iloc[:3])"
   ]
  },
  {
   "cell_type": "markdown",
   "metadata": {},
   "source": [
    "## Q108:  \n",
    "Write the pandas program to select the specified columns and      the rows from a given data frame?    \n",
    " \n",
    "Sample Python dictionary data and list labels- Select 'name' and 'score' columns in rows 1, 3, 5, 6 from the following data frame. exam_data = {'name ': [ 'Anastasia', 'Dima', 'Katherine', 'James', 'Emily', 'Michael', 'Matthew', 'Laura', 'Kevin', 'Jonas'], 'score'- [12.5, 9, 16.5, np.nan, 9, 20, 14.5,  np.nan, 8, 19], 'attempts'- [1, 3, 2, 3, 2, 3, 1, 1, 2, 1], 'qualify'- ['yes', 'no', 'yes', 'no', 'no', 'yes', 'yes', 'no', 'no', 'yes'] } labels = ['a ', ' b ', ' c ', ' d ', ' e ', ' f ', ' g ', 'h', 'i', 'j'] Expected Output- Select specific columns and rows- name score b Dima 9.0 d James NaN f Michael 20.0 g Matthew 14.5 \n",
    "\n",
    "## Ans :\n",
    "code is given below"
   ]
  },
  {
   "cell_type": "code",
   "execution_count": 576,
   "metadata": {},
   "outputs": [
    {
     "name": "stdout",
     "output_type": "stream",
     "text": [
      "Select specific columns and rows:\n",
      "   score qualify\n",
      "b    9.0      no\n",
      "d    NaN      no\n",
      "f   20.0     yes\n",
      "g   14.5     yes\n"
     ]
    }
   ],
   "source": [
    "import pandas as pd\n",
    "import numpy as np\n",
    "\n",
    "exam_data  = {'name': ['Anastasia', 'Dima', 'Katherine', 'James', 'Emily', 'Michael', 'Matthew', 'Laura', 'Kevin', 'Jonas'],\n",
    "        'score': [12.5, 9, 16.5, np.nan, 9, 20, 14.5, np.nan, 8, 19],\n",
    "        'attempts': [1, 3, 2, 3, 2, 3, 1, 1, 2, 1],\n",
    "        'qualify': ['yes', 'no', 'yes', 'no', 'no', 'yes', 'yes', 'no', 'no', 'yes']}\n",
    "labels = ['a', 'b', 'c', 'd', 'e', 'f', 'g', 'h', 'i', 'j']\n",
    "\n",
    "df = pd.DataFrame(exam_data , index=labels)\n",
    "print(\"specific columns and rows:\")\n",
    "print(df.iloc[[1, 3, 5, 6], [1, 3]])"
   ]
  },
  {
   "cell_type": "markdown",
   "metadata": {},
   "source": [
    "## Q109.\n",
    "\n",
    "Write the pandas program to calculate mean score for each   different student in DataFrame? \n",
    " \n",
    "Sample Python dictionary data and list labels- exam_data = {'name': ['Anastasia', 'Dima', 'Katherine', 'James', 'Emily', 'Michael', 'Matthew', 'Laura', 'Kevin', 'Jonas'], 'score': [12.5, 9, 16.5, np.nan, 9, 20, 14.5, np.nan, 8, 19], 'attempts'- [1, 3, 2, 3, 2, 3, 1, 1, 2, 1], 'qualify'- ['yes', 'no', ' yes ', ' no ', ' no ', ' yes ', ' yes ', ' no ', ' no ', ' yes '] } labels = ['a', 'b', 'c', 'd', 'e', 'f', 'g', 'h', 'i', 'j'] \n",
    "\n",
    "Expected Output- Mean score for each different student in data frame: 13.5625 \n",
    "\n",
    "## Ans :\n",
    "code is given below\n"
   ]
  },
  {
   "cell_type": "code",
   "execution_count": 577,
   "metadata": {},
   "outputs": [
    {
     "name": "stdout",
     "output_type": "stream",
     "text": [
      "\n",
      "Mean score for each different student in data frame:\n",
      "13.5625\n"
     ]
    }
   ],
   "source": [
    "import pandas as pd\n",
    "import numpy as np\n",
    "exam_data  = {'name': ['Anastasia', 'Dima', 'Katherine', 'James', 'Emily', 'Michael', 'Matthew', 'Laura', 'Kevin', 'Jonas'],\n",
    "        'score': [12.5, 9, 16.5, np.nan, 9, 20, 14.5, np.nan, 8, 19],\n",
    "        'attempts': [1, 3, 2, 3, 2, 3, 1, 1, 2, 1],\n",
    "        'qualify': ['yes', 'no', 'yes', 'no', 'no', 'yes', 'yes', 'no', 'no', 'yes']}\n",
    "labels = ['a', 'b', 'c', 'd', 'e', 'f', 'g', 'h', 'i', 'j']\n",
    "\n",
    "df = pd.DataFrame(exam_data , index=labels)\n",
    "print(\"\\nMean score for each different student in data frame:\")\n",
    "print(df['score'].mean())"
   ]
  },
  {
   "cell_type": "markdown",
   "metadata": {},
   "source": [
    "## Q110. \n",
    "Write the Pandas program to rename columns of a given   DataFrame ? \n",
    " \n",
    "Sample data- \n",
    "Original data frame col1 col2 col3 \n",
    "                    0 1 4 \n",
    "                    7 1 2 \n",
    "                    5 8 2 \n",
    "                    3 6 9 \n",
    "New data frame after renaming columns:\n",
    "    Column1 Column2 Column3 \n",
    "         0 1 4 \n",
    "        7 1 2 \n",
    "        5 8 2 \n",
    "        3 6 9 \n",
    "\n",
    "## Ans :\n",
    "code is given below"
   ]
  },
  {
   "cell_type": "code",
   "execution_count": 578,
   "metadata": {},
   "outputs": [
    {
     "name": "stdout",
     "output_type": "stream",
     "text": [
      "Original DataFrame\n",
      "   col1  col2  col3\n",
      "0     1     4     7\n",
      "1     2     5     8\n",
      "2     3     6     9\n",
      "New DataFrame after renaming columns:\n",
      "   Column1  Column2  Column3\n",
      "0        1        4        7\n",
      "1        2        5        8\n",
      "2        3        6        9\n"
     ]
    }
   ],
   "source": [
    "import pandas as pd\n",
    "d = {'col1': [1, 2, 3], 'col2': [4, 5, 6], 'col3': [7, 8, 9]}\n",
    "df = pd.DataFrame(data=d)\n",
    "print(\"Original DataFrame\")\n",
    "print(df)\n",
    "df.columns = ['Column1', 'Column2', 'Column3']\n",
    "df = df.rename(columns={'col1': 'Column1', 'col2': 'Column2', 'col3': 'Column3'})\n",
    "print(\"New DataFrame after renaming columns:\")\n",
    "print(df)"
   ]
  },
  {
   "cell_type": "markdown",
   "metadata": {},
   "source": [
    "# Q111. \n",
    "Write a pandas program to count city-wise number of people from   a given of data set (city, name of the person)?   \n",
    "\n",
    "Sample data-\n",
    "city  Number of people 0   California 4 1   Georgia 2 2   Los Angeles 4 \n",
    "\n",
    "## Ans :\n",
    "code is given below\n"
   ]
  },
  {
   "cell_type": "code",
   "execution_count": 582,
   "metadata": {},
   "outputs": [
    {
     "name": "stdout",
     "output_type": "stream",
     "text": [
      "          city  Number of people\n",
      "0   California                 4\n",
      "1      Georgia                 2\n",
      "2  Los Angeles                 4\n"
     ]
    }
   ],
   "source": [
    "import pandas as pd\n",
    "df1 = pd.DataFrame({'name': ['Anastasia', 'Dima', 'Katherine', 'James', 'Emily', 'Michael', 'Matthew', 'Laura', 'Kevin', 'Jonas'],\n",
    "'city': ['California', 'Los Angeles', 'California', 'California', 'California', 'Los Angeles', 'Los Angeles', 'Georgia', 'Georgia', 'Los Angeles']})\n",
    "g1 = df1.groupby([\"city\"]).size().reset_index(name='Number of people')\n",
    "print(g1)"
   ]
  },
  {
   "cell_type": "markdown",
   "metadata": {},
   "source": [
    "## Q112.\n",
    "Write a pandas program to widen output display to see more   columns? \n",
    " \n",
    "Sample data- Original data frame col1 col2 col3 0 1 4 7 1 4 5 8 2 3 6  9 3 4 7  0 4 5 8  1 \n",
    "\n",
    "## Ans :\n",
    "code is given below"
   ]
  },
  {
   "cell_type": "code",
   "execution_count": 583,
   "metadata": {},
   "outputs": [
    {
     "name": "stdout",
     "output_type": "stream",
     "text": [
      "Original DataFrame\n",
      "   col1  col2  col3\n",
      "0     1     4     7\n",
      "1     4     5     8\n",
      "2     3     6     9\n",
      "3     4     7     0\n",
      "4     5     8     1\n"
     ]
    }
   ],
   "source": [
    "import pandas as pd\n",
    "import numpy as np\n",
    "d = {'col1': [1, 4, 3, 4, 5], 'col2': [4, 5, 6, 7, 8], 'col3': [7, 8, 9, 0, 1]}\n",
    "df = pd.DataFrame(data=d)\n",
    "pd.set_option('display.max_rows', 50)\n",
    "pd.set_option('display.max_columns', 50)\n",
    "pd.set_option('display.width', 100)\n",
    "print(\"Original DataFrame\")\n",
    "print(df)"
   ]
  },
  {
   "cell_type": "markdown",
   "metadata": {},
   "source": [
    "## Q113.\n",
    "\n",
    "Write a pandas program to convert the data frame column type   from string to DateTime?   \n",
    " \n",
    "Sample data- \n",
    "String Date- 0 3/11/2000 1 3/12/2000 2 3/13/2000 dtype- object \n",
    "Original DataFrame (string to datetime)- 0 0 2000-03-11 1 2000-03-12 2 2000-03-13 \n",
    "\n",
    "## Ans :\n",
    "code is given below"
   ]
  },
  {
   "cell_type": "code",
   "execution_count": 585,
   "metadata": {},
   "outputs": [
    {
     "name": "stdout",
     "output_type": "stream",
     "text": [
      "String Date:\n",
      "0    3/11/2000\n",
      "1    3/12/2000\n",
      "2    3/13/2000\n",
      "dtype: object\n",
      "Original DataFrame (string to datetime):\n",
      "           0\n",
      "0 2000-03-11\n",
      "1 2000-03-12\n",
      "2 2000-03-13\n"
     ]
    }
   ],
   "source": [
    "import pandas as pd\n",
    "import numpy as np\n",
    "s = pd.Series(['3/11/2000', '3/12/2000', '3/13/2000'])\n",
    "print(\"String Date:\")\n",
    "print(s)\n",
    "r = pd.to_datetime(s)\n",
    "df = pd.DataFrame(r)\n",
    "print(\"Original DataFrame (string to datetime):\")\n",
    "print(df)"
   ]
  },
  {
   "cell_type": "markdown",
   "metadata": {},
   "source": [
    "## Q114. \n",
    "Write a pandas program to append the data to an empty   DataFrame?\n",
    "\n",
    "Sample data- Original DataFrame- After appending some data: col1 col2 0 0 0 1 1 1 2 2 2 \n",
    "\n",
    "\n",
    "## Ans :\n",
    "code is given below"
   ]
  },
  {
   "cell_type": "code",
   "execution_count": 586,
   "metadata": {},
   "outputs": [
    {
     "name": "stdout",
     "output_type": "stream",
     "text": [
      "After appending some data:\n",
      "   col1  col2\n",
      "0     0     0\n",
      "1     1     1\n",
      "2     2     2\n"
     ]
    }
   ],
   "source": [
    "import pandas as pd\n",
    "import numpy as np\n",
    "df = pd.DataFrame()\n",
    "data = pd.DataFrame({\"col1\": range(3),\"col2\": range(3)})\n",
    "print(\"After appending some data:\")\n",
    "df = df.append(data)\n",
    "print(df)"
   ]
  },
  {
   "cell_type": "markdown",
   "metadata": {},
   "source": [
    "## Q115.\n",
    "\n",
    "Write a pandas program to count the  number of columns of a   DataFrame? \n",
    " \n",
    "Sample Output- Original DataFrame col1 col2 col3 0  1  4 7 1  2  5  8 2  3  6  12 3  4  9  1 4  7  5  11 Number of columns- 3\n",
    "\n",
    "## Ans :\n",
    "code is given below"
   ]
  },
  {
   "cell_type": "code",
   "execution_count": 598,
   "metadata": {},
   "outputs": [
    {
     "name": "stdout",
     "output_type": "stream",
     "text": [
      "number of columns  3\n"
     ]
    }
   ],
   "source": [
    "import pandas as pd\n",
    "import numpy as np\n",
    "\n",
    "data = {'col1':[1,2,3,4,7],'col2':[4,5,6,9,5],'col3':[7,8,12,1,11]}\n",
    "df=pd.DataFrame(data)\n",
    "t_cols = len( df.axes[1])\n",
    "print(\"number of columns \" ,str(t_cols))\n"
   ]
  },
  {
   "cell_type": "markdown",
   "metadata": {},
   "source": [
    "## Q116. \n",
    "\n",
    "Write a Pandas program to remove the last n rows of a given   DataFrame ? \n",
    " \n",
    "Sample Output: Original DataFrame col1 col2 col3 0 1 4 7 1 2 5 5 2 3 6  8 3 4 9 12 4 7 5  1 5 11 0 11 After removing last 3 rows of the said DataFrame- col1 col2 col3 0 1 4 7 1 2 5 5 2 3 6 8 \n",
    "\n",
    "## Ans :\n",
    "code is given below"
   ]
  },
  {
   "cell_type": "code",
   "execution_count": 599,
   "metadata": {},
   "outputs": [
    {
     "name": "stdout",
     "output_type": "stream",
     "text": [
      "Original DataFrame\n",
      "   col1  col2  col3\n",
      "0     1     4     7\n",
      "1     2     5     5\n",
      "2     3     6     8\n",
      "3     4     9    12\n",
      "4     7     5     1\n",
      "5    11     0    11\n",
      "\n",
      "After removing last 3 rows of the said DataFrame:\n",
      "   col1  col2  col3\n",
      "0     1     4     7\n",
      "1     2     5     5\n",
      "2     3     6     8\n"
     ]
    }
   ],
   "source": [
    "import pandas as pd\n",
    "d = {'col1': [1, 2, 3, 4, 7, 11], 'col2': [4, 5, 6, 9, 5, 0], 'col3': [7, 5, 8, 12, 1,11]}\n",
    "df = pd.DataFrame(data=d)\n",
    "print(\"Original DataFrame\")\n",
    "print(df)\n",
    "print(\"\\nAfter removing last 3 rows of the said DataFrame:\")\n",
    "df1 = df.iloc[:3]\n",
    "print(df1)"
   ]
  },
  {
   "cell_type": "markdown",
   "metadata": {},
   "source": [
    "## Q117. \n",
    "\n",
    "Write a Pandas program to import excel data (coalpublic2013.xlsx   ) into a Pandas data frame. \n",
    "\n",
    "\n",
    "## Ans :\n",
    "code is given below\n"
   ]
  },
  {
   "cell_type": "code",
   "execution_count": 602,
   "metadata": {},
   "outputs": [
    {
     "data": {
      "text/html": [
       "<div>\n",
       "<style scoped>\n",
       "    .dataframe tbody tr th:only-of-type {\n",
       "        vertical-align: middle;\n",
       "    }\n",
       "\n",
       "    .dataframe tbody tr th {\n",
       "        vertical-align: top;\n",
       "    }\n",
       "\n",
       "    .dataframe thead th {\n",
       "        text-align: right;\n",
       "    }\n",
       "</style>\n",
       "<table border=\"1\" class=\"dataframe\">\n",
       "  <thead>\n",
       "    <tr style=\"text-align: right;\">\n",
       "      <th></th>\n",
       "      <th>Year</th>\n",
       "      <th>MSHA ID</th>\n",
       "      <th>Mine_Name</th>\n",
       "      <th>Production</th>\n",
       "      <th>Labor_Hours</th>\n",
       "    </tr>\n",
       "  </thead>\n",
       "  <tbody>\n",
       "    <tr>\n",
       "      <th>0</th>\n",
       "      <td>2013</td>\n",
       "      <td>103381</td>\n",
       "      <td>Tacoa Highwall Miner</td>\n",
       "      <td>56004</td>\n",
       "      <td>22392</td>\n",
       "    </tr>\n",
       "    <tr>\n",
       "      <th>1</th>\n",
       "      <td>2013</td>\n",
       "      <td>103404</td>\n",
       "      <td>Reid School Mine</td>\n",
       "      <td>28807</td>\n",
       "      <td>28447</td>\n",
       "    </tr>\n",
       "    <tr>\n",
       "      <th>2</th>\n",
       "      <td>2013</td>\n",
       "      <td>100759</td>\n",
       "      <td>North River #1 Underground Min</td>\n",
       "      <td>1440115</td>\n",
       "      <td>474784</td>\n",
       "    </tr>\n",
       "    <tr>\n",
       "      <th>3</th>\n",
       "      <td>2013</td>\n",
       "      <td>103246</td>\n",
       "      <td>Bear Creek</td>\n",
       "      <td>87587</td>\n",
       "      <td>29193</td>\n",
       "    </tr>\n",
       "    <tr>\n",
       "      <th>4</th>\n",
       "      <td>2013</td>\n",
       "      <td>103451</td>\n",
       "      <td>Knight Mine</td>\n",
       "      <td>147499</td>\n",
       "      <td>46393</td>\n",
       "    </tr>\n",
       "  </tbody>\n",
       "</table>\n",
       "</div>"
      ],
      "text/plain": [
       "   Year  MSHA ID                       Mine_Name  Production  Labor_Hours\n",
       "0  2013   103381            Tacoa Highwall Miner       56004        22392\n",
       "1  2013   103404                Reid School Mine       28807        28447\n",
       "2  2013   100759  North River #1 Underground Min     1440115       474784\n",
       "3  2013   103246                      Bear Creek       87587        29193\n",
       "4  2013   103451                     Knight Mine      147499        46393"
      ]
     },
     "execution_count": 602,
     "metadata": {},
     "output_type": "execute_result"
    }
   ],
   "source": [
    "import pandas as pd\n",
    "df = pd.read_excel('coalpublic2013.xlsx',sheet_name='coalpublic2013')\n",
    "df.head()"
   ]
  },
  {
   "cell_type": "markdown",
   "metadata": {},
   "source": [
    "## Q118. \n",
    "Write a Pandas program to import excel data (coalpublic2013.xlsx   ) into a data frame and find details where \"Mine Name\" starts with   \"P\"\n",
    "\n",
    "## Ans :\n",
    "code is given below\n",
    "\n"
   ]
  },
  {
   "cell_type": "code",
   "execution_count": 614,
   "metadata": {},
   "outputs": [
    {
     "name": "stdout",
     "output_type": "stream",
     "text": [
      "<map object at 0x000001C830655C18>\n"
     ]
    },
    {
     "data": {
      "text/html": [
       "<div>\n",
       "<style scoped>\n",
       "    .dataframe tbody tr th:only-of-type {\n",
       "        vertical-align: middle;\n",
       "    }\n",
       "\n",
       "    .dataframe tbody tr th {\n",
       "        vertical-align: top;\n",
       "    }\n",
       "\n",
       "    .dataframe thead th {\n",
       "        text-align: right;\n",
       "    }\n",
       "</style>\n",
       "<table border=\"1\" class=\"dataframe\">\n",
       "  <thead>\n",
       "    <tr style=\"text-align: right;\">\n",
       "      <th></th>\n",
       "      <th>Year</th>\n",
       "      <th>MSHA ID</th>\n",
       "      <th>Mine_Name</th>\n",
       "      <th>Production</th>\n",
       "      <th>Labor_Hours</th>\n",
       "    </tr>\n",
       "  </thead>\n",
       "  <tbody>\n",
       "    <tr>\n",
       "      <th>13</th>\n",
       "      <td>2013</td>\n",
       "      <td>103332</td>\n",
       "      <td>Powhatan Mine</td>\n",
       "      <td>140521</td>\n",
       "      <td>61394</td>\n",
       "    </tr>\n",
       "    <tr>\n",
       "      <th>18</th>\n",
       "      <td>2013</td>\n",
       "      <td>102976</td>\n",
       "      <td>Piney Woods Preparation Plant</td>\n",
       "      <td>0</td>\n",
       "      <td>14828</td>\n",
       "    </tr>\n",
       "    <tr>\n",
       "      <th>19</th>\n",
       "      <td>2013</td>\n",
       "      <td>102976</td>\n",
       "      <td>Piney Woods Preparation Plant</td>\n",
       "      <td>0</td>\n",
       "      <td>23193</td>\n",
       "    </tr>\n",
       "    <tr>\n",
       "      <th>46</th>\n",
       "      <td>2013</td>\n",
       "      <td>103321</td>\n",
       "      <td>Poplar Springs</td>\n",
       "      <td>189370</td>\n",
       "      <td>76366</td>\n",
       "    </tr>\n",
       "  </tbody>\n",
       "</table>\n",
       "</div>"
      ],
      "text/plain": [
       "    Year  MSHA ID                      Mine_Name  Production  Labor_Hours\n",
       "13  2013   103332                  Powhatan Mine      140521        61394\n",
       "18  2013   102976  Piney Woods Preparation Plant           0        14828\n",
       "19  2013   102976  Piney Woods Preparation Plant           0        23193\n",
       "46  2013   103321                 Poplar Springs      189370        76366"
      ]
     },
     "execution_count": 614,
     "metadata": {},
     "output_type": "execute_result"
    }
   ],
   "source": [
    "import pandas as pd\n",
    "import numpy as np\n",
    "df = pd.read_excel('coalpublic2013.xlsx',sheet_name='coalpublic2013')\n",
    "df[ list(map(lambda x:x.startswith('P'),df['Mine_Name']))]"
   ]
  },
  {
   "cell_type": "markdown",
   "metadata": {},
   "source": [
    "## Q119. \n",
    "\n",
    "Write a Pandas program to import excel data (employee.xlsx )  into a Pandas dataframe and find the list of employees where   hire_date> 01-01-07. \n",
    "\n",
    "## Ans :\n",
    "code is given below\n"
   ]
  },
  {
   "cell_type": "code",
   "execution_count": 617,
   "metadata": {},
   "outputs": [
    {
     "data": {
      "text/html": [
       "<div>\n",
       "<style scoped>\n",
       "    .dataframe tbody tr th:only-of-type {\n",
       "        vertical-align: middle;\n",
       "    }\n",
       "\n",
       "    .dataframe tbody tr th {\n",
       "        vertical-align: top;\n",
       "    }\n",
       "\n",
       "    .dataframe thead th {\n",
       "        text-align: right;\n",
       "    }\n",
       "</style>\n",
       "<table border=\"1\" class=\"dataframe\">\n",
       "  <thead>\n",
       "    <tr style=\"text-align: right;\">\n",
       "      <th></th>\n",
       "      <th>emp_id</th>\n",
       "      <th>first_name</th>\n",
       "      <th>last_name</th>\n",
       "      <th>hire_date</th>\n",
       "    </tr>\n",
       "  </thead>\n",
       "  <tbody>\n",
       "    <tr>\n",
       "      <th>4</th>\n",
       "      <td>104</td>\n",
       "      <td>Bruce</td>\n",
       "      <td>Ernst</td>\n",
       "      <td>2007-05-21</td>\n",
       "    </tr>\n",
       "    <tr>\n",
       "      <th>7</th>\n",
       "      <td>107</td>\n",
       "      <td>Diana</td>\n",
       "      <td>Lorentz</td>\n",
       "      <td>2007-02-07</td>\n",
       "    </tr>\n",
       "    <tr>\n",
       "      <th>13</th>\n",
       "      <td>113</td>\n",
       "      <td>Luis</td>\n",
       "      <td>Popp</td>\n",
       "      <td>2007-12-07</td>\n",
       "    </tr>\n",
       "    <tr>\n",
       "      <th>19</th>\n",
       "      <td>119</td>\n",
       "      <td>Karen</td>\n",
       "      <td>Colmenares</td>\n",
       "      <td>2007-08-10</td>\n",
       "    </tr>\n",
       "  </tbody>\n",
       "</table>\n",
       "</div>"
      ],
      "text/plain": [
       "    emp_id first_name   last_name  hire_date\n",
       "4      104      Bruce       Ernst 2007-05-21\n",
       "7      107      Diana     Lorentz 2007-02-07\n",
       "13     113       Luis        Popp 2007-12-07\n",
       "19     119      Karen  Colmenares 2007-08-10"
      ]
     },
     "execution_count": 617,
     "metadata": {},
     "output_type": "execute_result"
    }
   ],
   "source": [
    "import pandas as pd\n",
    "import numpy as np\n",
    "df = pd.read_excel('employee.xlsx')\n",
    "df[df['hire_date']> '2007-01-01']"
   ]
  },
  {
   "cell_type": "markdown",
   "metadata": {},
   "source": [
    "## Q120.  \n",
    "\n",
    "Write a Pandas program to import excel data (employee.xlsx ) into a Pandas dataframe and  find a list of the employees of a specified year \n",
    "\n",
    "## Ans :\n",
    "code is given below"
   ]
  },
  {
   "cell_type": "code",
   "execution_count": 621,
   "metadata": {},
   "outputs": [
    {
     "data": {
      "text/html": [
       "<div>\n",
       "<style scoped>\n",
       "    .dataframe tbody tr th:only-of-type {\n",
       "        vertical-align: middle;\n",
       "    }\n",
       "\n",
       "    .dataframe tbody tr th {\n",
       "        vertical-align: top;\n",
       "    }\n",
       "\n",
       "    .dataframe thead th {\n",
       "        text-align: right;\n",
       "    }\n",
       "</style>\n",
       "<table border=\"1\" class=\"dataframe\">\n",
       "  <thead>\n",
       "    <tr style=\"text-align: right;\">\n",
       "      <th></th>\n",
       "      <th>emp_id</th>\n",
       "      <th>first_name</th>\n",
       "      <th>last_name</th>\n",
       "    </tr>\n",
       "    <tr>\n",
       "      <th>hire_date</th>\n",
       "      <th></th>\n",
       "      <th></th>\n",
       "      <th></th>\n",
       "    </tr>\n",
       "  </thead>\n",
       "  <tbody>\n",
       "    <tr>\n",
       "      <th>2007-05-21</th>\n",
       "      <td>104</td>\n",
       "      <td>Bruce</td>\n",
       "      <td>Ernst</td>\n",
       "    </tr>\n",
       "    <tr>\n",
       "      <th>2007-02-07</th>\n",
       "      <td>107</td>\n",
       "      <td>Diana</td>\n",
       "      <td>Lorentz</td>\n",
       "    </tr>\n",
       "    <tr>\n",
       "      <th>2007-12-07</th>\n",
       "      <td>113</td>\n",
       "      <td>Luis</td>\n",
       "      <td>Popp</td>\n",
       "    </tr>\n",
       "    <tr>\n",
       "      <th>2007-08-10</th>\n",
       "      <td>119</td>\n",
       "      <td>Karen</td>\n",
       "      <td>Colmenares</td>\n",
       "    </tr>\n",
       "  </tbody>\n",
       "</table>\n",
       "</div>"
      ],
      "text/plain": [
       "            emp_id first_name   last_name\n",
       "hire_date                                \n",
       "2007-05-21     104      Bruce       Ernst\n",
       "2007-02-07     107      Diana     Lorentz\n",
       "2007-12-07     113       Luis        Popp\n",
       "2007-08-10     119      Karen  Colmenares"
      ]
     },
     "execution_count": 621,
     "metadata": {},
     "output_type": "execute_result"
    }
   ],
   "source": [
    "import pandas as pd\n",
    "import numpy as np\n",
    "df = pd.read_excel('employee.xlsx')\n",
    "df2 = df.set_index(['hire_date'])\n",
    "df2[\"2007\"]\n"
   ]
  },
  {
   "cell_type": "markdown",
   "metadata": {},
   "source": [
    "## Q121. \n",
    "Write a pandas program to import three datasheets from a given   excel data  (coalpublic2013.xlsx ) in to a single dataframe.    Note: Structure of three datasheets are same.\n",
    "\n",
    "## Ans :\n",
    "code is given below"
   ]
  },
  {
   "cell_type": "code",
   "execution_count": 971,
   "metadata": {},
   "outputs": [
    {
     "data": {
      "text/html": [
       "<div>\n",
       "<style scoped>\n",
       "    .dataframe tbody tr th:only-of-type {\n",
       "        vertical-align: middle;\n",
       "    }\n",
       "\n",
       "    .dataframe tbody tr th {\n",
       "        vertical-align: top;\n",
       "    }\n",
       "\n",
       "    .dataframe thead th {\n",
       "        text-align: right;\n",
       "    }\n",
       "</style>\n",
       "<table border=\"1\" class=\"dataframe\">\n",
       "  <thead>\n",
       "    <tr style=\"text-align: right;\">\n",
       "      <th></th>\n",
       "      <th>Year</th>\n",
       "      <th>MSHA ID</th>\n",
       "      <th>Mine_Name</th>\n",
       "      <th>Production</th>\n",
       "      <th>Labor_Hours</th>\n",
       "    </tr>\n",
       "  </thead>\n",
       "  <tbody>\n",
       "    <tr>\n",
       "      <th>0</th>\n",
       "      <td>2013</td>\n",
       "      <td>103381</td>\n",
       "      <td>Tacoa Highwall Miner</td>\n",
       "      <td>56004</td>\n",
       "      <td>22392</td>\n",
       "    </tr>\n",
       "    <tr>\n",
       "      <th>1</th>\n",
       "      <td>2013</td>\n",
       "      <td>103404</td>\n",
       "      <td>Reid School Mine</td>\n",
       "      <td>28807</td>\n",
       "      <td>28447</td>\n",
       "    </tr>\n",
       "    <tr>\n",
       "      <th>2</th>\n",
       "      <td>2013</td>\n",
       "      <td>100759</td>\n",
       "      <td>North River #1 Underground Min</td>\n",
       "      <td>1440115</td>\n",
       "      <td>474784</td>\n",
       "    </tr>\n",
       "    <tr>\n",
       "      <th>3</th>\n",
       "      <td>2013</td>\n",
       "      <td>103246</td>\n",
       "      <td>Bear Creek</td>\n",
       "      <td>87587</td>\n",
       "      <td>29193</td>\n",
       "    </tr>\n",
       "    <tr>\n",
       "      <th>4</th>\n",
       "      <td>2013</td>\n",
       "      <td>103451</td>\n",
       "      <td>Knight Mine</td>\n",
       "      <td>147499</td>\n",
       "      <td>46393</td>\n",
       "    </tr>\n",
       "  </tbody>\n",
       "</table>\n",
       "</div>"
      ],
      "text/plain": [
       "   Year  MSHA ID                       Mine_Name  Production  Labor_Hours\n",
       "0  2013   103381            Tacoa Highwall Miner       56004        22392\n",
       "1  2013   103404                Reid School Mine       28807        28447\n",
       "2  2013   100759  North River #1 Underground Min     1440115       474784\n",
       "3  2013   103246                      Bear Creek       87587        29193\n",
       "4  2013   103451                     Knight Mine      147499        46393"
      ]
     },
     "execution_count": 971,
     "metadata": {},
     "output_type": "execute_result"
    }
   ],
   "source": [
    "import pandas as pd\n",
    "import numpy as np\n",
    "df1 = pd.read_excel('coalpublic2013.xlsx ',sheet_name='coalpublic2013')\n",
    "df2 = pd.read_excel('coalpublic2013.xlsx ',sheet_name='coalpublic2014')\n",
    "df3 = pd.read_excel('coalpublic2013.xlsx ',sheet_name='coalpublic2015')\n",
    "df = pd.concat([df1, df2, df3])\n",
    "df.head()"
   ]
  },
  {
   "cell_type": "markdown",
   "metadata": {},
   "source": [
    "## Q 122. \n",
    "\n",
    "Write a pandas program to import three datasheets from a given   excel data (employee.xlsx ) into a single data frame and export the   result into new Excel file.                          Note: Structure of three datasheets are same. \n",
    "\n",
    "## Ans :\n",
    "code is given below"
   ]
  },
  {
   "cell_type": "code",
   "execution_count": 630,
   "metadata": {},
   "outputs": [],
   "source": [
    "import pandas as pd\n",
    "import numpy as np\n",
    "df1 = pd.read_excel('employee.xlsx',sheet_name='Sheet1')\n",
    "df2 = pd.read_excel('employee.xlsx',sheet_name='Sheet2')\n",
    "df3 = pd.read_excel('employee.xlsx',sheet_name='Sheet3')\n",
    "df = pd.concat([df1, df2, df3])\n",
    "df.to_excel('emp_output.xlsx')"
   ]
  },
  {
   "cell_type": "markdown",
   "metadata": {},
   "source": [
    "## Q123. \n",
    "\n",
    "Write a pandas program to create the Pivot table with multiple   indexes from the data set of the  titanic.csv.\n",
    "\n",
    "\n",
    "## Ans :\n",
    "code is given below"
   ]
  },
  {
   "cell_type": "code",
   "execution_count": 658,
   "metadata": {},
   "outputs": [
    {
     "data": {
      "text/html": [
       "<div>\n",
       "<style scoped>\n",
       "    .dataframe tbody tr th:only-of-type {\n",
       "        vertical-align: middle;\n",
       "    }\n",
       "\n",
       "    .dataframe tbody tr th {\n",
       "        vertical-align: top;\n",
       "    }\n",
       "\n",
       "    .dataframe thead th {\n",
       "        text-align: right;\n",
       "    }\n",
       "</style>\n",
       "<table border=\"1\" class=\"dataframe\">\n",
       "  <thead>\n",
       "    <tr style=\"text-align: right;\">\n",
       "      <th></th>\n",
       "      <th></th>\n",
       "      <th>Unnamed: 15</th>\n",
       "      <th>adult_male</th>\n",
       "      <th>age</th>\n",
       "      <th>alone</th>\n",
       "      <th>fare</th>\n",
       "      <th>parch</th>\n",
       "      <th>sibsp</th>\n",
       "      <th>survived</th>\n",
       "    </tr>\n",
       "    <tr>\n",
       "      <th>sex</th>\n",
       "      <th>pclass</th>\n",
       "      <th></th>\n",
       "      <th></th>\n",
       "      <th></th>\n",
       "      <th></th>\n",
       "      <th></th>\n",
       "      <th></th>\n",
       "      <th></th>\n",
       "      <th></th>\n",
       "    </tr>\n",
       "  </thead>\n",
       "  <tbody>\n",
       "    <tr>\n",
       "      <th rowspan=\"3\" valign=\"top\">female</th>\n",
       "      <th>1</th>\n",
       "      <td>0.0</td>\n",
       "      <td>0.0</td>\n",
       "      <td>2942.00</td>\n",
       "      <td>34.0</td>\n",
       "      <td>9975.8250</td>\n",
       "      <td>43</td>\n",
       "      <td>52</td>\n",
       "      <td>91</td>\n",
       "    </tr>\n",
       "    <tr>\n",
       "      <th>2</th>\n",
       "      <td>0.0</td>\n",
       "      <td>0.0</td>\n",
       "      <td>2125.50</td>\n",
       "      <td>32.0</td>\n",
       "      <td>1669.7292</td>\n",
       "      <td>46</td>\n",
       "      <td>37</td>\n",
       "      <td>70</td>\n",
       "    </tr>\n",
       "    <tr>\n",
       "      <th>3</th>\n",
       "      <td>0.0</td>\n",
       "      <td>0.0</td>\n",
       "      <td>2218.50</td>\n",
       "      <td>60.0</td>\n",
       "      <td>2321.1086</td>\n",
       "      <td>115</td>\n",
       "      <td>129</td>\n",
       "      <td>72</td>\n",
       "    </tr>\n",
       "    <tr>\n",
       "      <th rowspan=\"3\" valign=\"top\">male</th>\n",
       "      <th>1</th>\n",
       "      <td>0.0</td>\n",
       "      <td>119.0</td>\n",
       "      <td>4169.42</td>\n",
       "      <td>75.0</td>\n",
       "      <td>8201.5875</td>\n",
       "      <td>34</td>\n",
       "      <td>38</td>\n",
       "      <td>45</td>\n",
       "    </tr>\n",
       "    <tr>\n",
       "      <th>2</th>\n",
       "      <td>0.0</td>\n",
       "      <td>99.0</td>\n",
       "      <td>3043.33</td>\n",
       "      <td>72.0</td>\n",
       "      <td>2132.1125</td>\n",
       "      <td>24</td>\n",
       "      <td>37</td>\n",
       "      <td>17</td>\n",
       "    </tr>\n",
       "    <tr>\n",
       "      <th>3</th>\n",
       "      <td>0.0</td>\n",
       "      <td>319.0</td>\n",
       "      <td>6706.42</td>\n",
       "      <td>264.0</td>\n",
       "      <td>4393.5865</td>\n",
       "      <td>78</td>\n",
       "      <td>173</td>\n",
       "      <td>47</td>\n",
       "    </tr>\n",
       "  </tbody>\n",
       "</table>\n",
       "</div>"
      ],
      "text/plain": [
       "               Unnamed: 15  adult_male      age  alone       fare  parch  sibsp  survived\n",
       "sex    pclass                                                                            \n",
       "female 1               0.0         0.0  2942.00   34.0  9975.8250     43     52        91\n",
       "       2               0.0         0.0  2125.50   32.0  1669.7292     46     37        70\n",
       "       3               0.0         0.0  2218.50   60.0  2321.1086    115    129        72\n",
       "male   1               0.0       119.0  4169.42   75.0  8201.5875     34     38        45\n",
       "       2               0.0        99.0  3043.33   72.0  2132.1125     24     37        17\n",
       "       3               0.0       319.0  6706.42  264.0  4393.5865     78    173        47"
      ]
     },
     "execution_count": 658,
     "metadata": {},
     "output_type": "execute_result"
    }
   ],
   "source": [
    "import pandas as pd\n",
    "import numpy as np\n",
    "df = pd.read_csv('titanic.csv')\n",
    "output = pd.pivot_table(df, index = [\"sex\",\"pclass\"], aggfunc=np.sum)\n",
    "output"
   ]
  },
  {
   "cell_type": "markdown",
   "metadata": {},
   "source": [
    "## Q124. \n",
    "Write a Pandas program to create the Pivot table and find survival   rate by gender? \n",
    "\n",
    "## Ans :\n",
    "code is given below"
   ]
  },
  {
   "cell_type": "code",
   "execution_count": 669,
   "metadata": {},
   "outputs": [
    {
     "data": {
      "text/plain": [
       "sex     survived\n",
       "female  0            81\n",
       "        1           233\n",
       "male    0           468\n",
       "        1           109\n",
       "dtype: int64"
      ]
     },
     "execution_count": 669,
     "metadata": {},
     "output_type": "execute_result"
    }
   ],
   "source": [
    "import pandas as pd\n",
    "import numpy as np\n",
    "df = pd.read_csv('titanic.csv')\n",
    "output = pd.pivot_table(df, index = [\"sex\",\"survived\"], aggfunc='size')\n",
    "output"
   ]
  },
  {
   "cell_type": "markdown",
   "metadata": {},
   "source": [
    "## Q125. \n",
    "\n",
    "Write a pandas program to make partition each of the passengers   into 4 categories based on their age.                          Note: Age categories- (0, 10), (10, 30), (30, 60), (60, 80) \n",
    "\n",
    "## Ans :\n",
    "code is given below"
   ]
  },
  {
   "cell_type": "code",
   "execution_count": 691,
   "metadata": {},
   "outputs": [
    {
     "data": {
      "text/plain": [
       "age\n",
       "(0, 10]      64\n",
       "(10, 30]    345\n",
       "(30, 60]    283\n",
       "(60, 80]     22\n",
       "dtype: int64"
      ]
     },
     "execution_count": 691,
     "metadata": {},
     "output_type": "execute_result"
    }
   ],
   "source": [
    "import pandas as pd\n",
    "import numpy as np\n",
    "df = pd.read_csv('titanic.csv')\n",
    "age=pd.cut(df['age'], [0,10,30,60,80])\n",
    "output = pd.pivot_table(df, index = [age],aggfunc='size')\n",
    "output"
   ]
  },
  {
   "cell_type": "markdown",
   "metadata": {},
   "source": [
    "## Q126. \n",
    "\n",
    "Write a pandas program to create the Pivot table and find survival   rate by the gender, age of the different categories of various   classes.\n",
    "\n",
    "## Ans :\n",
    "code is given below"
   ]
  },
  {
   "cell_type": "code",
   "execution_count": 692,
   "metadata": {},
   "outputs": [
    {
     "name": "stdout",
     "output_type": "stream",
     "text": [
      "class               First    Second     Third\n",
      "sex    age                                   \n",
      "female (0, 10]   0.000000  1.000000  0.500000\n",
      "       (10, 30]  0.970588  0.916667  0.508772\n",
      "       (30, 60]  0.979167  0.900000  0.272727\n",
      "       (60, 80]  1.000000       NaN  1.000000\n",
      "male   (0, 10]   1.000000  1.000000  0.363636\n",
      "       (10, 30]  0.458333  0.023256  0.139073\n",
      "       (30, 60]  0.412698  0.090909  0.118421\n",
      "       (60, 80]  0.083333  0.333333  0.000000\n"
     ]
    }
   ],
   "source": [
    "import pandas as pd\n",
    "import numpy as np\n",
    "df = pd.read_csv('titanic.csv')\n",
    "age=pd.cut(df['age'], [0,10,30,60,80])\n",
    "result = df.pivot_table('survived', index=['sex', age], columns='class')\n",
    "print(result)"
   ]
  },
  {
   "cell_type": "markdown",
   "metadata": {},
   "source": [
    "## Q127. \n",
    "\n",
    "Write a pandas program to create the Pivot table and calculate   number of women and men were in a particular cabin class\n",
    "\n",
    "## Ans :\n",
    "code is given below"
   ]
  },
  {
   "cell_type": "code",
   "execution_count": 695,
   "metadata": {},
   "outputs": [
    {
     "data": {
      "text/html": [
       "<div>\n",
       "<style scoped>\n",
       "    .dataframe tbody tr th:only-of-type {\n",
       "        vertical-align: middle;\n",
       "    }\n",
       "\n",
       "    .dataframe tbody tr th {\n",
       "        vertical-align: top;\n",
       "    }\n",
       "\n",
       "    .dataframe thead th {\n",
       "        text-align: right;\n",
       "    }\n",
       "</style>\n",
       "<table border=\"1\" class=\"dataframe\">\n",
       "  <thead>\n",
       "    <tr style=\"text-align: right;\">\n",
       "      <th>class</th>\n",
       "      <th>First</th>\n",
       "      <th>Second</th>\n",
       "      <th>Third</th>\n",
       "    </tr>\n",
       "    <tr>\n",
       "      <th>sex</th>\n",
       "      <th></th>\n",
       "      <th></th>\n",
       "      <th></th>\n",
       "    </tr>\n",
       "  </thead>\n",
       "  <tbody>\n",
       "    <tr>\n",
       "      <th>female</th>\n",
       "      <td>94</td>\n",
       "      <td>76</td>\n",
       "      <td>144</td>\n",
       "    </tr>\n",
       "    <tr>\n",
       "      <th>male</th>\n",
       "      <td>122</td>\n",
       "      <td>108</td>\n",
       "      <td>347</td>\n",
       "    </tr>\n",
       "  </tbody>\n",
       "</table>\n",
       "</div>"
      ],
      "text/plain": [
       "class   First  Second  Third\n",
       "sex                         \n",
       "female     94      76    144\n",
       "male      122     108    347"
      ]
     },
     "execution_count": 695,
     "metadata": {},
     "output_type": "execute_result"
    }
   ],
   "source": [
    "import pandas as pd\n",
    "import numpy as np\n",
    "df = pd.read_csv('titanic.csv')\n",
    "result = df.pivot_table(df, index=['sex'], columns='class',aggfunc='size')\n",
    "result"
   ]
  },
  {
   "cell_type": "markdown",
   "metadata": {},
   "source": [
    "## Q128. \n",
    "Write a pandas program to create the Pivot table and separate   the gender according to whether they travelled alone or not to get   the probability of survival\n",
    "\n",
    "## Ans :\n",
    "code is given below"
   ]
  },
  {
   "cell_type": "code",
   "execution_count": 698,
   "metadata": {},
   "outputs": [
    {
     "data": {
      "text/html": [
       "<div>\n",
       "<style scoped>\n",
       "    .dataframe tbody tr th:only-of-type {\n",
       "        vertical-align: middle;\n",
       "    }\n",
       "\n",
       "    .dataframe tbody tr th {\n",
       "        vertical-align: top;\n",
       "    }\n",
       "\n",
       "    .dataframe thead th {\n",
       "        text-align: right;\n",
       "    }\n",
       "</style>\n",
       "<table border=\"1\" class=\"dataframe\">\n",
       "  <thead>\n",
       "    <tr style=\"text-align: right;\">\n",
       "      <th>alone</th>\n",
       "      <th>False</th>\n",
       "      <th>True</th>\n",
       "    </tr>\n",
       "    <tr>\n",
       "      <th>sex</th>\n",
       "      <th></th>\n",
       "      <th></th>\n",
       "    </tr>\n",
       "  </thead>\n",
       "  <tbody>\n",
       "    <tr>\n",
       "      <th>female</th>\n",
       "      <td>188</td>\n",
       "      <td>126</td>\n",
       "    </tr>\n",
       "    <tr>\n",
       "      <th>male</th>\n",
       "      <td>166</td>\n",
       "      <td>411</td>\n",
       "    </tr>\n",
       "  </tbody>\n",
       "</table>\n",
       "</div>"
      ],
      "text/plain": [
       "alone   False  True \n",
       "sex                 \n",
       "female    188    126\n",
       "male      166    411"
      ]
     },
     "execution_count": 698,
     "metadata": {},
     "output_type": "execute_result"
    }
   ],
   "source": [
    "import pandas as pd\n",
    "import numpy as np\n",
    "df = pd.read_csv('titanic.csv')\n",
    "result = df.pivot_table('survived', index=['sex'], columns='alone',aggfunc='size')\n",
    "result"
   ]
  },
  {
   "cell_type": "markdown",
   "metadata": {},
   "source": [
    "## Q129. \n",
    "\n",
    "Write a pandas program to create the Pivot table and find the   probability of survival by class, gender, solo boarding, and the port   of embarkation. \n",
    "\n",
    "## Ans :\n",
    "code is given below"
   ]
  },
  {
   "cell_type": "code",
   "execution_count": 969,
   "metadata": {},
   "outputs": [
    {
     "name": "stdout",
     "output_type": "stream",
     "text": [
      "embark_town  Cherbourg                     Queenstown                  Southampton            \\\n",
      "class            First    Second     Third      First Second     Third       First    Second   \n",
      "sex    alone                                                                                   \n",
      "female False  1.000000  1.000000  0.611111        1.0    NaN  0.625000    0.941176  0.923077   \n",
      "       True   0.944444  1.000000  0.800000        NaN    1.0  0.760000    1.000000  0.892857   \n",
      "male   False  0.473684  0.166667  0.500000        0.0    NaN  0.100000    0.407407  0.300000   \n",
      "       True   0.347826  0.250000  0.151515        NaN    0.0  0.068966    0.326923  0.089552   \n",
      "\n",
      "embark_town             \n",
      "class            Third  \n",
      "sex    alone            \n",
      "female False  0.327586  \n",
      "       True   0.466667  \n",
      "male   False  0.142857  \n",
      "       True   0.123762  \n"
     ]
    }
   ],
   "source": [
    "import pandas as pd\n",
    "import numpy as np\n",
    "df = pd.read_csv('titanic.csv')\n",
    "result = df.pivot_table('survived', ['sex' , 'alone' ], [ 'embark_town', 'class' ])\n",
    "print(result)"
   ]
  },
  {
   "cell_type": "markdown",
   "metadata": {},
   "source": [
    "## Q130. \n",
    "Write a pandas program to get current date, oldest date and   number of days between Current date and the  oldest date of Ufo   dataset.\n",
    "\n",
    "## Ans :\n",
    "code is given below"
   ]
  },
  {
   "cell_type": "code",
   "execution_count": 754,
   "metadata": {},
   "outputs": [
    {
     "name": "stdout",
     "output_type": "stream",
     "text": [
      "          Date_time                  city state/province country UFO_shape  \\\n",
      "0  10/10/1949 20:30            san marcos             tx      us  cylinder   \n",
      "1  10/10/1949 21:00          lackland afb             tx     NaN     light   \n",
      "2  10/10/1955 17:00  chester (uk/england)            NaN      gb    circle   \n",
      "3  10/10/1956 21:00                  edna             tx      us    circle   \n",
      "4  10/10/1960 20:00               kaneohe             hi      us     light   \n",
      "\n",
      "  length_of_encounter_seconds described_duration_of_encounter  \\\n",
      "0                        2700                      45 minutes   \n",
      "1                        7200                         1-2 hrs   \n",
      "2                          20                      20 seconds   \n",
      "3                          20                        1/2 hour   \n",
      "4                         900                      15 minutes   \n",
      "\n",
      "                                         description date_documented    latitude   longitude  \n",
      "0  This event took place in early fall around 194...       4/27/2004  29.8830556  -97.941111  \n",
      "1  1949 Lackland AFB&#44 TX.  Lights racing acros...      12/16/2005    29.38421  -98.581082  \n",
      "2  Green/Orange circular disc over Chester&#44 En...       1/21/2008        53.2   -2.916667  \n",
      "3  My older brother and twin sister were leaving ...       1/17/2004  28.9783333  -96.645833  \n",
      "4  AS a Marine 1st Lt. flying an FJ4B fighter/att...       1/22/2004  21.4180556 -157.803611  \n",
      "\n",
      "Current date of Ufo dataset:\n",
      "2014-12-04 22:23:00\n",
      "\n",
      "Oldest date of Ufo dataset:\n",
      "1906-11-11 00:00:00\n",
      "\n",
      "Number of days between Current date and oldest date of Ufo dataset:\n",
      "39470\n"
     ]
    }
   ],
   "source": [
    "import pandas as pd\n",
    "df = pd.read_csv('ufo_sighting_data.csv')\n",
    "print(df.head())\n",
    "df['Date_time']=pd.to_datetime(df['Date_time'],format=\"%d/%m/%Y %H:%M\",errors='coerce')\n",
    "print(\"\\nCurrent date of Ufo dataset:\")\n",
    "print(df.Date_time.max())\n",
    "print(\"\\nOldest date of Ufo dataset:\")\n",
    "print(df.Date_time.min())\n",
    "print(\"\\nNumber of days between Current date and oldest date of Ufo dataset:\")\n",
    "print((df['Date_time'].max() - df['Date_time'].min()).days)\n"
   ]
  },
  {
   "cell_type": "markdown",
   "metadata": {},
   "source": [
    "## Q131. \n",
    "\n",
    "Write a pandas program to get all sighting days of the   unidentified flying object (ufo) between 1950-10-10 and 1960-10-  10.\n",
    "\n",
    "\n",
    "## Ans :\n",
    "code is given below"
   ]
  },
  {
   "cell_type": "code",
   "execution_count": 769,
   "metadata": {},
   "outputs": [
    {
     "name": "stdout",
     "output_type": "stream",
     "text": [
      "              Date_time                  city state/province country  UFO_shape  \\\n",
      "2   1955-10-10 17:00:00  chester (uk/england)            NaN      gb     circle   \n",
      "3   1956-10-10 21:00:00                  edna             tx      us     circle   \n",
      "480 1952-01-10 03:30:00       fukuoka (japan)            NaN     NaN       disk   \n",
      "481 1952-01-10 12:00:00           kansas city             mo      us       disk   \n",
      "482 1954-01-10 19:00:00             flatwoods             wv      us     circle   \n",
      "483 1955-01-10 22:00:00      mono lake (area)             ca     NaN     circle   \n",
      "484 1956-01-10 19:00:00               newport             nh      us  rectangle   \n",
      "485 1957-01-10 16:00:00       nelchina (near)             ak      us    unknown   \n",
      "486 1957-01-10 21:00:00              paterson             nj      us       disk   \n",
      "487 1957-01-10 22:00:00    northeast cape afs             ak     NaN        NaN   \n",
      "\n",
      "    length_of_encounter_seconds described_duration_of_encounter  \\\n",
      "2                            20                      20 seconds   \n",
      "3                            20                        1/2 hour   \n",
      "480                        1200                   about 20 mins   \n",
      "481                          90                         90 sec.   \n",
      "482                          60                        1 minute   \n",
      "483                           5                 five seconds+/-   \n",
      "484                         300                       5 minutes   \n",
      "485                         180               3 minutes maximum   \n",
      "486                          10                      10 seconds   \n",
      "487                         900                        10-15min   \n",
      "\n",
      "                                           description date_documented    latitude   longitude  \n",
      "2    Green/Orange circular disc over Chester&#44 En...       1/21/2008        53.2   -2.916667  \n",
      "3    My older brother and twin sister were leaving ...       1/17/2004  28.9783333  -96.645833  \n",
      "480  UFO seen by multiple U. S. military personnel;...       12/7/2006   33.590355  130.401716  \n",
      "481  1952 daylight sighting of multiple discs in fo...      10/31/2008  39.0997222  -94.578333  \n",
      "482  I saw the craft go across the horizon.  It app...       4/12/2013  38.7230556  -80.650000  \n",
      "483  NO KNOWN AIRCRAFT (1955 and maybe today) COULD...       3/19/2009   38.007059 -119.012259  \n",
      "484  Disk with glass center section&#44 and flames ...       4/16/2005  43.3652778  -72.173889  \n",
      "485  This incident occurred about October of 1956 o...       12/7/2006  61.9919444 -146.768611  \n",
      "486  Formation of approximately 8 light gray metall...       4/16/2005  40.9166667  -74.172222  \n",
      "487                         Radar sighting and filming       1/28/1999   70.292489 -161.903334  \n"
     ]
    }
   ],
   "source": [
    "import pandas as pd\n",
    "import datetime as dt\n",
    "df = pd.read_csv('ufo_sighting_data.csv')\n",
    "df['Date_time']=pd.to_datetime(df['Date_time'],format=\"%d/%m/%Y %H:%M\",errors='coerce')\n",
    "time1 = dt.datetime.strptime('1950-10-10', '%Y-%m-%d')\n",
    "time2 = dt.datetime.strptime('1960-10-10', '%Y-%m-%d')\n",
    "#condition = df [df['Date_time'] > time1 and df['Date_time'] < time2]\n",
    "df1= df[(df['Date_time'] > time1) & (df['Date_time'] < time2) ]\n",
    "print(df1.head(10))\n"
   ]
  },
  {
   "cell_type": "markdown",
   "metadata": {},
   "source": [
    "## Q132. \n",
    "\n",
    "Write a Pandas program to extract the year, month, day, hour,  minute, second, and weekday from unidentified flying object (UFO)  reporting date.\n",
    "\n",
    "## Ans :\n",
    "code is given below"
   ]
  },
  {
   "cell_type": "code",
   "execution_count": 772,
   "metadata": {},
   "outputs": [
    {
     "name": "stdout",
     "output_type": "stream",
     "text": [
      "\n",
      "Year:\n",
      "0    1949.0\n",
      "1    1949.0\n",
      "2    1955.0\n",
      "3    1956.0\n",
      "4    1960.0\n",
      "Name: Date_time, dtype: float64\n",
      "\n",
      "Month:\n",
      "0    10.0\n",
      "1    10.0\n",
      "2    10.0\n",
      "3    10.0\n",
      "4    10.0\n",
      "Name: Date_time, dtype: float64\n",
      "\n",
      "Day:\n",
      "0    10.0\n",
      "1    10.0\n",
      "2    10.0\n",
      "3    10.0\n",
      "4    10.0\n",
      "Name: Date_time, dtype: float64\n",
      "\n",
      "Hour:\n",
      "0    20.0\n",
      "1    21.0\n",
      "2    17.0\n",
      "3    21.0\n",
      "4    20.0\n",
      "Name: Date_time, dtype: float64\n",
      "\n",
      "Minute:\n",
      "0    30.0\n",
      "1     0.0\n",
      "2     0.0\n",
      "3     0.0\n",
      "4     0.0\n",
      "Name: Date_time, dtype: float64\n",
      "\n",
      "Second:\n",
      "0    0.0\n",
      "1    0.0\n",
      "2    0.0\n",
      "3    0.0\n",
      "4    0.0\n",
      "Name: Date_time, dtype: float64\n",
      "\n",
      "Weekday:\n",
      "0       Monday\n",
      "1       Monday\n",
      "2       Monday\n",
      "3    Wednesday\n",
      "4       Monday\n",
      "Name: Date_time, dtype: object\n"
     ]
    }
   ],
   "source": [
    "import pandas as pd\n",
    "import datetime as dt\n",
    "df = pd.read_csv('ufo_sighting_data.csv')\n",
    "df['Date_time']=pd.to_datetime(df['Date_time'],format=\"%d/%m/%Y %H:%M\",errors='coerce')\n",
    "print(\"\\nYear:\")\n",
    "print(df.Date_time.dt.year.head())\n",
    "print(\"\\nMonth:\")\n",
    "print(df.Date_time.dt.month.head())\n",
    "print(\"\\nDay:\")\n",
    "print(df.Date_time.dt.day.head())\n",
    "print(\"\\nHour:\")\n",
    "print(df.Date_time.dt.hour.head())\n",
    "print(\"\\nMinute:\")\n",
    "print(df.Date_time.dt.minute.head())\n",
    "print(\"\\nSecond:\")\n",
    "print(df.Date_time.dt.second.head())\n",
    "print(\"\\nWeekday:\")\n",
    "print(df.Date_time.dt.weekday_name.head())"
   ]
  },
  {
   "cell_type": "markdown",
   "metadata": {},
   "source": [
    "## Q133. \n",
    "Write a pandas program to count year-country wise frequency of  reporting dates of the unidentified flying object(UFO).\n",
    "\n",
    "## Ans :\n",
    "code is given below"
   ]
  },
  {
   "cell_type": "code",
   "execution_count": 968,
   "metadata": {},
   "outputs": [
    {
     "data": {
      "text/plain": [
       "Year    country\n",
       "1910.0  us         1\n",
       "1920.0  us         1\n",
       "1929.0  us         1\n",
       "1931.0  us         1\n",
       "1939.0  us         2\n",
       "dtype: int64"
      ]
     },
     "execution_count": 968,
     "metadata": {},
     "output_type": "execute_result"
    }
   ],
   "source": [
    "import pandas as pd\n",
    "import datetime as dt\n",
    "df = pd.read_csv('ufo_sighting_data.csv')\n",
    "df['Date_time']=pd.to_datetime(df['Date_time'],format=\"%d/%m/%Y %H:%M\",errors='coerce')\n",
    "df['Year'] = df.Date_time.dt.year\n",
    "result = df.groupby(['Year', 'country']).size()\n",
    "result.head()"
   ]
  },
  {
   "cell_type": "markdown",
   "metadata": {},
   "source": [
    "## Q134.  \n",
    "Write a pandas program to get the difference (in days) between  \n",
    " documented date and reporting date of unidentified flying object   (UFO). \n",
    " \n",
    " ## Ans :\n",
    "code is given below"
   ]
  },
  {
   "cell_type": "code",
   "execution_count": 795,
   "metadata": {},
   "outputs": [
    {
     "name": "stdout",
     "output_type": "stream",
     "text": [
      "0    19922.0\n",
      "1    20520.0\n",
      "2    19095.0\n",
      "3    17264.0\n",
      "4    15808.0\n",
      "dtype: float64\n"
     ]
    }
   ],
   "source": [
    "import pandas as pd\n",
    "import datetime as dt\n",
    "df = pd.read_csv('ufo_sighting_data.csv')\n",
    "df['Date_time']=pd.to_datetime(df['Date_time'],format=\"%d/%m/%Y %H:%M\",errors='coerce')\n",
    "df['date_documented']=pd.to_datetime(df['date_documented'],format=\"%m/%d/%Y\",errors='coerce')\n",
    "result = (df['date_documented'] - df['Date_time']).apply(lambda x:x.days)\n",
    "print(result.head())"
   ]
  },
  {
   "cell_type": "markdown",
   "metadata": {},
   "source": [
    "## Q135. \n",
    "\n",
    "Write a pandas program to generate sequences of fixed-  frequency dates and time spans\n",
    "\n",
    " ## Ans :\n",
    "code is given below"
   ]
  },
  {
   "cell_type": "code",
   "execution_count": 799,
   "metadata": {},
   "outputs": [
    {
     "name": "stdout",
     "output_type": "stream",
     "text": [
      "DatetimeIndex(['2019-01-01', '2019-01-02', '2019-01-03', '2019-01-04', '2019-01-05'], dtype='datetime64[ns]', freq='D')\n"
     ]
    }
   ],
   "source": [
    "import pandas as pd \n",
    "print(pd.date_range('2019-01-01', periods=5, freq='D'))"
   ]
  },
  {
   "cell_type": "markdown",
   "metadata": {},
   "source": [
    "## Q136. \n",
    "Write a pandas program to manipulate and convert date times   with timezone information. \n",
    "\n",
    " ## Ans :\n",
    "code is given below"
   ]
  },
  {
   "cell_type": "code",
   "execution_count": 807,
   "metadata": {},
   "outputs": [
    {
     "name": "stdout",
     "output_type": "stream",
     "text": [
      "DatetimeIndex(['2019-01-01 00:00:00+01:00', '2019-01-01 01:00:00+01:00',\n",
      "               '2019-01-01 02:00:00+01:00', '2019-01-01 03:00:00+01:00',\n",
      "               '2019-01-01 04:00:00+01:00'],\n",
      "              dtype='datetime64[ns, CET]', freq='H')\n",
      "DatetimeIndex(['2018-12-31 23:00:00+00:00', '2019-01-01 00:00:00+00:00',\n",
      "               '2019-01-01 01:00:00+00:00', '2019-01-01 02:00:00+00:00',\n",
      "               '2019-01-01 03:00:00+00:00'],\n",
      "              dtype='datetime64[ns, UCT]', freq='H')\n"
     ]
    }
   ],
   "source": [
    "import pandas as pd \n",
    "ts = pd.date_range('2019-01-01', periods=5, freq='H')\n",
    "ts = ts.tz_localize('CET')\n",
    "print( ts)\n",
    "ts=ts.tz_convert('UCT')\n",
    "print(ts)"
   ]
  },
  {
   "cell_type": "markdown",
   "metadata": {},
   "source": [
    "## Q137.\n",
    "\n",
    "Write a pandas program to create the graphical analysis of UFO   (unidentified flying object)   Sightings year.\n",
    "\n",
    " ## Ans :\n",
    "code is given below"
   ]
  },
  {
   "cell_type": "code",
   "execution_count": 966,
   "metadata": {},
   "outputs": [
    {
     "data": {
      "text/plain": [
       "<matplotlib.axes._subplots.AxesSubplot at 0x1c851e386a0>"
      ]
     },
     "execution_count": 966,
     "metadata": {},
     "output_type": "execute_result"
    },
    {
     "data": {
      "image/png": "[encoded data removed]",
      "text/plain": [
       "<Figure size 1440x576 with 1 Axes>"
      ]
     },
     "metadata": {
      "needs_background": "light"
     },
     "output_type": "display_data"
    }
   ],
   "source": [
    "import pandas as pd\n",
    "import datetime as dt\n",
    "import matplotlib.pyplot as plt\n",
    "\n",
    "df = pd.read_csv('ufo_sighting_data.csv')\n",
    "df['Date_time']=pd.to_datetime(df['Date_time'],format=\"%d/%m/%Y %H:%M\",errors='coerce')\n",
    "df['Year'] = df.Date_time.dt.year\n",
    "result = df.groupby(['Year']).size()\n",
    "result.plot(kind='bar',figsize=(20,8) )\n"
   ]
  },
  {
   "cell_type": "markdown",
   "metadata": {},
   "source": [
    "## Q138. \n",
    "Write a pandas program to create a comparison of the top 10   years in which the (UFO) was sighted VS each Month.\n",
    "\n",
    "## Ans :\n",
    "code is given below"
   ]
  },
  {
   "cell_type": "code",
   "execution_count": 889,
   "metadata": {},
   "outputs": [
    {
     "name": "stdout",
     "output_type": "stream",
     "text": [
      "2012.0    3076\n",
      "2013.0    2858\n",
      "2011.0    2086\n",
      "2010.0    1941\n",
      "2008.0    1821\n",
      "2007.0    1763\n",
      "2009.0    1709\n",
      "2004.0    1663\n",
      "2005.0    1654\n",
      "2003.0    1474\n",
      "Name: Date_time, dtype: int64\n"
     ]
    },
    {
     "data": {
      "text/html": [
       "<div>\n",
       "<style scoped>\n",
       "    .dataframe tbody tr th:only-of-type {\n",
       "        vertical-align: middle;\n",
       "    }\n",
       "\n",
       "    .dataframe tbody tr th {\n",
       "        vertical-align: top;\n",
       "    }\n",
       "\n",
       "    .dataframe thead th {\n",
       "        text-align: right;\n",
       "    }\n",
       "</style>\n",
       "<table border=\"1\" class=\"dataframe\">\n",
       "  <thead>\n",
       "    <tr style=\"text-align: right;\">\n",
       "      <th>Date_time</th>\n",
       "      <th>1.0</th>\n",
       "      <th>2.0</th>\n",
       "      <th>3.0</th>\n",
       "      <th>4.0</th>\n",
       "      <th>5.0</th>\n",
       "      <th>6.0</th>\n",
       "      <th>7.0</th>\n",
       "      <th>8.0</th>\n",
       "      <th>9.0</th>\n",
       "      <th>10.0</th>\n",
       "      <th>11.0</th>\n",
       "      <th>12.0</th>\n",
       "    </tr>\n",
       "    <tr>\n",
       "      <th>Date_time</th>\n",
       "      <th></th>\n",
       "      <th></th>\n",
       "      <th></th>\n",
       "      <th></th>\n",
       "      <th></th>\n",
       "      <th></th>\n",
       "      <th></th>\n",
       "      <th></th>\n",
       "      <th></th>\n",
       "      <th></th>\n",
       "      <th></th>\n",
       "      <th></th>\n",
       "    </tr>\n",
       "  </thead>\n",
       "  <tbody>\n",
       "    <tr>\n",
       "      <th>2003.0</th>\n",
       "      <td>178</td>\n",
       "      <td>88</td>\n",
       "      <td>119</td>\n",
       "      <td>119</td>\n",
       "      <td>108</td>\n",
       "      <td>103</td>\n",
       "      <td>120</td>\n",
       "      <td>158</td>\n",
       "      <td>122</td>\n",
       "      <td>131</td>\n",
       "      <td>120</td>\n",
       "      <td>108</td>\n",
       "    </tr>\n",
       "    <tr>\n",
       "      <th>2004.0</th>\n",
       "      <td>151</td>\n",
       "      <td>103</td>\n",
       "      <td>134</td>\n",
       "      <td>145</td>\n",
       "      <td>150</td>\n",
       "      <td>122</td>\n",
       "      <td>153</td>\n",
       "      <td>139</td>\n",
       "      <td>137</td>\n",
       "      <td>137</td>\n",
       "      <td>145</td>\n",
       "      <td>147</td>\n",
       "    </tr>\n",
       "    <tr>\n",
       "      <th>2005.0</th>\n",
       "      <td>209</td>\n",
       "      <td>145</td>\n",
       "      <td>121</td>\n",
       "      <td>135</td>\n",
       "      <td>144</td>\n",
       "      <td>112</td>\n",
       "      <td>129</td>\n",
       "      <td>112</td>\n",
       "      <td>113</td>\n",
       "      <td>147</td>\n",
       "      <td>146</td>\n",
       "      <td>141</td>\n",
       "    </tr>\n",
       "    <tr>\n",
       "      <th>2007.0</th>\n",
       "      <td>194</td>\n",
       "      <td>128</td>\n",
       "      <td>154</td>\n",
       "      <td>174</td>\n",
       "      <td>128</td>\n",
       "      <td>130</td>\n",
       "      <td>134</td>\n",
       "      <td>126</td>\n",
       "      <td>118</td>\n",
       "      <td>185</td>\n",
       "      <td>130</td>\n",
       "      <td>162</td>\n",
       "    </tr>\n",
       "    <tr>\n",
       "      <th>2008.0</th>\n",
       "      <td>199</td>\n",
       "      <td>167</td>\n",
       "      <td>134</td>\n",
       "      <td>159</td>\n",
       "      <td>142</td>\n",
       "      <td>137</td>\n",
       "      <td>152</td>\n",
       "      <td>159</td>\n",
       "      <td>144</td>\n",
       "      <td>164</td>\n",
       "      <td>112</td>\n",
       "      <td>152</td>\n",
       "    </tr>\n",
       "    <tr>\n",
       "      <th>2009.0</th>\n",
       "      <td>191</td>\n",
       "      <td>137</td>\n",
       "      <td>125</td>\n",
       "      <td>189</td>\n",
       "      <td>145</td>\n",
       "      <td>110</td>\n",
       "      <td>126</td>\n",
       "      <td>153</td>\n",
       "      <td>131</td>\n",
       "      <td>125</td>\n",
       "      <td>130</td>\n",
       "      <td>147</td>\n",
       "    </tr>\n",
       "    <tr>\n",
       "      <th>2010.0</th>\n",
       "      <td>190</td>\n",
       "      <td>132</td>\n",
       "      <td>162</td>\n",
       "      <td>312</td>\n",
       "      <td>144</td>\n",
       "      <td>130</td>\n",
       "      <td>117</td>\n",
       "      <td>136</td>\n",
       "      <td>154</td>\n",
       "      <td>191</td>\n",
       "      <td>121</td>\n",
       "      <td>152</td>\n",
       "    </tr>\n",
       "    <tr>\n",
       "      <th>2011.0</th>\n",
       "      <td>242</td>\n",
       "      <td>169</td>\n",
       "      <td>216</td>\n",
       "      <td>279</td>\n",
       "      <td>163</td>\n",
       "      <td>146</td>\n",
       "      <td>124</td>\n",
       "      <td>146</td>\n",
       "      <td>143</td>\n",
       "      <td>146</td>\n",
       "      <td>167</td>\n",
       "      <td>145</td>\n",
       "    </tr>\n",
       "    <tr>\n",
       "      <th>2012.0</th>\n",
       "      <td>274</td>\n",
       "      <td>205</td>\n",
       "      <td>229</td>\n",
       "      <td>369</td>\n",
       "      <td>238</td>\n",
       "      <td>265</td>\n",
       "      <td>266</td>\n",
       "      <td>251</td>\n",
       "      <td>202</td>\n",
       "      <td>258</td>\n",
       "      <td>253</td>\n",
       "      <td>266</td>\n",
       "    </tr>\n",
       "    <tr>\n",
       "      <th>2013.0</th>\n",
       "      <td>305</td>\n",
       "      <td>192</td>\n",
       "      <td>274</td>\n",
       "      <td>380</td>\n",
       "      <td>254</td>\n",
       "      <td>263</td>\n",
       "      <td>202</td>\n",
       "      <td>197</td>\n",
       "      <td>197</td>\n",
       "      <td>192</td>\n",
       "      <td>182</td>\n",
       "      <td>220</td>\n",
       "    </tr>\n",
       "  </tbody>\n",
       "</table>\n",
       "</div>"
      ],
      "text/plain": [
       "Date_time  1.0   2.0   3.0   4.0   5.0   6.0   7.0   8.0   9.0   10.0  11.0  12.0\n",
       "Date_time                                                                        \n",
       "2003.0      178    88   119   119   108   103   120   158   122   131   120   108\n",
       "2004.0      151   103   134   145   150   122   153   139   137   137   145   147\n",
       "2005.0      209   145   121   135   144   112   129   112   113   147   146   141\n",
       "2007.0      194   128   154   174   128   130   134   126   118   185   130   162\n",
       "2008.0      199   167   134   159   142   137   152   159   144   164   112   152\n",
       "2009.0      191   137   125   189   145   110   126   153   131   125   130   147\n",
       "2010.0      190   132   162   312   144   130   117   136   154   191   121   152\n",
       "2011.0      242   169   216   279   163   146   124   146   143   146   167   145\n",
       "2012.0      274   205   229   369   238   265   266   251   202   258   253   266\n",
       "2013.0      305   192   274   380   254   263   202   197   197   192   182   220"
      ]
     },
     "execution_count": 889,
     "metadata": {},
     "output_type": "execute_result"
    }
   ],
   "source": [
    "df = pd.read_csv('ufo_sighting_data.csv')\n",
    "df['Date_time']=pd.to_datetime(df['Date_time'],format=\"%d/%m/%Y %H:%M\",errors='coerce')\n",
    "df['Year']=df.Date_time.dt.year\n",
    "df['Month']=df.Date_time.dt.month\n",
    "most_sightings_years = df['Date_time'].dt.year.value_counts().head(10)\n",
    "print(most_sightings_years)\n",
    "def is_top_years(year):\n",
    "    if year in most_sightings_years.index:\n",
    "        return year\n",
    "#print (list(filter(lambda x : x in most_sightings_years , df['Year'])))\n",
    "result =df.pivot_table( index=df['Date_time'].dt.year.apply(is_top_years) , columns=df['Date_time'].dt.month,aggfunc='size')\n",
    "result"
   ]
  },
  {
   "cell_type": "markdown",
   "metadata": {},
   "source": [
    "## Q139.\n",
    "\n",
    "Write a pandas program to create a heatmap (rectangular data as  a colour-encoded matrix) for comparison of top 10 years in   which  (UFO ) was sighted VS each Month. \n",
    "\n",
    "## Ans :\n",
    "code is given below\n"
   ]
  },
  {
   "cell_type": "code",
   "execution_count": 911,
   "metadata": {},
   "outputs": [
    {
     "data": {
      "image/png": "[encoded data removed]",
      "text/plain": [
       "<Figure size 720x576 with 2 Axes>"
      ]
     },
     "metadata": {
      "needs_background": "light"
     },
     "output_type": "display_data"
    }
   ],
   "source": [
    "import pandas as pd \n",
    "import numpy as np\n",
    "import seaborn as sns\n",
    "df = pd.read_csv('ufo_sighting_data.csv')\n",
    "df['Date_time']=pd.to_datetime(df['Date_time'],format=\"%d/%m/%Y %H:%M\",errors='coerce')\n",
    "df['Year']=df.Date_time.dt.year\n",
    "df['Month']=df.Date_time.dt.month\n",
    "most_sightings_years = df['Date_time'].dt.year.value_counts().head(10)\n",
    "def is_top_years(year):\n",
    "    if year in most_sightings_years.index:\n",
    "        return year\n",
    "#print (list(filter(lambda x : x in most_sightings_years , df['Year'])))\n",
    "result =df.pivot_table( index=df['Date_time'].dt.year.apply(is_top_years) , columns=df['Date_time'].dt.month,aggfunc='size')\n",
    "plt.figure(figsize=(10,8))\n",
    "ax = sns.heatmap(result)\n",
    "ax.set_xlabel('Month').set_size(20)\n",
    "ax.set_ylabel('Year').set_size(20)"
   ]
  },
  {
   "cell_type": "markdown",
   "metadata": {},
   "source": [
    "## Q140. \n",
    "\n",
    "Write a pandas program to create a Timewheel of Hour VS Year comparison of the top 10 years in which the (UFO) was sighted\n",
    "\n",
    "\n",
    "## Ans :\n",
    "code is given below"
   ]
  },
  {
   "cell_type": "code",
   "execution_count": 964,
   "metadata": {},
   "outputs": [
    {
     "name": "stdout",
     "output_type": "stream",
     "text": [
      "\n",
      "Comparison of the top 10 years in which the UFO was sighted vs each month:\n"
     ]
    },
    {
     "data": {
      "image/png": "[encoded data removed]",
      "text/plain": [
       "<Figure size 576x576 with 1 Axes>"
      ]
     },
     "metadata": {},
     "output_type": "display_data"
    }
   ],
   "source": [
    "import pandas as pd\n",
    "import matplotlib.pyplot as plt\n",
    "import matplotlib as mpl\n",
    "import matplotlib.cm as cm\n",
    "#Source: https://bit.ly/2XDY2XN\n",
    "df = pd.read_csv('ufo_sighting_data.csv')\n",
    "df['Date_time']=pd.to_datetime(df['Date_time'],format=\"%d/%m/%Y %H:%M\",errors='coerce')\n",
    "most_sightings_years = df['Date_time'].dt.year.value_counts().head(10)\n",
    "def is_top_years(year):\n",
    "    if year in most_sightings_years.index:\n",
    "        return year\n",
    "month_vs_year = df.pivot_table(columns=df['Date_time'].dt.hour,index=df['Date_time'].dt.year.apply(is_top_years),aggfunc='count',values='city')\n",
    "month_vs_year.index = month_vs_year.index.astype(int)\n",
    "month_vs_year.columns = month_vs_year.columns.astype(int)\n",
    "print(\"\\nComparison of the top 10 years in which the UFO was sighted vs each month:\")\n",
    "def pie_heatmap(table, cmap='coolwarm_r', vmin=None, vmax=None,inner_r=0.25, pie_args={}):\n",
    "    n, m = table.shape\n",
    "    vmin= table.min().min() if vmin is None else vmin\n",
    "    vmax= table.max().max() if vmax is None else vmax\n",
    "    centre_circle = plt.Circle((0,0),inner_r,edgecolor='black',facecolor='white',fill=True,linewidth=0.25)\n",
    "    plt.gcf().gca().add_artist(centre_circle)\n",
    "    norm = mpl.colors.Normalize(vmin=vmin, vmax=vmax)\n",
    "    cmapper = cm.ScalarMappable(norm=norm, cmap=cmap)\n",
    "\n",
    "    for i, (row_name, row) in enumerate(table.iterrows()):\n",
    "        labels = None if i > 0 else table.columns\n",
    "        wedges = plt.pie([1] * m,radius=inner_r+float(n-i)/n, colors=[cmapper.to_rgba(x) for x in row.values],\n",
    "           labels=labels, startangle=90, counterclock=False, wedgeprops={'linewidth':-1}, **pie_args)\n",
    "        plt.setp(wedges[0], edgecolor='grey',linewidth=1.5)\n",
    "        wedges = plt.pie([1], radius=inner_r+float(n-i-1)/n, colors=['w'], labels=[row_name], startangle=-90, wedgeprops={'linewidth':0})\n",
    "        plt.setp(wedges[0], edgecolor='grey',linewidth=1.5)\n",
    "plt.figure(figsize=(8,8))\n",
    "plt.title(\"Timewheel of Hour Vs Year\",y=1.08,fontsize=30)\n",
    "pie_heatmap(month_vs_year, vmin=-20,vmax=80,inner_r=0.2)\n"
   ]
  },
  {
   "attachments": {
    "sampleline.JPG": {
     "image/jpeg": "[encoded data removed]"
    }
   },
   "cell_type": "markdown",
   "metadata": {},
   "source": [
    "## Q141.\n",
    "Write a python program to draw the line using given axis values   with the suitable label in the x-axis, y-axis, and a title. \n",
    "![sampleline.JPG](attachment:sampleline.JPG)\n",
    "\n",
    "## Ans :\n",
    "code is given below"
   ]
  },
  {
   "cell_type": "code",
   "execution_count": 917,
   "metadata": {},
   "outputs": [
    {
     "data": {
      "image/png": "[encoded data removed]",
      "text/plain": [
       "<Figure size 432x288 with 1 Axes>"
      ]
     },
     "metadata": {
      "needs_background": "light"
     },
     "output_type": "display_data"
    }
   ],
   "source": [
    "import matplotlib.pyplot as plt\n",
    "x = [1,2,3]\n",
    "y = [2,4,1]\n",
    "plt.plot(x, y)\n",
    "# Set the x axis label of the current axis.\n",
    "plt.xlabel('x - axis')\n",
    "# Set the y axis label of the current axis.\n",
    "plt.ylabel('y - axis')\n",
    "# Set a title \n",
    "plt.title('Sample graph!')\n",
    "# Display a figure.\n",
    "plt.show()"
   ]
  },
  {
   "attachments": {
    "multiline.JPG": {
     "image/jpeg": "[encoded data removed]"
    }
   },
   "cell_type": "markdown",
   "metadata": {},
   "source": [
    "## Q 142. \n",
    "\n",
    "Write a python program to draw the line charts of the financial   data of the Alphabet Inc., between October.           3, 2016 to October 7 2016.  \n",
    "\n",
    "Sample Financial data (fdata.csv)- Date,Open,High,Low,Close 10-03-16,774.25,776.065002,769.5,772.559998 10-04-16 , 776.030029, 778.710022,772.890015,776.429993 \n",
    "10-05-16 , 779.309998, 782.070007,775.650024,776.469971 10-06-16 , 779 , 780.47998,775.539978,776.859985 10-07-16,779.659973, 779.659973 , 770.75 , 775.080017 The code snippet gives the output shown in the screenshot: \n",
    "\n",
    "![multiline.JPG](attachment:multiline.JPG)\n",
    "\n",
    "## Ans :\n",
    "code is given below"
   ]
  },
  {
   "cell_type": "code",
   "execution_count": 956,
   "metadata": {},
   "outputs": [
    {
     "name": "stdout",
     "output_type": "stream",
     "text": [
      "                  Open        High         Low       Close\n",
      "Date                                                      \n",
      "2016-10-03  774.250000  776.065002  769.500000  772.559998\n",
      "2016-10-04  776.030029  778.710022  772.890015  776.429993\n",
      "2016-10-05  779.309998  782.070007  775.650024  776.469971\n",
      "2016-10-06  779.000000  780.479980  775.539978  776.859985\n",
      "2016-10-07  779.659973  779.659973  770.750000  775.080017\n"
     ]
    },
    {
     "data": {
      "image/png": "[encoded data removed]",
      "text/plain": [
       "<Figure size 432x288 with 1 Axes>"
      ]
     },
     "metadata": {
      "needs_background": "light"
     },
     "output_type": "display_data"
    }
   ],
   "source": [
    "import matplotlib.pyplot as plt\n",
    "import pandas as pd\n",
    "df = pd.read_csv('fdata.csv', sep=',', parse_dates=True, index_col=0)\n",
    "df.plot()\n",
    "plt.show()"
   ]
  },
  {
   "attachments": {
    "line_plot.JPG": {
     "image/jpeg": "[encoded data removed]"
    }
   },
   "cell_type": "markdown",
   "metadata": {},
   "source": [
    "## Q143. \n",
    "\n",
    "Write a Python program to plot two or more lines on same plot   with the suitable legends of each line. The code snippet gives the output shown in the screenshot\n",
    "![line_plot.JPG](attachment:line_plot.JPG)\n",
    "\n",
    "## Ans :\n",
    "code is given below"
   ]
  },
  {
   "cell_type": "code",
   "execution_count": 919,
   "metadata": {},
   "outputs": [
    {
     "data": {
      "image/png": "[encoded data removed]",
      "text/plain": [
       "<Figure size 432x288 with 1 Axes>"
      ]
     },
     "metadata": {
      "needs_background": "light"
     },
     "output_type": "display_data"
    }
   ],
   "source": [
    "import matplotlib.pyplot as plt\n",
    "# line 1 points\n",
    "x1 = [10,20,30]\n",
    "y1 = [20,40,10]\n",
    "# plotting the line 1 points \n",
    "plt.plot(x1, y1, label = \"line 1\")\n",
    "# line 2 points\n",
    "x2 = [10,20,30]\n",
    "y2 = [40,10,30]\n",
    "# plotting the line 2 points \n",
    "plt.plot(x2, y2, label = \"line 2\")\n",
    "plt.xlabel('x - axis')\n",
    "# Set the y axis label of the current axis.\n",
    "plt.ylabel('y - axis')\n",
    "# Set a title of the current axes.\n",
    "plt.title('Two or more lines on same plot with suitable legends ')\n",
    "# show a legend on the plot\n",
    "plt.legend()\n",
    "# Display a figure.\n",
    "plt.show()"
   ]
  },
  {
   "attachments": {
    "lang_pop_bar.JPG": {
     "image/jpeg": "[encoded data removed]"
    }
   },
   "cell_type": "markdown",
   "metadata": {},
   "source": [
    "## Q144. \n",
    "Write a python programming to display a bar chart of the   popularity of programming languages.  \n",
    " \n",
    "Sample data: programming languages- Java, Python, PHP, JavaScript, C#, C++ Popularity- 22.2, 17.6, 8.8, 8, 7.7 , 6.7 \n",
    "![lang_pop_bar.JPG](attachment:lang_pop_bar.JPG)\n",
    "\n",
    "\n",
    "## Ans :\n",
    "code is given below"
   ]
  },
  {
   "cell_type": "code",
   "execution_count": 953,
   "metadata": {},
   "outputs": [
    {
     "data": {
      "image/png": "[encoded data removed]",
      "text/plain": [
       "<Figure size 432x288 with 1 Axes>"
      ]
     },
     "metadata": {
      "needs_background": "light"
     },
     "output_type": "display_data"
    }
   ],
   "source": [
    "import matplotlib.pyplot as plt\n",
    "x = ['Java', 'Python', 'PHP', 'JavaScript', 'C#', 'C++']\n",
    "popularity = [22.2, 17.6, 8.8, 8, 7.7, 6.7]\n",
    "x_pos = [i for i, _ in enumerate(x)]\n",
    "\n",
    "plt.bar(x_pos, popularity, color=(0.4, 0.6, 0.8, 1.0), edgecolor='blue')\n",
    "\n",
    "plt.xlabel(\"Languages\")\n",
    "plt.ylabel(\"Popularity\")\n",
    "plt.title(\"PopularitY of Programming Language\\n\" + \"Worldwide, Oct 2017 compared to a year ago\")\n",
    "plt.xticks(x_pos, x)\n",
    "# Turn on the grid\n",
    "plt.minorticks_on()\n",
    "plt.grid(which='major', linestyle='-', linewidth='0.5', color='red')\n",
    "# Customize the minor grid\n",
    "plt.grid(which='minor', linestyle=':', linewidth='0.5', color='black')\n",
    "plt.show()"
   ]
  },
  {
   "attachments": {
    "lang_pop_bar_hor.JPG": {
     "image/jpeg": "[encoded data removed]"
    }
   },
   "cell_type": "markdown",
   "metadata": {},
   "source": [
    "## Q145. \n",
    "Write a python programming to display a horizontal bar chart of   the popularity of programming languages.             \n",
    "\n",
    "\n",
    "Sample data: programming languages- Java, Python, PHP, JavaScript, C#, C++ Popularity- 22.2, 17.6, 8.8, 8, 7.7 , 6.7\n",
    "\n",
    "![lang_pop_bar_hor.JPG](attachment:lang_pop_bar_hor.JPG)\n",
    "\n",
    "## Ans :\n",
    "code is given below\n"
   ]
  },
  {
   "cell_type": "code",
   "execution_count": 921,
   "metadata": {},
   "outputs": [
    {
     "data": {
      "image/png": "[encoded data removed]",
      "text/plain": [
       "<Figure size 432x288 with 1 Axes>"
      ]
     },
     "metadata": {
      "needs_background": "light"
     },
     "output_type": "display_data"
    }
   ],
   "source": [
    "import matplotlib.pyplot as plt\n",
    "x = ['Java', 'Python', 'PHP', 'JS', 'C#', 'C++']\n",
    "popularity = [22.2, 17.6, 8.8, 8, 7.7, 6.7]\n",
    "x_pos = [i for i, _ in enumerate(x)]\n",
    "plt.barh(x_pos, popularity, color='green')\n",
    "plt.xlabel(\"Popularity\")\n",
    "plt.ylabel(\"Languages\")\n",
    "plt.title(\"PopularitY of Programming Language\\n\" + \"Worldwide, Oct 2017 compared to a year ago\")\n",
    "plt.yticks(x_pos, x)\n",
    "# Turn on the grid\n",
    "plt.minorticks_on()\n",
    "plt.grid(which='major', linestyle='-', linewidth='0.5', color='red')\n",
    "# Customize the minor grid\n",
    "plt.grid(which='minor', linestyle=':', linewidth='0.5', color='black')\n",
    "plt.show()"
   ]
  },
  {
   "attachments": {
    "lang_pop_bar.JPG": {
     "image/jpeg": "[encoded data removed]"
    }
   },
   "cell_type": "markdown",
   "metadata": {},
   "source": [
    "## Q146.  \n",
    "\n",
    "Write a python programming to display a bar chart of the   Popularity of programming languages. Increase bottom margin\n",
    "\n",
    "sample data:\n",
    "programming languages: Java, Python, PHP, JavaScript, C#, C++ Popularity: 22.2, 17.6, 8.8, 8, 7.7 , 6.7 \n",
    "\n",
    "![lang_pop_bar.JPG](attachment:lang_pop_bar.JPG)\n",
    "## Ans :\n",
    "code is given below"
   ]
  },
  {
   "cell_type": "code",
   "execution_count": 965,
   "metadata": {},
   "outputs": [
    {
     "data": {
      "image/png": "[encoded data removed]",
      "text/plain": [
       "<Figure size 432x288 with 1 Axes>"
      ]
     },
     "metadata": {
      "needs_background": "light"
     },
     "output_type": "display_data"
    }
   ],
   "source": [
    "import matplotlib.pyplot as plt\n",
    "x = ['Java', 'Python', 'PHP', 'JavaScript', 'C#', 'C++']\n",
    "popularity = [22.2, 17.6, 8.8, 8, 7.7, 6.7]\n",
    "x_pos = [i for i, _ in enumerate(x)]\n",
    "plt.bar(x_pos, popularity, color=(0.4, 0.6, 0.8, 1.0))\n",
    "plt.xlabel(\"Languages\")\n",
    "plt.ylabel(\"Popularity\")\n",
    "plt.title(\"PopularitY of Programming Language\\n\" + \"Worldwide, Oct 2017 compared to a year ago\")\n",
    "# Rotation of the bars names\n",
    "plt.xticks(x_pos, x, rotation=90)\n",
    "# Custom the subplot layout\n",
    "plt.subplots_adjust(bottom=0.4, top=.8)\n",
    "# Turn on the grid\n",
    "plt.minorticks_on()\n",
    "plt.grid(which='major', linestyle='-', linewidth='0.5', color='red')\n",
    "# Customize the minor grid\n",
    "plt.grid(which='minor', linestyle=':', linewidth='0.5', color='black')\n",
    "plt.show()"
   ]
  },
  {
   "attachments": {
    "barplot.JPG": {
     "image/jpeg": "[encoded data removed]"
    }
   },
   "cell_type": "markdown",
   "metadata": {},
   "source": [
    "## Q147. \n",
    "Write a python program to create the bar plot from a DataFrame.  \n",
    " \n",
    "a b c  d  e 2 4,8,5,7,6 4 2,3,4,2,6 6 4,7,4,7, 8 8 2,6,4,8, 6 10 2,4,3,3, 2 \n",
    "![barplot.JPG](attachment:barplot.JPG)\n",
    "\n",
    "## Ans :\n",
    "code is given below"
   ]
  },
  {
   "cell_type": "code",
   "execution_count": 947,
   "metadata": {},
   "outputs": [
    {
     "data": {
      "image/png": "[encoded data removed]",
      "text/plain": [
       "<Figure size 432x288 with 1 Axes>"
      ]
     },
     "metadata": {
      "needs_background": "light"
     },
     "output_type": "display_data"
    }
   ],
   "source": [
    "from pandas import DataFrame\n",
    "import matplotlib.pyplot as plt\n",
    "import numpy as np\n",
    "\n",
    "a=np.array([[4,8,5,7,6],[2,3,4,2,6],[4,7,4,7,8],[2,6,4,8,6],[2,4,3,3,2]])\n",
    "df=DataFrame(a, columns=['a','b','c','d','e'], index=[2,4,6,8,10])\n",
    "\n",
    "df.plot(kind='bar')\n",
    "# Turn on the grid\n",
    "plt.minorticks_on()\n",
    "plt.grid(which='major', linestyle='-', linewidth='0.5', color='green')\n",
    "plt.grid(which='minor', linestyle=':', linewidth='0.5', color='black')\n",
    "\n",
    "plt.show()"
   ]
  },
  {
   "attachments": {
    "maths_scored.JPG": {
     "image/jpeg": "[encoded data removed]"
    }
   },
   "cell_type": "markdown",
   "metadata": {},
   "source": [
    "## Q148.\n",
    "Write a python program to draw the scatter plot comparing two subject marks of Mathematics and Science. Use marks of 10 students.               \n",
    "Sample data: \n",
    "Test Data- math_marks = [88, 92 , 80, 89, 100, 80, 60, 100, 80, 34] science_marks = [35, 79, 79 , 48, 100, 88, 32, 45, 20, 30] marks_range = [10, 20, 30, 40, 50, 60, 70, 80, 90, 100] \n",
    "\n",
    "![maths_scored.JPG](attachment:maths_scored.JPG)\n",
    "## Ans :\n",
    "code is given below"
   ]
  },
  {
   "cell_type": "code",
   "execution_count": 924,
   "metadata": {},
   "outputs": [
    {
     "data": {
      "image/png": "[encoded data removed]",
      "text/plain": [
       "<Figure size 432x288 with 1 Axes>"
      ]
     },
     "metadata": {
      "needs_background": "light"
     },
     "output_type": "display_data"
    }
   ],
   "source": [
    "import matplotlib.pyplot as plt\n",
    "import pandas as pd\n",
    "math_marks = [88, 92, 80, 89, 100, 80, 60, 100, 80, 34]\n",
    "science_marks = [35, 79, 79, 48, 100, 88, 32, 45, 20, 30]\n",
    "marks_range = [10, 20, 30, 40, 50, 60, 70, 80, 90, 100]\n",
    "plt.scatter(marks_range, math_marks, label='Math marks', color='r')\n",
    "plt.scatter(marks_range, science_marks, label='Science marks', color='g')\n",
    "plt.title('Scatter Plot')\n",
    "plt.xlabel('Marks Range')\n",
    "plt.ylabel('Marks Scored')\n",
    "plt.legend()\n",
    "plt.show()"
   ]
  },
  {
   "attachments": {
    "wt_ht_scatter_plot.JPG": {
     "image/jpeg": "[encoded data removed]"
    }
   },
   "cell_type": "markdown",
   "metadata": {},
   "source": [
    "## Q149. \n",
    "\n",
    "Write a python program to draw the scatter plot for three different  \n",
    " groups comparing weights and heights\n",
    " \n",
    " The output shown in the screenshot: \n",
    " ![wt_ht_scatter_plot.JPG](attachment:wt_ht_scatter_plot.JPG)\n",
    " \n",
    " ## Ans :\n",
    "code is given below"
   ]
  },
  {
   "cell_type": "code",
   "execution_count": 939,
   "metadata": {},
   "outputs": [
    {
     "data": {
      "image/png": "[encoded data removed]",
      "text/plain": [
       "<Figure size 432x288 with 1 Axes>"
      ]
     },
     "metadata": {
      "needs_background": "light"
     },
     "output_type": "display_data"
    }
   ],
   "source": [
    "import matplotlib.pyplot as plt\n",
    "import numpy as np \n",
    "weight1=[67,57.2,59.6,59.64,55.8,61.2,60.45,61,56.23,56]\n",
    "height1=[101.7,197.6,98.3,125.1,113.7,157.7,136,148.9,125.3,114.9] \n",
    "weight2=[61.9,64,62.1,64.2,62.3,65.4,62.4,61.4,62.5,63.6]\n",
    "height2=[152.8,155.3,135.1,125.2,151.3,135,182.2,195.9,165.1,125.1] \n",
    "weight3=[68.2,67.2,68.4,68.7,71,71.3,70.8,70,71.1,71.7]\n",
    "height3=[165.8,170.9,192.8,135.4,161.4,136.1,167.1,235.1,181.1,177.3]\n",
    "plt.scatter(weight2, height2, marker='*', color='green')\n",
    "plt.scatter(weight3, height3, marker='*', color='blue')\n",
    "plt.xlabel('weight', fontsize=16)\n",
    "plt.ylabel('height', fontsize=16)\n",
    "plt.title('Group wise Weight vs Height scatter plot',fontsize=20)\n",
    "plt.show()"
   ]
  },
  {
   "attachments": {
    "sea_level.JPG": {
     "image/jpeg": "[encoded data removed]"
    }
   },
   "cell_type": "markdown",
   "metadata": {},
   "source": [
    "## Q150. \n",
    "\n",
    "Write a python program to draw a scatter plot to find sea-level  \n",
    " rise in past 100 years. \n",
    " \n",
    "The output shown in the screenshot:\n",
    "![sea_level.JPG](attachment:sea_level.JPG)\n",
    "\n",
    " ## Ans :\n",
    "code is given below:"
   ]
  },
  {
   "cell_type": "code",
   "execution_count": 936,
   "metadata": {},
   "outputs": [
    {
     "data": {
      "image/png": "[encoded data removed]",
      "text/plain": [
       "<Figure size 432x288 with 1 Axes>"
      ]
     },
     "metadata": {
      "needs_background": "light"
     },
     "output_type": "display_data"
    }
   ],
   "source": [
    "import matplotlib.pyplot as plt\n",
    "import pandas as pd\n",
    "data = pd.read_csv('data.csv')\n",
    "year = data['year']\n",
    "sea_levels = data['CSIRO_sea_level']\n",
    "plt.scatter(year, sea_levels,edgecolors='g')\n",
    "plt.xlabel('Year')\n",
    "plt.ylabel('Sea Level (inches)')\n",
    "plt.title('Rise in Sealevel')\n",
    "plt.show()"
   ]
  },
  {
   "cell_type": "markdown",
   "metadata": {},
   "source": []
  }
 ],
 "metadata": {
  "kernelspec": {
   "display_name": "Python 3",
   "language": "python",
   "name": "python3"
  },
  "language_info": {
   "codemirror_mode": {
    "name": "ipython",
    "version": 3
   },
   "file_extension": ".py",
   "mimetype": "text/x-python",
   "name": "python",
   "nbconvert_exporter": "python",
   "pygments_lexer": "ipython3",
   "version": "3.7.3"
  }
 },
 "nbformat": 4,
 "nbformat_minor": 2
}
