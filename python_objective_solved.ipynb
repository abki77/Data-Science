{
 "cells": [
  {
   "cell_type": "markdown",
   "metadata": {},
   "source": [
    "# Solutions to Python Objective Questions:"
   ]
  },
  {
   "cell_type": "markdown",
   "metadata": {},
   "source": [
    "1. a   \n",
    "2. b    \n",
    "3. b    \n",
    "4. d     \n",
    "5. d   \n",
    "6. c    \n",
    "7. d    \n",
    "8. b\n",
    "9. d\n",
    "10. b"
   ]
  },
  {
   "cell_type": "markdown",
   "metadata": {},
   "source": [
    "11. c # Note :answer in the option is given as a =2 but the correct answer is a =20 which is not there in option \n",
    "12. a\n",
    "13. c  \n",
    "14. b\n",
    "15. b \n",
    "16. c \n",
    "17. b  \n",
    "18. d    \n",
    "19. b    \n",
    "20. c"
   ]
  },
  {
   "cell_type": "markdown",
   "metadata": {},
   "source": [
    "21. b \n",
    "22. b   \n",
    "23. d\n",
    "24. c   \n",
    "25. a   \n",
    "26. c   \n",
    "27. b   \n",
    "28. c     \n",
    "29. b      \n",
    "30. c"
   ]
  },
  {
   "cell_type": "markdown",
   "metadata": {},
   "source": [
    "31. b   \n",
    "32. b   \n",
    "33. b  \n",
    "34. b   \n",
    "35. c   \n",
    "36. a    \n",
    "37. c    \n",
    "38. a    \n",
    "39. b      \n",
    "40. c"
   ]
  },
  {
   "cell_type": "markdown",
   "metadata": {},
   "source": [
    "41. a     \n",
    "42. a    \n",
    "43. c   \n",
    "44. b   \n",
    "45. c    \n",
    "46. c    \n",
    "47. d    \n",
    "48. a     \n",
    "49. c      \n",
    "50. c"
   ]
  },
  {
   "cell_type": "markdown",
   "metadata": {},
   "source": [
    "51. a   \n",
    "52. b     \n",
    "53. b   \n",
    "54. c    \n",
    "55. c    \n",
    "56. a    \n",
    "57. b    \n",
    "58. root/animals/feline    \n",
    "59. open('jack_russell.png', 'rb')     \n",
    "60. root/animals/ursine/bears.gif"
   ]
  },
  {
   "cell_type": "markdown",
   "metadata": {},
   "source": [
    "61. c     \n",
    "62. it can't be given as file is not part of that folder.    \n",
    "63. c   \n",
    "64. a    \n",
    "65. b    \n",
    "66. b    \n",
    "67. a    \n",
    "68. d     \n",
    "69. a      \n",
    "70. a"
   ]
  },
  {
   "cell_type": "markdown",
   "metadata": {},
   "source": [
    "71. c   \n",
    "72. b     \n",
    "73. a   \n",
    "74. d    \n",
    "75. b    \n",
    "76. a    \n",
    "77. a    \n",
    "78. d     \n",
    "79. b      \n",
    "80. d"
   ]
  },
  {
   "cell_type": "markdown",
   "metadata": {},
   "source": [
    "81. c    \n",
    "82. a    \n",
    "83. a   \n",
    "84. c   \n",
    "85. d   \n",
    "86. a    \n",
    "87. b    \n",
    "88. d    \n",
    "89. c     \n",
    "90. c "
   ]
  },
  {
   "cell_type": "markdown",
   "metadata": {},
   "source": [
    "91. b   \n",
    "92. c    \n",
    "93. a  \n",
    "94. d    \n",
    "95. b    \n",
    "96. d    \n",
    "97. c    \n",
    "98. c    \n",
    "99. b     \n",
    "100. a"
   ]
  },
  {
   "cell_type": "markdown",
   "metadata": {},
   "source": [
    "101. c  \n",
    "102. a    \n",
    "103. a  \n",
    "104. d   \n",
    "105. b  \n",
    "106. a   \n",
    "107. a   \n",
    "108. b    \n",
    "109. a     \n",
    "110. d"
   ]
  },
  {
   "cell_type": "markdown",
   "metadata": {},
   "source": [
    "111. c    \n",
    "112. b   \n",
    "113. a \n",
    "114. b   \n",
    "115. c \n",
    "116. b  \n",
    "117. b  \n",
    "118. c   \n",
    "119. a    \n",
    "120. a"
   ]
  },
  {
   "cell_type": "markdown",
   "metadata": {},
   "source": [
    "121. c   \n",
    "122. d   \n",
    "123. a \n",
    "124. a   \n",
    "125. c   \n",
    "126. a   \n",
    "127. b   \n",
    "128. c    \n",
    "129. a    \n",
    "130. a"
   ]
  },
  {
   "cell_type": "markdown",
   "metadata": {},
   "source": [
    "131. a   \n",
    "132. a    \n",
    "133. a  \n",
    "134. a   \n",
    "135. c   \n",
    "136. b   \n",
    "137. b   \n",
    "138. a   \n",
    "139. b     \n",
    "140. a"
   ]
  },
  {
   "cell_type": "markdown",
   "metadata": {},
   "source": [
    "141. b \n",
    "142. d   \n",
    "143. d \n",
    "144. a   \n",
    "145. a   \n",
    "146. a   \n",
    "147. b   \n",
    "148. a   \n",
    "149. b    \n",
    "150. a"
   ]
  },
  {
   "cell_type": "code",
   "execution_count": null,
   "metadata": {},
   "outputs": [],
   "source": []
  }
 ],
 "metadata": {
  "kernelspec": {
   "display_name": "Python 3",
   "language": "python",
   "name": "python3"
  },
  "language_info": {
   "codemirror_mode": {
    "name": "ipython",
    "version": 3
   },
   "file_extension": ".py",
   "mimetype": "text/x-python",
   "name": "python",
   "nbconvert_exporter": "python",
   "pygments_lexer": "ipython3",
   "version": "3.7.3"
  }
 },
 "nbformat": 4,
 "nbformat_minor": 2
}
