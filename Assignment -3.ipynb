{
 "cells": [
  {
   "cell_type": "markdown",
   "metadata": {},
   "source": [
    "# Task 1:\n",
    "\n",
    "Q1: Write a function to compute 5/0 and use try/except to catch the exceptions.\n",
    "\n",
    "Ans: Code and Output is given below :"
   ]
  },
  {
   "cell_type": "code",
   "execution_count": 7,
   "metadata": {},
   "outputs": [
    {
     "name": "stdout",
     "output_type": "stream",
     "text": [
      "exception happened :  ZeroDivisionError\n",
      "exception arguments:  ('division by zero',)\n",
      "code completed\n"
     ]
    }
   ],
   "source": [
    "try : \n",
    "    5/0\n",
    "except Exception as ex:\n",
    "    print(\"exception happened : \",  type(ex).__name__ )\n",
    "    print(\"exception arguments: \",  ex.args )\n",
    "    \n",
    "finally:\n",
    "    print(\"code completed\")"
   ]
  },
  {
   "cell_type": "markdown",
   "metadata": {},
   "source": [
    "Q 2: \n",
    "Implement a Python program to generate all sentences where subject is in \n",
    "[\"Americans\",\"Indians\"] and verb is in [\"Play\", \"watch\"] \n",
    "and the object is in [\"Baseball\",\"cricket\"].\n",
    "\n",
    "Hint: Subject,Verb and Object should be declared in the program as shown below.\n",
    "subjects=[\"Americans \",\"Indians\"]\n",
    "verbs=[\"play\",\"watch\"]\n",
    "objects=[\"Baseball\",\"Cricket\"]\n",
    "\n",
    "Output should come as below:\n",
    "Americans play Baseball.\n",
    "Americans play Cricket.\n",
    "Americans watch Baseball.\n",
    "Americans watch Cricket.\n",
    "Indians play Baseball.\n",
    "Indians play Cricket.\n",
    "Indians watch Baseball.\n",
    "Indians watch Cricket.\n",
    "\n",
    "Ans : Code and ouput is given  below :"
   ]
  },
  {
   "cell_type": "code",
   "execution_count": 8,
   "metadata": {},
   "outputs": [
    {
     "name": "stdout",
     "output_type": "stream",
     "text": [
      "Americans  Play Baseball\n",
      "Americans  Play cricket\n",
      "Americans  watch Baseball\n",
      "Americans  watch cricket\n",
      "Indians  Play Baseball\n",
      "Indians  Play cricket\n",
      "Indians  watch Baseball\n",
      "Indians  watch cricket\n"
     ]
    }
   ],
   "source": [
    "for i in [\"Americans\",\"Indians\"]:\n",
    "    for j in [\"Play\", \"watch\"] :\n",
    "        for k in [\"Baseball\",\"cricket\"]:\n",
    "            print(i + \" \" + \" \" + j + \" \"+ k)"
   ]
  },
  {
   "cell_type": "markdown",
   "metadata": {},
   "source": [
    "# Task 2 :\n",
    "1.\n",
    "Write a function so that the columns of the output matrix are powers of the input vector.\n",
    "The order of the powers is determined by the increasing boolean argument. Specifically, when\n",
    "increasing is False, the i-th output column is the input vector raised element-wise to the power\n",
    "of N - i - 1.\n",
    "HINT: Such a matrix with a geometric progression in each row is named for Alexandre-\n",
    "Theophile Vandermonde.\n",
    "\n",
    "Ans : code and output is given below :"
   ]
  },
  {
   "cell_type": "code",
   "execution_count": 31,
   "metadata": {},
   "outputs": [
    {
     "data": {
      "text/plain": [
       "array([[   1,    2,    4,    8],\n",
       "       [   1,    9,   81,  729],\n",
       "       [   1,    5,   25,  125],\n",
       "       [   1,   10,  100, 1000],\n",
       "       [   1,   13,  169, 2197]])"
      ]
     },
     "execution_count": 31,
     "metadata": {},
     "output_type": "execute_result"
    }
   ],
   "source": [
    "import numpy as  np\n",
    "def matrix_creation( vector , power_value): # power value indicate the power till geometric progression should be created\n",
    "    row = []\n",
    "    for i in range(len(vector)):\n",
    "        for k in range(power_value+1):\n",
    "            row.append(vector[i]**k)\n",
    "    array1 = np.array(row).reshape(len(vector), power_value+1)\n",
    "    return array1\n",
    "      \n",
    "input_vector = [2,9,5,10,13]\n",
    "power_value =3 \n",
    "matrix_creation(input_vector, power_value)\n",
    "\n"
   ]
  },
  {
   "cell_type": "code",
   "execution_count": null,
   "metadata": {},
   "outputs": [],
   "source": []
  }
 ],
 "metadata": {
  "kernelspec": {
   "display_name": "Python 3",
   "language": "python",
   "name": "python3"
  },
  "language_info": {
   "codemirror_mode": {
    "name": "ipython",
    "version": 3
   },
   "file_extension": ".py",
   "mimetype": "text/x-python",
   "name": "python",
   "nbconvert_exporter": "python",
   "pygments_lexer": "ipython3",
   "version": "3.7.3"
  }
 },
 "nbformat": 4,
 "nbformat_minor": 2
}
